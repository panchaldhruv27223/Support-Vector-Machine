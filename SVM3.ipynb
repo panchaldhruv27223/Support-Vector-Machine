{
 "cells": [
  {
   "cell_type": "code",
   "execution_count": 1,
   "id": "3b21c18e-b393-4fb8-b1e5-3037ea249eca",
   "metadata": {},
   "outputs": [],
   "source": [
    "import pandas as pd\n",
    "import numpy as np \n",
    "import seaborn as sns \n",
    "import matplotlib.pyplot as plt"
   ]
  },
  {
   "cell_type": "code",
   "execution_count": 2,
   "id": "a627e406-2160-4834-b410-9ccabd9eaf3b",
   "metadata": {},
   "outputs": [],
   "source": [
    "from sklearn.model_selection import train_test_split, GridSearchCV\n",
    "from sklearn.svm import SVR\n",
    "from sklearn.metrics import r2_score, mean_absolute_error, mean_squared_error"
   ]
  },
  {
   "cell_type": "markdown",
   "id": "e5e63ce0-6516-4c3b-bc84-4422885884b3",
   "metadata": {},
   "source": [
    "## Q1. In order to predict house price based on several characteristics, such as location, square footage, number of bedrooms, etc., you are developing an SVM regression model. Which regression metric in this situation would be the best to employ?\n",
    "    \n",
    "    Dataset link: https://drive.google.com/file/d/1Z9oLpmt6IDRNw7IeNcHYTGeJRYypRSC0/view?usp=share_link"
   ]
  },
  {
   "cell_type": "code",
   "execution_count": 21,
   "id": "b9f8a436-17b2-4f0f-885e-d0de548b1e27",
   "metadata": {},
   "outputs": [
    {
     "data": {
      "text/html": [
       "<div>\n",
       "<style scoped>\n",
       "    .dataframe tbody tr th:only-of-type {\n",
       "        vertical-align: middle;\n",
       "    }\n",
       "\n",
       "    .dataframe tbody tr th {\n",
       "        vertical-align: top;\n",
       "    }\n",
       "\n",
       "    .dataframe thead th {\n",
       "        text-align: right;\n",
       "    }\n",
       "</style>\n",
       "<table border=\"1\" class=\"dataframe\">\n",
       "  <thead>\n",
       "    <tr style=\"text-align: right;\">\n",
       "      <th></th>\n",
       "      <th>area_type</th>\n",
       "      <th>availability</th>\n",
       "      <th>location</th>\n",
       "      <th>size</th>\n",
       "      <th>society</th>\n",
       "      <th>total_sqft</th>\n",
       "      <th>bath</th>\n",
       "      <th>balcony</th>\n",
       "      <th>price</th>\n",
       "    </tr>\n",
       "  </thead>\n",
       "  <tbody>\n",
       "    <tr>\n",
       "      <th>0</th>\n",
       "      <td>Super built-up  Area</td>\n",
       "      <td>19-Dec</td>\n",
       "      <td>Electronic City Phase II</td>\n",
       "      <td>2 BHK</td>\n",
       "      <td>Coomee</td>\n",
       "      <td>1056</td>\n",
       "      <td>2.0</td>\n",
       "      <td>1.0</td>\n",
       "      <td>39.07</td>\n",
       "    </tr>\n",
       "    <tr>\n",
       "      <th>1</th>\n",
       "      <td>Plot  Area</td>\n",
       "      <td>Ready To Move</td>\n",
       "      <td>Chikka Tirupathi</td>\n",
       "      <td>4 Bedroom</td>\n",
       "      <td>Theanmp</td>\n",
       "      <td>2600</td>\n",
       "      <td>5.0</td>\n",
       "      <td>3.0</td>\n",
       "      <td>120.00</td>\n",
       "    </tr>\n",
       "    <tr>\n",
       "      <th>2</th>\n",
       "      <td>Built-up  Area</td>\n",
       "      <td>Ready To Move</td>\n",
       "      <td>Uttarahalli</td>\n",
       "      <td>3 BHK</td>\n",
       "      <td>NaN</td>\n",
       "      <td>1440</td>\n",
       "      <td>2.0</td>\n",
       "      <td>3.0</td>\n",
       "      <td>62.00</td>\n",
       "    </tr>\n",
       "    <tr>\n",
       "      <th>3</th>\n",
       "      <td>Super built-up  Area</td>\n",
       "      <td>Ready To Move</td>\n",
       "      <td>Lingadheeranahalli</td>\n",
       "      <td>3 BHK</td>\n",
       "      <td>Soiewre</td>\n",
       "      <td>1521</td>\n",
       "      <td>3.0</td>\n",
       "      <td>1.0</td>\n",
       "      <td>95.00</td>\n",
       "    </tr>\n",
       "    <tr>\n",
       "      <th>4</th>\n",
       "      <td>Super built-up  Area</td>\n",
       "      <td>Ready To Move</td>\n",
       "      <td>Kothanur</td>\n",
       "      <td>2 BHK</td>\n",
       "      <td>NaN</td>\n",
       "      <td>1200</td>\n",
       "      <td>2.0</td>\n",
       "      <td>1.0</td>\n",
       "      <td>51.00</td>\n",
       "    </tr>\n",
       "  </tbody>\n",
       "</table>\n",
       "</div>"
      ],
      "text/plain": [
       "              area_type   availability                  location       size  \\\n",
       "0  Super built-up  Area         19-Dec  Electronic City Phase II      2 BHK   \n",
       "1            Plot  Area  Ready To Move          Chikka Tirupathi  4 Bedroom   \n",
       "2        Built-up  Area  Ready To Move               Uttarahalli      3 BHK   \n",
       "3  Super built-up  Area  Ready To Move        Lingadheeranahalli      3 BHK   \n",
       "4  Super built-up  Area  Ready To Move                  Kothanur      2 BHK   \n",
       "\n",
       "   society total_sqft  bath  balcony   price  \n",
       "0  Coomee        1056   2.0      1.0   39.07  \n",
       "1  Theanmp       2600   5.0      3.0  120.00  \n",
       "2      NaN       1440   2.0      3.0   62.00  \n",
       "3  Soiewre       1521   3.0      1.0   95.00  \n",
       "4      NaN       1200   2.0      1.0   51.00  "
      ]
     },
     "execution_count": 21,
     "metadata": {},
     "output_type": "execute_result"
    }
   ],
   "source": [
    "data = pd.read_csv(\"https://drive.google.com/uc?export=download&id=1Z9oLpmt6IDRNw7IeNcHYTGeJRYypRSC0\")\n",
    "data.head(5)"
   ]
  },
  {
   "cell_type": "markdown",
   "id": "6b8bb3ed-d6ff-4616-8707-26587c0622fa",
   "metadata": {},
   "source": [
    "here we are preddiction the price of the house so it is a continuous values that why we can use r2_score and adj_r2_score for measure the accuracy of the model."
   ]
  },
  {
   "cell_type": "markdown",
   "id": "f04cae42-8226-4ba0-ae5a-771be9a333e1",
   "metadata": {},
   "source": [
    "For predicting house prices, RMSE is often considered a very suitable metric for the following reasons:\n",
    "\n",
    "Interpretability: Since RMSE is in the same units as the target variable (house prices), it is easier to interpret the magnitude of the errors directly in terms of currency (e.g., dollars).\n",
    "\n",
    "Penalizing Large Errors: House prices can vary significantly, and large errors can be particularly costly. RMSE’s squaring of the errors helps ensure that larger errors are given more weight, making it more sensitive to outliers.\n",
    "\n",
    "While RMSE is commonly preferred, it’s also useful to consider MAE alongside it, as MAE provides a straightforward average error that can be more robust to outliers.\n",
    "\n",
    "Additionally, R2_score can be helpful to get a sense of the proportion of variance explained by the model."
   ]
  },
  {
   "cell_type": "markdown",
   "id": "d069e828-af52-4053-abab-b777aeaec2c3",
   "metadata": {},
   "source": [
    "## Q2. You have built an SVM regression model and are trying to decide between using MSE or R-squared as your evaluation metric. Which metric would be more appropriate if your goal is to predict the actual price of a house as accurately as possible?"
   ]
  },
  {
   "cell_type": "markdown",
   "id": "349458b0-6b75-4e2f-a723-81e57821a030",
   "metadata": {},
   "source": [
    "the more appropriate evaluation metric would be Mean Squared Error (MSE).\n",
    "\n",
    "Reasons for Choosing MSE:\n",
    "\n",
    "Direct Measurement of Prediction Error:\n",
    "MSE directly measures the average squared difference between the predicted and actual house prices. This makes it a clear and interpretable metric for understanding the prediction error in terms of the units of the target variable (house prices).\n",
    "\n",
    "Penalizes Large Errors:\n",
    "MSE penalizes larger errors more than smaller ones due to the squaring of the differences. In the context of house prices, large errors can be particularly costly, and MSE helps to ensure that these are minimized.\n",
    "\n",
    "Focus on Prediction Accuracy:\n",
    "Since your goal is to predict the actual price as accurately as possible, MSE’s emphasis on the magnitude of prediction errors aligns well with this objective. Minimizing MSE leads to predictions that are closer to the actual values on average.\n",
    "\n",
    "\n",
    "Comparison with R-squared:\n",
    "R-squared measures the proportion of the variance in the dependent variable that is predictable from the independent variables. While it is useful for understanding the goodness-of-fit of the model, it does not provide a direct measure of prediction accuracy in the same units as the target variable.\n",
    "\n",
    "R2_score can give you an idea of how well the model explains the variance in house prices, but it won't tell you about the average magnitude of your prediction errors. A high R2_score does not necessarily imply low prediction errors and vice versa."
   ]
  },
  {
   "cell_type": "markdown",
   "id": "de574c6a-aa88-4f89-b43d-921ec0a4ccc6",
   "metadata": {},
   "source": [
    "## Q3. You have a dataset with a significant number of outliers and are trying to select an appropriate regression metric to use with your SVM model. Which metric would be the most appropriate in this scenario?"
   ]
  },
  {
   "cell_type": "markdown",
   "id": "00ef22bf-b113-49f0-94ce-0e9ff68a3a0e",
   "metadata": {},
   "source": [
    "Reasons for Choosing MAE:\n",
    "\n",
    "Robustness to Outliers:\n",
    "\n",
    "MAE measures the average magnitude of errors without squaring them. This means that all errors are treated equally, and large outliers do not disproportionately influence the metric. In contrast, metrics like Mean Squared Error (MSE) square the errors, causing outliers to have a much larger impact on the overall error measurement.\n",
    "\n",
    "Interpretability:\n",
    "\n",
    "MAE is easy to interpret because it represents the average absolute difference between predicted and actual values. This makes it straightforward to understand how far off your predictions are, on average, in the same units as the target variable.\n",
    "\n",
    "Comparison with MSE:\n",
    "\n",
    "MSE tends to be more sensitive to outliers because it squares the errors. This can be problematic in datasets with significant outliers, as those outliers will dominate the metric and may lead to misleading conclusions about model performance.\n",
    "MAE, by treating all errors equally, provides a more balanced view of the model's performance in the presence of outliers."
   ]
  },
  {
   "cell_type": "markdown",
   "id": "7d94a078-8cec-4215-9eaa-45281d149370",
   "metadata": {},
   "source": [
    "## Q4. You have built an SVM regression model using a polynomial kernel and are trying to select the best metric to evaluate its performance. You have calculated both MSE and RMSE and found that both values are very close. Which metric should you choose to use in this case?"
   ]
  },
  {
   "cell_type": "markdown",
   "id": "ec120329-3abb-4e66-bf6a-4df9d17b036a",
   "metadata": {},
   "source": [
    "When choosing between Mean Squared Error (MSE) and Root Mean Squared Error (RMSE) for evaluating the performance of your SVM regression model, especially when both metrics yield very close values, it often comes down to interpretability and the specific preferences of the stakeholders or the context in which the results will be used.\n",
    "\n",
    "Key Differences and Considerations:\n",
    "\n",
    "Interpretability:\n",
    "\n",
    "RMSE: Provides a measure of the error in the same units as the target variable. This makes it easier to understand and communicate the error magnitude in practical terms (e.g., dollars for house prices).\n",
    "\n",
    "MSE: Represents the average of the squared errors, which is in squared units of the target variable. This can make it less intuitive to interpret directly.\n",
    "\n",
    "Sensitivity to Errors:\n",
    "\n",
    "Both RMSE and MSE penalize larger errors more due to the squaring of the differences, but since RMSE takes the square root, it brings the error measure back to the original units of the target variable.\n",
    "\n",
    "When to Choose RMSE:\n",
    "Interpretability in Original Units: If you need to present or explain the results to stakeholders who prefer understanding errors in the original units of the target variable, RMSE is more appropriate. \n",
    "\n",
    "For example, if predicting house prices, stakeholders might find it easier to grasp an error of \"approximately $10,000\" rather than \"100,000 squared dollars\"."
   ]
  },
  {
   "cell_type": "markdown",
   "id": "9ae5705e-6606-4b4f-902c-ce54239a3a49",
   "metadata": {},
   "source": [
    "## Q5. You are comparing the performance of different SVM regression models using different kernels (linear, polynomial, and RBF) and are trying to select the best evaluation metric. Which metric would be most appropriate if your goal is to measure how well the model explains the variance in the target variable?"
   ]
  },
  {
   "cell_type": "markdown",
   "id": "69b64ce0-9db1-4600-b283-215c43c7746f",
   "metadata": {},
   "source": [
    "If your goal is to measure how well the model explains the variance in the target variable when comparing the performance of different SVM regression models using different kernels (linear, polynomial, and RBF), the most appropriate evaluation metric would be R2-squared.\n",
    "\n",
    "Reasons for Choosing R2-squared:\n",
    "Explains Variance: R2_squared provides a measure of how much of the variance in the target variable is explained by the model. It ranges from 0 to 1, where 0 indicates that the model explains none of the variance, and 1 indicates that the model explains all the variance.\n",
    "\n",
    "Comparative Metric:\n",
    "R2_squared is useful for comparing the explanatory power of different models. When you are evaluating models with different kernels, \n",
    "R2_squared helps determine which model better captures the underlying patterns in the data.\n",
    "\n",
    "Normalized Measure:\n",
    "R2_squared is a normalized measure, meaning it is not influenced by the scale of the target variable, making it a good choice for comparing models across different datasets or target variables."
   ]
  }
 ],
 "metadata": {
  "kernelspec": {
   "display_name": "Python 3 (ipykernel)",
   "language": "python",
   "name": "python3"
  },
  "language_info": {
   "codemirror_mode": {
    "name": "ipython",
    "version": 3
   },
   "file_extension": ".py",
   "mimetype": "text/x-python",
   "name": "python",
   "nbconvert_exporter": "python",
   "pygments_lexer": "ipython3",
   "version": "3.9.13"
  },
  "widgets": {
   "application/vnd.jupyter.widget-state+json": {
    "state": {},
    "version_major": 2,
    "version_minor": 0
   }
  }
 },
 "nbformat": 4,
 "nbformat_minor": 5
}
