{
 "cells": [
  {
   "cell_type": "code",
   "execution_count": 1,
   "id": "aeadd0b1",
   "metadata": {},
   "outputs": [],
   "source": [
    "import pandas as pd\n",
    "import numpy as np \n",
    "import matplotlib.pyplot as plt\n",
    "import seaborn as sns"
   ]
  },
  {
   "cell_type": "code",
   "execution_count": 2,
   "id": "b37608b6",
   "metadata": {},
   "outputs": [],
   "source": [
    "from sklearn.datasets import make_regression"
   ]
  },
  {
   "cell_type": "code",
   "execution_count": 6,
   "id": "706b1204",
   "metadata": {},
   "outputs": [],
   "source": [
    "X,y = make_regression(n_features= 2 ,n_samples= 1000 ,n_targets= 1 ,noise= 0.3)"
   ]
  },
  {
   "cell_type": "code",
   "execution_count": 7,
   "id": "828b806a",
   "metadata": {},
   "outputs": [
    {
     "data": {
      "text/plain": [
       "array([[ 1.1248751 ,  0.63215258],\n",
       "       [ 1.11828458,  0.39393415],\n",
       "       [ 0.41756689, -0.63204087],\n",
       "       ...,\n",
       "       [-0.49974053,  1.01456596],\n",
       "       [ 0.37692525, -0.11661294],\n",
       "       [ 0.53943104, -0.67265225]])"
      ]
     },
     "execution_count": 7,
     "metadata": {},
     "output_type": "execute_result"
    }
   ],
   "source": [
    "X"
   ]
  },
  {
   "cell_type": "code",
   "execution_count": 8,
   "id": "e6e60642",
   "metadata": {},
   "outputs": [
    {
     "data": {
      "text/plain": [
       "array([ 1.16878185e+02,  1.03120896e+02, -3.90818178e+00, -1.50598822e+02,\n",
       "       -4.16855246e+01,  8.17723432e+01, -6.73921063e+01, -5.78251511e+00,\n",
       "       -1.30039325e+01,  7.13152137e+01, -1.04928469e+02, -7.10261421e+01,\n",
       "       -9.17196823e+01,  1.32820768e+02, -1.08604592e+02,  1.42357101e+02,\n",
       "       -1.44868414e+02,  6.40808283e+01,  1.23315676e+02,  1.02736257e+02,\n",
       "       -2.84284595e+01,  4.70363948e+01,  2.47140077e+01, -3.87531522e+01,\n",
       "        2.02288154e+01, -8.95991727e+01, -1.44790321e+02, -3.67020645e+00,\n",
       "       -7.20888505e+00,  8.05330887e+01, -7.61538587e+01, -1.28107652e-01,\n",
       "       -4.50329352e+01, -9.27338868e+01,  2.21262848e+01,  2.25660577e+02,\n",
       "        2.23357218e+01,  6.77491173e+01, -1.54681809e+01, -3.36430695e+01,\n",
       "        3.86872978e+00, -1.04190807e+02, -1.41482925e+02,  1.18194479e+01,\n",
       "        1.01433491e+02,  1.22128658e+02, -6.00532385e+01, -1.26411268e+02,\n",
       "        1.36547821e+00, -8.17268074e+00, -3.51607026e+01,  7.66530027e+01,\n",
       "        2.60633280e+01, -1.74599106e+00,  2.57332869e+02, -5.76228777e+01,\n",
       "        1.12514203e+02, -1.11774560e+02,  3.51395863e+00, -1.52183132e+00,\n",
       "       -1.83303209e+02,  1.18642600e+02,  1.17581953e+02,  5.83696948e+01,\n",
       "        1.50573265e+02, -6.56847392e+00, -7.41383041e+01,  1.79819861e+02,\n",
       "       -9.01166091e+01,  7.34858602e+01, -2.02776078e+02,  1.41419881e+02,\n",
       "        1.06395866e+02,  7.63797508e+01, -1.05155530e+02,  8.00205100e+01,\n",
       "        7.49174935e+01,  1.08084482e+02,  1.21405588e+02, -1.89198585e+02,\n",
       "        2.88227139e+01, -7.19508371e+01,  1.01834238e+02, -9.08507819e+01,\n",
       "       -2.48502512e+01,  1.88944672e+01, -1.23480941e+02, -3.99050589e+01,\n",
       "       -1.55555035e+01, -6.23748837e+01,  6.28674407e+01, -9.56116115e+00,\n",
       "        1.34718401e+02, -5.51993442e+00, -1.69414802e+01, -1.52070045e+02,\n",
       "        5.63418082e+01, -1.84971617e+01, -1.51711788e+02,  9.65425369e+01,\n",
       "       -8.88371315e+01,  1.38278450e+02,  1.85398246e+01, -6.49301631e+01,\n",
       "       -6.27761508e+01, -3.83968046e+01, -1.92588390e+02,  7.01412229e+01,\n",
       "       -1.21761619e+02, -9.32275829e+01,  3.29686017e+01,  1.33680950e+02,\n",
       "        8.37170328e+01, -1.26028760e+02,  4.92044249e+01, -1.49222478e+02,\n",
       "        1.67013268e+01,  1.81162530e+01,  4.68692862e+01,  4.96004959e+01,\n",
       "       -1.45123344e+02, -4.39045270e+01,  1.68423740e+01, -1.30671040e+02,\n",
       "       -2.36179366e+01, -1.52774161e+01, -1.03998647e+02,  7.24940543e+01,\n",
       "        1.56845673e+01, -5.00325752e+01,  1.16469198e+01, -1.02322522e+02,\n",
       "        9.43533462e+01, -7.82712389e+01, -8.30497319e+01, -1.33170125e+02,\n",
       "        7.97665065e+01, -1.41284386e+02,  5.84244759e+00,  5.65607120e+01,\n",
       "       -9.32704349e+01, -7.02301159e+01,  1.70287083e+00, -4.57033709e+01,\n",
       "       -8.22088234e+01, -1.38248076e+02,  7.15138801e+01, -2.89773008e+00,\n",
       "       -2.22398637e+02,  2.24715802e+02,  7.41849711e+01, -9.30518333e+01,\n",
       "        8.71073714e+01,  8.23293595e+00,  1.46330912e+02, -8.67006444e+01,\n",
       "       -5.47719013e+01, -3.41385651e+01, -1.42711280e+02,  2.43066907e+01,\n",
       "       -3.40384313e+01,  6.04102184e+00,  7.18311160e+01,  1.38978417e+02,\n",
       "       -3.36748615e+01,  3.78120974e+01, -8.90308598e+01,  1.25769502e+02,\n",
       "       -5.18938599e+01,  8.14772522e+01,  8.67373116e+01,  1.67120015e+02,\n",
       "       -1.37072346e+01,  1.22999394e+02, -8.90647690e+00, -1.91859603e+02,\n",
       "        5.49076337e+00, -3.11370430e+01, -8.76547737e+01,  1.93702514e+01,\n",
       "        1.59336380e+02, -3.95281041e+01,  7.58614126e+01,  9.62692471e+01,\n",
       "        1.85581931e+02,  4.65352920e+01,  1.54352714e+01,  1.59637764e+02,\n",
       "        9.81152420e+00,  6.56684141e+01, -6.79558400e+01,  1.60863793e+02,\n",
       "        1.28581864e+02,  2.98272038e+01, -1.18806642e+02, -6.32425529e+01,\n",
       "       -4.60387243e+01,  7.95531317e+01,  2.06813697e+02, -1.12300743e+02,\n",
       "       -3.21752169e+01, -2.37632531e+01, -2.99045051e+01,  6.57284814e+01,\n",
       "        3.05044584e+01, -4.33609406e+01,  1.14854636e+02, -4.57229746e+01,\n",
       "        4.06853193e+01, -2.14567579e+02,  5.35458184e+00, -8.20802666e+01,\n",
       "        3.30541419e+00, -2.53212682e+01, -7.92825494e+01, -3.88339309e+01,\n",
       "        1.08931940e+02,  8.93407698e+01,  8.87535465e+01, -4.28252209e+01,\n",
       "        1.29278715e+02,  1.03207322e+02,  2.18985859e+02,  8.55486113e+00,\n",
       "       -7.77373404e+01, -8.81032785e+01, -2.24065014e+02, -9.66921222e+01,\n",
       "       -2.07437641e+01, -3.85375155e+01,  7.91855775e+01,  2.59048882e+01,\n",
       "       -1.59069879e+02, -4.78243530e+01, -1.98538089e+01,  6.36784950e+01,\n",
       "       -2.83340824e+01, -9.07026395e+01,  1.31586896e+02, -1.80602461e+02,\n",
       "       -8.04655016e+01,  1.06070086e+01, -1.11809278e+02, -3.65890541e+01,\n",
       "        2.61802417e+02, -1.13785814e+01,  9.57337222e+01, -2.24953702e+02,\n",
       "       -1.13989587e+01,  1.26997136e+02,  6.09540463e+01, -1.45912993e+01,\n",
       "       -4.93300828e-01,  1.35861678e+02, -1.29426760e+02,  2.59152224e+00,\n",
       "       -5.81121291e+01, -1.29252011e+01,  1.13302445e+02, -1.88661108e+01,\n",
       "        5.49017625e+01,  1.03853578e+02, -4.34108152e+01,  1.11014250e+02,\n",
       "        8.75146339e+01, -3.23762632e+00,  5.97718174e+01, -3.30899937e+01,\n",
       "       -5.90774621e+00,  4.57715194e+01, -1.21958837e+02,  3.07902003e+02,\n",
       "        1.29908129e+01, -7.83785534e+00, -5.06980996e+01,  6.55501322e+01,\n",
       "       -7.40009867e+01,  4.74029486e+01, -8.47286907e+00,  4.34560202e+01,\n",
       "        1.38253096e+02,  1.76020149e+02,  7.46596577e+00, -1.08363011e+01,\n",
       "       -7.56219820e+01,  6.70208739e+01,  4.43510584e+01, -9.79377867e+01,\n",
       "       -6.22167968e+01,  1.24060977e+02,  6.09024334e+01, -5.69474407e+01,\n",
       "       -2.05919655e+02,  1.64425480e+01,  9.49680837e+01, -8.34691163e+01,\n",
       "        5.58276395e+01, -1.54906115e+01, -1.24255096e+02, -2.29540184e+01,\n",
       "       -7.91203419e+00, -7.65808456e+01, -1.79872243e+01, -5.14511631e+00,\n",
       "       -6.01504863e+00, -2.78641173e+01,  4.62783153e+01, -9.13762251e+01,\n",
       "       -1.81445648e+01,  5.41354230e+01, -2.44169465e+01,  1.06220048e+02,\n",
       "        4.69880696e+01,  8.32140553e+01, -3.59186605e+01, -6.00117581e+01,\n",
       "       -1.99373648e+02,  9.16558840e+01,  2.55914459e+02, -8.71905671e+01,\n",
       "        2.23720252e+01, -3.25085882e+00, -4.63541805e+01, -7.03693757e+01,\n",
       "        8.76135910e+00,  3.93681110e+00, -3.51816291e+01, -1.25201825e+02,\n",
       "       -1.32459027e+02,  2.74713295e+01,  6.08024219e+01,  5.04834816e+01,\n",
       "       -1.39111488e+02,  6.68696977e+01,  6.72679012e+01,  3.97822381e+01,\n",
       "       -7.13096964e+00,  1.18984998e+02, -1.00339532e+02,  4.88828645e+01,\n",
       "       -5.14012178e+01,  9.86285838e+00,  1.26366554e+02,  1.12847869e+02,\n",
       "        1.35689959e+01, -1.51838407e+02,  1.28170548e+00,  9.42248988e+01,\n",
       "        9.41377586e+01,  9.97440463e+01, -1.64703631e+02,  5.97425277e+01,\n",
       "        1.00524133e+02, -5.32858988e+01,  8.10246766e+01, -1.05174465e+02,\n",
       "       -2.90809298e+01, -2.59924401e+01,  9.70247528e+01, -1.02439061e+01,\n",
       "       -1.18210487e+02,  2.43505227e+02,  7.23965904e+01, -1.01351883e+02,\n",
       "       -4.75111497e+01,  1.77742484e+02, -5.76976050e+01, -8.38638091e+01,\n",
       "        9.87279002e+01, -2.45609548e+01,  5.34754392e+01, -1.17393976e+02,\n",
       "        1.18428848e+02, -4.38062553e+01, -3.42669878e+00, -6.34617607e+01,\n",
       "        1.10489211e+01, -8.36679635e+00,  1.58048901e+01, -4.92830049e+01,\n",
       "        1.07752069e+02, -2.97768243e+01,  2.13935574e+00, -8.64953992e+01,\n",
       "       -4.16675254e+01,  8.29490650e+01,  1.68670027e+01,  1.75606568e+02,\n",
       "       -1.07441983e+01, -6.64927041e+00,  1.08506479e+01,  1.57621737e+02,\n",
       "        1.56815241e+02,  1.81763566e+01,  2.47553488e+01,  2.20152993e+02,\n",
       "       -7.01024633e+01, -3.09533793e+01, -1.98454465e+02,  1.34511069e+02,\n",
       "       -4.29771473e+01, -4.26540873e+01, -2.42989080e+02, -2.41766811e+02,\n",
       "       -1.03472033e+02, -2.63584049e+01, -3.81446436e+01, -9.59389679e+01,\n",
       "        1.04963721e+02, -1.59277331e+02,  3.08351095e+01,  2.23071427e+02,\n",
       "       -1.31172790e+02, -4.57736100e+01,  5.48990242e+01, -1.32487473e+02,\n",
       "       -3.21540948e+01, -1.15063324e+02, -1.37219630e+02, -1.09642940e+02,\n",
       "       -1.17859261e+02, -5.18665263e+01, -4.04539396e+01, -6.21409258e+01,\n",
       "        1.96259038e+02,  1.63562183e+02,  6.01405765e+01,  5.38860115e+01,\n",
       "        1.75455150e+02,  2.03595019e+01, -2.39617868e+02, -7.23681334e+01,\n",
       "       -2.07989572e+01,  1.03174642e+02,  9.27545318e+01,  5.38358888e+00,\n",
       "        1.12614017e+02, -5.96463652e+01,  1.30904272e+02, -4.70275304e+01,\n",
       "       -2.07189294e+01,  6.67191149e+01, -5.84747822e+01,  9.52004527e+01,\n",
       "       -1.98911641e+02,  2.40251189e+01, -6.51642606e+01, -3.70348409e+01,\n",
       "       -6.07660392e+01,  7.81042911e+01,  7.15779808e+01, -1.17977735e+01,\n",
       "        1.22305591e+02, -5.78914024e+01,  7.35194169e+01, -8.07082957e+01,\n",
       "        6.63232468e+00, -9.19822303e+01, -3.87865885e+01,  8.24032180e+01,\n",
       "        9.27021078e+01,  1.47912742e+01, -1.79453787e+01,  1.52890734e+02,\n",
       "        2.09945797e+01, -1.74419992e+01,  1.08034892e+02,  4.18749930e+01,\n",
       "       -7.94398631e+01,  4.42726265e+01, -4.58859761e+01,  2.55653291e+01,\n",
       "        8.96331666e+00,  6.45234294e+01, -1.66158758e+01,  2.73071700e+01,\n",
       "       -1.40332657e+02,  2.71308962e+01, -2.76534326e+01,  2.25753666e+01,\n",
       "        1.74007895e+02,  5.21530123e+01, -3.81814821e+00, -1.06690551e+02,\n",
       "       -2.83102103e+01, -8.27657082e+01, -9.56102643e+01,  8.86077627e+01,\n",
       "       -1.15052433e+02, -5.68459748e+00,  1.15092450e+02, -2.34496322e+02,\n",
       "       -5.07670404e+01, -5.40338557e+01, -9.33700222e+01, -4.64801033e+01,\n",
       "       -1.05581182e+02,  3.11473171e+01,  1.26513702e+02,  1.09538327e+02,\n",
       "       -3.63541862e+01,  5.28410251e+00, -1.18942777e+02, -6.22177716e+01,\n",
       "       -3.58561840e+01, -1.18350670e+02, -1.91864044e+02, -5.05162117e+01,\n",
       "        4.63684751e+01,  1.15594711e+02, -1.57280230e+02,  8.01615953e+01,\n",
       "       -9.00040432e+01,  2.89304086e+02, -1.26436399e+02,  1.16432682e+01,\n",
       "       -7.67472972e+01, -5.06310812e+01,  8.84609451e+01,  1.10456856e+02,\n",
       "        1.57983255e+02,  5.69955443e+01, -2.20952914e+02,  1.84596401e+02,\n",
       "       -9.72333644e+01, -5.11924973e+01, -1.04600423e+02, -2.79509218e+02,\n",
       "       -1.13135003e+02,  7.14766606e+00,  1.15808511e+01, -1.03786873e+02,\n",
       "        7.70809560e+01,  1.97999450e+01,  9.40189500e+00, -9.11487106e+01,\n",
       "        1.34876875e+01,  2.20901817e+00,  2.94365030e+01,  4.58934981e+01,\n",
       "        8.63468006e+01,  1.56907664e+02,  4.02898749e+00,  7.13525428e+01,\n",
       "        6.89459518e+01,  1.57938371e+02,  4.25025487e+01, -7.23517039e-01,\n",
       "        1.11986985e+02, -2.23602028e+02,  8.32267133e+01, -3.82094179e+01,\n",
       "       -7.79172924e+01,  5.33947998e+01, -1.34246574e+01, -8.80091166e+01,\n",
       "        7.24148108e+01, -5.66721005e+01,  4.75454293e+01, -5.29676151e+01,\n",
       "       -1.01789818e+01,  7.57658083e+01,  1.17063724e+02, -5.15288672e+01,\n",
       "        8.45082153e+01, -1.08059238e+02, -1.48445362e+02,  6.40900917e+01,\n",
       "        7.87868864e+01,  1.11137266e+02, -2.14607670e+01, -8.00942879e+00,\n",
       "        1.02212829e+02,  2.76606686e+01,  5.98370293e+01, -1.30510933e+02,\n",
       "       -9.08862065e+01,  7.05583915e+01, -9.52571705e-01,  7.26302010e+01,\n",
       "        7.07031210e+01,  6.46570726e+01, -8.61546670e+01, -2.28490529e+00,\n",
       "       -4.94429096e+01,  1.76089490e+00, -1.41694476e+02,  4.99246583e+01,\n",
       "       -8.94161926e+01, -1.71858276e+02, -1.99640937e+01,  2.74496663e+01,\n",
       "       -5.52809844e+00, -1.06958306e+02, -1.23493520e+02,  8.72185645e+01,\n",
       "        1.81202073e+01, -8.35250254e+01, -3.27007228e+01, -1.95459253e+01,\n",
       "        3.24416278e+01,  6.97675821e+00, -6.57288858e+01, -4.27568321e+01,\n",
       "       -1.03906713e+01,  1.05739618e+00,  1.32891390e+02,  4.86058779e+01,\n",
       "        1.46779986e+02, -5.13153264e+01, -7.11911863e+00,  7.51316650e+01,\n",
       "        5.54351884e+00,  3.44752610e+01, -9.13081324e+01, -2.36464529e+00,\n",
       "        3.83218373e+01, -1.18047599e+02,  1.55108843e+02,  3.54739383e+01,\n",
       "       -5.05100274e+01, -1.68169178e+01,  3.79392881e+01, -4.79497948e+01,\n",
       "        5.24328567e+01,  5.72937625e+01, -1.42572700e+02,  6.96753005e+01,\n",
       "        9.95944337e+01,  1.46006221e+02, -9.11166286e+01, -5.96551314e+01,\n",
       "       -9.44543477e+01, -1.42187315e+02,  3.73973113e-01,  5.95346337e+01,\n",
       "        5.46773830e+01,  3.52071038e+01,  1.82137168e+02,  6.44961014e+01,\n",
       "        3.54063885e+01, -3.01638898e+01,  3.93397603e+01, -9.95457319e+01,\n",
       "       -8.94432189e+01, -2.58272244e+01,  3.24111744e+01, -2.61495494e+00,\n",
       "       -1.53752105e+01, -8.87588312e+01,  1.99149831e+02,  3.95459788e+01,\n",
       "        4.94439690e+01,  8.73525285e+01, -1.12505860e+02,  4.73133531e+01,\n",
       "       -2.73660847e+01,  1.02391921e+02, -1.55745915e+02, -4.71108107e+01,\n",
       "       -1.04593284e+02, -3.73886660e+01, -1.54689685e+02, -1.75391591e+02,\n",
       "       -1.67614872e+02, -2.85778105e+01, -7.53182695e+00,  5.35231742e-01,\n",
       "        8.45112713e+01, -1.24764329e+02,  1.13920213e+02, -9.62592361e+01,\n",
       "       -9.07699449e+01,  8.56038613e+01, -1.76920649e+01, -6.29275463e+01,\n",
       "       -2.20823724e-01, -9.01486908e+01, -1.23827247e+02, -9.85748241e+01,\n",
       "       -1.52608416e+02,  7.33299077e+01,  2.94436647e+01,  7.15541512e+01,\n",
       "        7.67364178e+01, -1.02503918e+02, -8.22403740e+01, -7.41437738e+01,\n",
       "        1.01565703e+02, -6.74017085e+01, -5.08919283e+01,  4.33183183e+01,\n",
       "       -1.14903748e+01, -8.43944670e+01, -5.54202092e+01,  1.35229901e+02,\n",
       "        5.42283593e+01, -1.69917677e+02,  9.39996503e+01,  5.65990744e-01,\n",
       "        1.10258737e+01, -5.13844994e+01,  1.17123845e+02,  6.64730625e+01,\n",
       "        9.87476680e+01,  6.53779032e+00, -9.00222365e+01, -5.96488011e+01,\n",
       "        1.85062201e+02, -1.14683887e+02,  7.47444084e+01, -5.80505686e+01,\n",
       "       -4.29625516e+01, -7.36383345e+01, -1.79960624e+01, -7.01773212e+00,\n",
       "       -2.30892281e+01, -1.28949795e+02,  6.50183034e+01,  5.30542966e+01,\n",
       "       -7.03184763e+01, -1.39622991e+01, -2.37423229e+02, -9.04757966e+01,\n",
       "       -9.53034636e+00, -8.29885944e+01, -4.34951090e+01,  3.92716965e+00,\n",
       "        1.41156717e+02, -3.23540533e+01,  3.32811404e+01, -5.34532846e+01,\n",
       "       -3.52094455e+01, -1.90165640e+02, -5.79522790e+01,  1.92154497e+01,\n",
       "       -5.40330795e+01,  4.89414475e+01,  1.32428495e+02,  1.33496569e+02,\n",
       "       -7.07624644e+01, -8.52891191e+01, -3.84773966e+01,  4.63886111e+00,\n",
       "       -6.82397982e+01,  9.63098714e-01, -1.12473447e+02,  4.69893716e+00,\n",
       "       -4.10513254e+01, -5.23453816e+01,  2.52315294e+01, -8.46576775e+01,\n",
       "        2.54452227e+01, -1.79704785e+02, -3.76666609e+01, -6.54743894e+01,\n",
       "       -1.28814188e+02, -1.57709787e+02, -1.87509214e+01,  1.31897963e+02,\n",
       "        2.11564574e+01,  1.96224833e+01, -8.30349370e+01,  3.62869668e+01,\n",
       "        1.38938826e+02, -5.67490818e+01,  2.82416554e+02, -6.98813783e+01,\n",
       "        2.60802045e+01,  5.42894342e+01,  5.95301176e+01,  7.55911407e+01,\n",
       "       -5.97648821e+01, -2.19959603e+01, -1.28032852e+02,  9.51175412e+00,\n",
       "       -3.47582602e+01,  1.76848829e+02, -2.70866164e+01, -2.99491480e-01,\n",
       "       -5.60306615e+01,  3.07885320e+01, -2.38888057e+02, -2.12615705e+02,\n",
       "       -8.26558055e+01,  2.02922364e+01, -1.25599112e+01,  1.19929528e+02,\n",
       "        1.10310943e+02, -1.15996255e+02, -8.40682626e+01,  5.05373443e+01,\n",
       "       -3.76675644e+01,  1.65001386e+02,  1.27242961e+02,  1.12420754e+01,\n",
       "       -6.06765530e+00,  7.41495092e+01,  1.89809997e+01,  5.71197931e+01,\n",
       "       -2.01009233e+01, -1.71033389e+01, -6.77426196e+01, -7.25447194e+00,\n",
       "       -2.71849486e+01, -2.07222324e+01, -6.26461331e+01, -9.44870710e+01,\n",
       "       -8.62491381e+00, -2.15779764e+02,  7.45187858e+01,  1.37257256e+02,\n",
       "       -1.56111054e+02, -4.98398953e-01,  1.72948359e+02, -1.93289113e+01,\n",
       "       -5.23503087e+01,  8.47032926e+01, -3.06002610e+01, -2.69763000e+01,\n",
       "       -2.59452954e+01,  1.07075944e+02, -1.01671106e+02,  1.20415994e+01,\n",
       "       -1.65495326e+02,  2.11186574e+01, -6.89580532e+01,  1.57217044e+02,\n",
       "       -1.52503243e+02,  5.76862457e+01,  2.95597574e+01, -3.25307309e+01,\n",
       "       -7.86428485e+01, -1.87314487e+01,  1.17431994e+02,  7.25001953e+01,\n",
       "        1.86973997e+01,  6.41252546e+00,  4.11932248e+01, -1.24154560e+02,\n",
       "        3.34303990e+01,  4.35012049e+01,  1.18707986e+01, -1.16427100e+02,\n",
       "       -7.05266824e+00,  5.42517570e+01, -1.23456018e+01, -1.08576910e+02,\n",
       "       -2.63220073e+01, -2.73256331e+01,  1.93087172e+01,  5.05502519e+01,\n",
       "        8.65661429e+01, -1.03354292e+02, -9.23271911e+01,  6.65410339e+01,\n",
       "        6.61016998e+01, -1.76210698e+02,  1.60696853e+02, -5.17444270e+00,\n",
       "       -2.10727764e+01,  2.95519952e+01, -6.21886573e+01,  6.16689455e+00,\n",
       "       -4.19652139e+01, -6.55371471e+01,  1.88595109e+01, -1.22254985e+02,\n",
       "       -3.71376045e+01, -1.96087658e+02, -1.06437672e+02, -9.61588016e+01,\n",
       "        9.28449620e+01, -7.67682603e+01,  2.28109021e+02, -8.02512593e+01,\n",
       "        1.22436869e+02,  3.76615963e+01,  7.06243853e+01, -3.21679737e+01,\n",
       "        1.03200184e+02,  7.82059909e+01,  1.75728303e+02,  1.42191399e+01,\n",
       "        2.33436289e+01, -1.62011200e+02,  1.20065901e+02,  4.39907215e+01,\n",
       "       -9.54380105e+01,  1.96042683e+02,  3.39906426e+01,  8.88205451e+00,\n",
       "       -1.43082952e+02, -6.95299251e+01,  7.01481386e+01, -9.43388637e+01,\n",
       "        3.70809928e+01, -2.57050556e+01, -8.11617488e+01,  1.69490414e+02,\n",
       "        5.15419479e+00,  3.28311927e+01, -1.85124695e+00,  1.83805895e+02,\n",
       "        1.97865291e+01,  1.74190013e+01, -1.41345661e+02, -7.18231567e+01,\n",
       "        1.33372729e+02, -2.56890249e+01,  1.30474410e+01,  6.41101649e+01,\n",
       "       -2.07915527e+01,  2.09762074e+00, -1.34994765e+02,  5.55244740e+01,\n",
       "       -1.24376190e+01,  8.35610008e+01, -6.28238761e+01,  3.75408924e+01,\n",
       "        1.32860418e+02,  9.17312767e+01,  8.60802982e+01,  1.02185751e+02,\n",
       "        5.79510392e+01, -3.93243021e+01, -1.01718384e+02,  4.52834011e+01,\n",
       "       -7.90961138e+01,  5.08716260e+01, -5.09852234e+01, -2.20138287e+01,\n",
       "        4.19146089e+01,  1.01121907e+02,  4.38875161e+01,  9.76602225e+01,\n",
       "        7.52285962e+01,  2.90099855e+01, -2.52740344e+01, -1.11439697e+02,\n",
       "        1.38736115e+02, -5.80643959e+01,  2.62873936e+01,  6.23297542e+01,\n",
       "       -6.49555901e+01, -2.52504084e+01,  2.61534441e+01,  4.33227514e+01,\n",
       "        5.57947572e+01, -2.41927468e+02, -7.79781002e+01,  1.31152617e+02,\n",
       "        9.12729776e+01,  7.39073208e+01, -2.68417336e+01, -1.30933698e+02,\n",
       "        1.67383366e+01,  2.44514454e+01,  1.15210014e+00,  2.60573014e+01,\n",
       "        4.01897437e+01, -6.68134141e+01, -4.61696904e+01, -8.09425028e+01,\n",
       "       -1.43450821e+01, -2.07806460e+01, -4.66559579e+01,  1.19468544e+02,\n",
       "       -1.29356184e+01,  4.11209606e+00, -2.82650060e+01,  1.27179224e+02,\n",
       "        1.26849296e+02,  9.39094788e+01, -7.50586324e+01, -5.54227298e+01,\n",
       "       -1.25088439e+02,  9.28959199e+01,  1.33216298e+01,  4.70015338e+01,\n",
       "        9.43315946e+00, -1.36621328e+02,  2.55606709e+02,  1.05485095e+02,\n",
       "       -1.54142739e+01,  1.53663838e+01,  2.72771457e+00, -1.05103469e+02,\n",
       "       -6.66210427e+00,  8.20193329e+01, -9.97271450e+01, -9.24243448e+01,\n",
       "        3.48479563e+01,  4.53259521e+01,  6.54486446e+01, -1.16638870e+02,\n",
       "        1.06277448e+02,  1.81674160e+01,  2.09107926e+01,  3.20547060e+00])"
      ]
     },
     "execution_count": 8,
     "metadata": {},
     "output_type": "execute_result"
    }
   ],
   "source": [
    "y"
   ]
  },
  {
   "cell_type": "code",
   "execution_count": 10,
   "id": "4acc3a21",
   "metadata": {},
   "outputs": [
    {
     "data": {
      "text/plain": [
       "0      1.124875\n",
       "1      1.118285\n",
       "2      0.417567\n",
       "3     -0.659919\n",
       "4      0.207407\n",
       "         ...   \n",
       "995   -0.875751\n",
       "996   -0.499971\n",
       "997   -0.499741\n",
       "998    0.376925\n",
       "999    0.539431\n",
       "Name: 0, Length: 1000, dtype: float64"
      ]
     },
     "execution_count": 10,
     "metadata": {},
     "output_type": "execute_result"
    }
   ],
   "source": [
    "pd.DataFrame(X)[0]"
   ]
  },
  {
   "cell_type": "code",
   "execution_count": 11,
   "id": "3c56fb62",
   "metadata": {},
   "outputs": [
    {
     "data": {
      "text/plain": [
       "0      0.632153\n",
       "1      0.393934\n",
       "2     -0.632041\n",
       "3     -1.880222\n",
       "4     -1.040351\n",
       "         ...   \n",
       "995   -0.979412\n",
       "996    2.623605\n",
       "997    1.014566\n",
       "998   -0.116613\n",
       "999   -0.672652\n",
       "Name: 1, Length: 1000, dtype: float64"
      ]
     },
     "execution_count": 11,
     "metadata": {},
     "output_type": "execute_result"
    }
   ],
   "source": [
    "pd.DataFrame(X)[1]"
   ]
  },
  {
   "cell_type": "code",
   "execution_count": 14,
   "id": "a119dff9",
   "metadata": {},
   "outputs": [
    {
     "data": {
      "text/plain": [
       "<AxesSubplot: xlabel='0', ylabel='1'>"
      ]
     },
     "execution_count": 14,
     "metadata": {},
     "output_type": "execute_result"
    },
    {
     "data": {
      "image/png": "[encoded data removed]",
      "text/plain": [
       "<Figure size 640x480 with 1 Axes>"
      ]
     },
     "metadata": {},
     "output_type": "display_data"
    }
   ],
   "source": [
    "sns.scatterplot(x = pd.DataFrame(X)[0] , y = pd.DataFrame(X)[1] , hue=y)"
   ]
  },
  {
   "cell_type": "code",
   "execution_count": 15,
   "id": "8e18957c",
   "metadata": {},
   "outputs": [],
   "source": [
    "from sklearn.model_selection import train_test_split"
   ]
  },
  {
   "cell_type": "code",
   "execution_count": 16,
   "id": "7e453c05",
   "metadata": {},
   "outputs": [],
   "source": [
    "X_train, X_test, y_train, y_test = train_test_split(X,y,test_size=0.30,random_state=42)"
   ]
  },
  {
   "cell_type": "code",
   "execution_count": 17,
   "id": "4a8dc632",
   "metadata": {},
   "outputs": [
    {
     "data": {
      "text/plain": [
       "((700, 2), (300, 2), (700,), (300,))"
      ]
     },
     "execution_count": 17,
     "metadata": {},
     "output_type": "execute_result"
    }
   ],
   "source": [
    "X_train.shape , X_test.shape , y_train.shape , y_test.shape"
   ]
  },
  {
   "cell_type": "code",
   "execution_count": 18,
   "id": "1bc11324",
   "metadata": {},
   "outputs": [],
   "source": [
    "from sklearn.svm import SVR"
   ]
  },
  {
   "cell_type": "code",
   "execution_count": 22,
   "id": "c58c1d76",
   "metadata": {},
   "outputs": [],
   "source": [
    "svr = SVR(kernel=\"linear\")"
   ]
  },
  {
   "cell_type": "code",
   "execution_count": 23,
   "id": "881b6958",
   "metadata": {},
   "outputs": [
    {
     "data": {
      "text/html": [
       "<style>#sk-container-id-2 {color: black;background-color: white;}#sk-container-id-2 pre{padding: 0;}#sk-container-id-2 div.sk-toggleable {background-color: white;}#sk-container-id-2 label.sk-toggleable__label {cursor: pointer;display: block;width: 100%;margin-bottom: 0;padding: 0.3em;box-sizing: border-box;text-align: center;}#sk-container-id-2 label.sk-toggleable__label-arrow:before {content: \"▸\";float: left;margin-right: 0.25em;color: #696969;}#sk-container-id-2 label.sk-toggleable__label-arrow:hover:before {color: black;}#sk-container-id-2 div.sk-estimator:hover label.sk-toggleable__label-arrow:before {color: black;}#sk-container-id-2 div.sk-toggleable__content {max-height: 0;max-width: 0;overflow: hidden;text-align: left;background-color: #f0f8ff;}#sk-container-id-2 div.sk-toggleable__content pre {margin: 0.2em;color: black;border-radius: 0.25em;background-color: #f0f8ff;}#sk-container-id-2 input.sk-toggleable__control:checked~div.sk-toggleable__content {max-height: 200px;max-width: 100%;overflow: auto;}#sk-container-id-2 input.sk-toggleable__control:checked~label.sk-toggleable__label-arrow:before {content: \"▾\";}#sk-container-id-2 div.sk-estimator input.sk-toggleable__control:checked~label.sk-toggleable__label {background-color: #d4ebff;}#sk-container-id-2 div.sk-label input.sk-toggleable__control:checked~label.sk-toggleable__label {background-color: #d4ebff;}#sk-container-id-2 input.sk-hidden--visually {border: 0;clip: rect(1px 1px 1px 1px);clip: rect(1px, 1px, 1px, 1px);height: 1px;margin: -1px;overflow: hidden;padding: 0;position: absolute;width: 1px;}#sk-container-id-2 div.sk-estimator {font-family: monospace;background-color: #f0f8ff;border: 1px dotted black;border-radius: 0.25em;box-sizing: border-box;margin-bottom: 0.5em;}#sk-container-id-2 div.sk-estimator:hover {background-color: #d4ebff;}#sk-container-id-2 div.sk-parallel-item::after {content: \"\";width: 100%;border-bottom: 1px solid gray;flex-grow: 1;}#sk-container-id-2 div.sk-label:hover label.sk-toggleable__label {background-color: #d4ebff;}#sk-container-id-2 div.sk-serial::before {content: \"\";position: absolute;border-left: 1px solid gray;box-sizing: border-box;top: 0;bottom: 0;left: 50%;z-index: 0;}#sk-container-id-2 div.sk-serial {display: flex;flex-direction: column;align-items: center;background-color: white;padding-right: 0.2em;padding-left: 0.2em;position: relative;}#sk-container-id-2 div.sk-item {position: relative;z-index: 1;}#sk-container-id-2 div.sk-parallel {display: flex;align-items: stretch;justify-content: center;background-color: white;position: relative;}#sk-container-id-2 div.sk-item::before, #sk-container-id-2 div.sk-parallel-item::before {content: \"\";position: absolute;border-left: 1px solid gray;box-sizing: border-box;top: 0;bottom: 0;left: 50%;z-index: -1;}#sk-container-id-2 div.sk-parallel-item {display: flex;flex-direction: column;z-index: 1;position: relative;background-color: white;}#sk-container-id-2 div.sk-parallel-item:first-child::after {align-self: flex-end;width: 50%;}#sk-container-id-2 div.sk-parallel-item:last-child::after {align-self: flex-start;width: 50%;}#sk-container-id-2 div.sk-parallel-item:only-child::after {width: 0;}#sk-container-id-2 div.sk-dashed-wrapped {border: 1px dashed gray;margin: 0 0.4em 0.5em 0.4em;box-sizing: border-box;padding-bottom: 0.4em;background-color: white;}#sk-container-id-2 div.sk-label label {font-family: monospace;font-weight: bold;display: inline-block;line-height: 1.2em;}#sk-container-id-2 div.sk-label-container {text-align: center;}#sk-container-id-2 div.sk-container {/* jupyter's `normalize.less` sets `[hidden] { display: none; }` but bootstrap.min.css set `[hidden] { display: none !important; }` so we also need the `!important` here to be able to override the default hidden behavior on the sphinx rendered scikit-learn.org. See: https://github.com/scikit-learn/scikit-learn/issues/21755 */display: inline-block !important;position: relative;}#sk-container-id-2 div.sk-text-repr-fallback {display: none;}</style><div id=\"sk-container-id-2\" class=\"sk-top-container\"><div class=\"sk-text-repr-fallback\"><pre>SVR(kernel=&#x27;linear&#x27;)</pre><b>In a Jupyter environment, please rerun this cell to show the HTML representation or trust the notebook. <br />On GitHub, the HTML representation is unable to render, please try loading this page with nbviewer.org.</b></div><div class=\"sk-container\" hidden><div class=\"sk-item\"><div class=\"sk-estimator sk-toggleable\"><input class=\"sk-toggleable__control sk-hidden--visually\" id=\"sk-estimator-id-2\" type=\"checkbox\" checked><label for=\"sk-estimator-id-2\" class=\"sk-toggleable__label sk-toggleable__label-arrow\">SVR</label><div class=\"sk-toggleable__content\"><pre>SVR(kernel=&#x27;linear&#x27;)</pre></div></div></div></div></div>"
      ],
      "text/plain": [
       "SVR(kernel='linear')"
      ]
     },
     "execution_count": 23,
     "metadata": {},
     "output_type": "execute_result"
    }
   ],
   "source": [
    "svr.fit(X_train,y_train)"
   ]
  },
  {
   "cell_type": "code",
   "execution_count": 24,
   "id": "c2806cb1",
   "metadata": {},
   "outputs": [
    {
     "data": {
      "text/plain": [
       "array([[73.13674688, 54.34714373]])"
      ]
     },
     "execution_count": 24,
     "metadata": {},
     "output_type": "execute_result"
    }
   ],
   "source": [
    "svr.coef_"
   ]
  },
  {
   "cell_type": "code",
   "execution_count": 25,
   "id": "e1d52716",
   "metadata": {},
   "outputs": [
    {
     "data": {
      "text/plain": [
       "array([-0.03128578])"
      ]
     },
     "execution_count": 25,
     "metadata": {},
     "output_type": "execute_result"
    }
   ],
   "source": [
    "svr.intercept_"
   ]
  },
  {
   "cell_type": "code",
   "execution_count": 26,
   "id": "24936af9",
   "metadata": {},
   "outputs": [],
   "source": [
    "y_pre = svr.predict(X_test)"
   ]
  },
  {
   "cell_type": "code",
   "execution_count": 27,
   "id": "a9a6bc0d",
   "metadata": {
    "scrolled": true
   },
   "outputs": [
    {
     "data": {
      "text/plain": [
       "array([  57.0119505 ,   49.13346851,  -70.69282184, -103.90388069,\n",
       "        222.85882481, -123.99311032, -142.57353316,  289.02877887,\n",
       "         -4.57973539,   79.84668327,  137.51269788,   74.9219675 ,\n",
       "         54.80261309,   93.70470337,  -25.57310765,  169.33696305,\n",
       "        137.89447155,   13.8059554 ,   19.94653357,  -87.41026277,\n",
       "       -223.71353432,   -9.01661428, -116.88918578, -278.83302406,\n",
       "          5.68971198,   63.10682102,  137.88482015,    2.82788629,\n",
       "         -1.53410011,   43.66501991,    1.58737523,   56.79119163,\n",
       "        -16.66427082,  109.14554123,   53.41334176,  206.87154411,\n",
       "        -74.05279274,  -49.31693637,   32.72460277,   -1.28037847,\n",
       "       -132.68564114,   55.93948523,   47.42315417,  -74.73676784,\n",
       "        -22.65276308,   47.39246096,   57.72368554,    7.1025527 ,\n",
       "        -47.0466468 ,    6.7199337 ,  -21.85466869,  -31.93444382,\n",
       "        102.86376228,   -0.92995256,  -38.39199047,  -75.83100208,\n",
       "       -118.33794813, -105.07175314,  103.40869191,  -25.99789862,\n",
       "         56.02888338,  257.17456896,    3.43677932, -214.45457815,\n",
       "        -10.583625  ,  -11.20985539, -154.95857669,   18.47296451,\n",
       "       -203.12616605,   71.14432231,   69.65754967,  -53.96425007,\n",
       "        -20.20068358,  -84.72983366, -206.06674032,  123.91541807,\n",
       "         49.51566713,  -33.4648714 , -171.54168778,  -90.6028574 ,\n",
       "        -98.11483282,  -74.40554489,   65.48783162,  179.30749156,\n",
       "        256.36805777,  112.14867037,   21.19822058,  -17.9734401 ,\n",
       "       -179.24225227, -125.41891557,    1.39061866,  -12.02768195,\n",
       "       -220.68584412,   88.67554552,  120.69669807,  113.19348876,\n",
       "        139.07508071,  -15.28334836,   57.95405576,  -68.87007672,\n",
       "        -22.72084061,   59.60510869,   75.2169158 ,  -57.77054457,\n",
       "         58.90582066,  -89.00814481,  -13.47217541,   26.04030676,\n",
       "        -51.79755995,   84.10365334, -113.43340981,   12.25761486,\n",
       "         15.1548489 ,  -52.62505729, -123.09405635,  -20.59547861,\n",
       "        185.00452135,   13.47293632,    9.74291365,   95.3642026 ,\n",
       "       -143.80511629,  163.51370752,  -73.85760542,   54.54743394,\n",
       "        -90.43406032,  -53.33081384,   -2.02364228,   23.74133155,\n",
       "       -121.50306221,  -20.11982231,  -19.66037108,  -26.85835489,\n",
       "         -2.97872082, -117.30910222,    7.13857233,  -57.83163339,\n",
       "       -144.69848917,  -38.91429725,  -89.38476441,  106.4057999 ,\n",
       "        101.55887542, -225.04039594,  -14.16300466,  175.84740487,\n",
       "        -69.53252532, -135.12170446,   74.86471631,  262.06629158,\n",
       "       -101.62805667,   -3.53664442,  -99.16784773, -142.77704585,\n",
       "         92.8177561 ,   20.41454549,  -58.06248181,  -17.49647855,\n",
       "         53.62525705, -169.30994449, -183.21375645,   23.18246363,\n",
       "         87.59626154,  -69.67264495,  -88.76445461,  198.49764177,\n",
       "        -65.68233587,   84.18527234, -123.84402715,  -67.19209053,\n",
       "        -35.76087382,  -24.78157166,  242.69968601,   22.47392051,\n",
       "         33.02703342,   81.91991044,  -95.5767789 , -101.0647961 ,\n",
       "       -129.54393993,  -18.4665885 ,  -67.94202476,  -89.62504697,\n",
       "        -93.00577406,  114.40334566,   -7.92055932, -104.88392364,\n",
       "         54.37498338, -141.31742514, -105.36244278,  177.75598459,\n",
       "         26.01649167,  -52.50797763,   55.90855913,   57.06997475,\n",
       "        -27.64194769, -111.86741287,  -25.65361104,  104.72351902,\n",
       "       -138.67197774,   40.19715071,   34.22700407,  121.41327607,\n",
       "         81.25540399,  -91.31805401,  134.85907241,  -56.5503398 ,\n",
       "         18.45114133,   17.86561697,   38.26431964,  -62.32986493,\n",
       "        -46.19460387, -165.54624937,   -5.95919719,  -70.02917789,\n",
       "        -39.51768583,  157.08149452,   46.95270659,   50.29177336,\n",
       "       -166.91025613,  126.83526896,  -72.17176677,  184.41653588,\n",
       "        -28.08955041,  -57.92509508,  -55.54458785,   -8.3391996 ,\n",
       "         36.26746768,   -3.84141767,   69.05030324, -164.71250533,\n",
       "         19.66324678,   13.58600492,   13.80271641,   65.46040074,\n",
       "         52.14424625, -130.52465991,  -92.78657322,   -0.49441062,\n",
       "         26.12478323,  -81.23720307,  128.28073273,   66.62329474,\n",
       "       -150.48033785,   30.63857506, -126.36623197,   57.02504479,\n",
       "         45.67235415,  -93.00527297, -239.54623502,  107.5285535 ,\n",
       "        -24.71541516,   43.88505979,  101.58908533,  -92.10557382,\n",
       "       -116.22971494,   69.49951362, -198.14121585,  -69.5423416 ,\n",
       "        110.00698268,  -12.68930038,   85.61896798,   82.29310902,\n",
       "        -53.7132854 ,  -17.03923508,  -18.57633402,   59.93760408,\n",
       "        -26.07369982,  -37.19041222,   18.81706128,  107.49894209,\n",
       "        -59.02614568,  -30.04825854,  115.18519027,   46.29285292,\n",
       "          4.69340789,   60.69768977,  183.99030165,   71.6066065 ,\n",
       "        -46.54100728,  -43.24925901,  -71.9189749 , -212.4634317 ,\n",
       "         49.48171757,   73.67328259, -180.52895547,   60.82594733,\n",
       "        -82.01360317, -129.05125157,  -10.1693376 ,   77.41933719,\n",
       "        -96.14272639,  -77.84839371,   26.20115706,   -6.24245675,\n",
       "          5.33813237,   21.27086914,   72.13574656,  -79.44196898,\n",
       "         98.12189541,  175.3931255 ,   -5.8817431 ,  -86.83765715])"
      ]
     },
     "execution_count": 27,
     "metadata": {},
     "output_type": "execute_result"
    }
   ],
   "source": [
    "y_pre"
   ]
  },
  {
   "cell_type": "code",
   "execution_count": 28,
   "id": "abe84713",
   "metadata": {},
   "outputs": [],
   "source": [
    "from sklearn.metrics import r2_score"
   ]
  },
  {
   "cell_type": "code",
   "execution_count": 29,
   "id": "8c772f73",
   "metadata": {},
   "outputs": [
    {
     "data": {
      "text/plain": [
       "0.9999886152230135"
      ]
     },
     "execution_count": 29,
     "metadata": {},
     "output_type": "execute_result"
    }
   ],
   "source": [
    "r2_score(y_test,y_pre)"
   ]
  },
  {
   "cell_type": "code",
   "execution_count": 30,
   "id": "f3872139",
   "metadata": {},
   "outputs": [],
   "source": [
    "# hyper tuning"
   ]
  },
  {
   "cell_type": "code",
   "execution_count": 32,
   "id": "e8cf924d",
   "metadata": {},
   "outputs": [],
   "source": [
    "from sklearn.model_selection import GridSearchCV"
   ]
  },
  {
   "cell_type": "code",
   "execution_count": 33,
   "id": "aa975ff0",
   "metadata": {},
   "outputs": [],
   "source": [
    "para = {\n",
    "    \"C\" : [0.1,1,10,100,1000],\n",
    "    \"gamma\" : [1,0.1,0.01,0.001,0.0001],\n",
    "    \"kernel\" : [\"linear\"],\n",
    "    \"epsilon\" : [0.1,0.2,0.3]\n",
    "}"
   ]
  },
  {
   "cell_type": "code",
   "execution_count": 36,
   "id": "0211a732",
   "metadata": {},
   "outputs": [],
   "source": [
    "gri = GridSearchCV(SVR(),param_grid=para,refit=True,cv=5,verbose=3)"
   ]
  },
  {
   "cell_type": "code",
   "execution_count": 37,
   "id": "16ccf3f5",
   "metadata": {
    "scrolled": true
   },
   "outputs": [
    {
     "name": "stdout",
     "output_type": "stream",
     "text": [
      "Fitting 5 folds for each of 75 candidates, totalling 375 fits\n",
      "[CV 1/5] END C=0.1, epsilon=0.1, gamma=1, kernel=linear;, score=0.721 total time=   0.0s\n",
      "[CV 2/5] END C=0.1, epsilon=0.1, gamma=1, kernel=linear;, score=0.740 total time=   0.0s\n",
      "[CV 3/5] END C=0.1, epsilon=0.1, gamma=1, kernel=linear;, score=0.729 total time=   0.0s\n",
      "[CV 4/5] END C=0.1, epsilon=0.1, gamma=1, kernel=linear;, score=0.733 total time=   0.0s\n",
      "[CV 5/5] END C=0.1, epsilon=0.1, gamma=1, kernel=linear;, score=0.741 total time=   0.0s\n",
      "[CV 1/5] END C=0.1, epsilon=0.1, gamma=0.1, kernel=linear;, score=0.721 total time=   0.0s\n",
      "[CV 2/5] END C=0.1, epsilon=0.1, gamma=0.1, kernel=linear;, score=0.740 total time=   0.0s\n",
      "[CV 3/5] END C=0.1, epsilon=0.1, gamma=0.1, kernel=linear;, score=0.729 total time=   0.0s\n",
      "[CV 4/5] END C=0.1, epsilon=0.1, gamma=0.1, kernel=linear;, score=0.733 total time=   0.0s\n",
      "[CV 5/5] END C=0.1, epsilon=0.1, gamma=0.1, kernel=linear;, score=0.741 total time=   0.0s\n",
      "[CV 1/5] END C=0.1, epsilon=0.1, gamma=0.01, kernel=linear;, score=0.721 total time=   0.0s\n",
      "[CV 2/5] END C=0.1, epsilon=0.1, gamma=0.01, kernel=linear;, score=0.740 total time=   0.0s\n",
      "[CV 3/5] END C=0.1, epsilon=0.1, gamma=0.01, kernel=linear;, score=0.729 total time=   0.0s\n",
      "[CV 4/5] END C=0.1, epsilon=0.1, gamma=0.01, kernel=linear;, score=0.733 total time=   0.0s\n",
      "[CV 5/5] END C=0.1, epsilon=0.1, gamma=0.01, kernel=linear;, score=0.741 total time=   0.0s\n",
      "[CV 1/5] END C=0.1, epsilon=0.1, gamma=0.001, kernel=linear;, score=0.721 total time=   0.0s\n",
      "[CV 2/5] END C=0.1, epsilon=0.1, gamma=0.001, kernel=linear;, score=0.740 total time=   0.0s\n",
      "[CV 3/5] END C=0.1, epsilon=0.1, gamma=0.001, kernel=linear;, score=0.729 total time=   0.0s\n",
      "[CV 4/5] END C=0.1, epsilon=0.1, gamma=0.001, kernel=linear;, score=0.733 total time=   0.0s\n",
      "[CV 5/5] END C=0.1, epsilon=0.1, gamma=0.001, kernel=linear;, score=0.741 total time=   0.0s\n",
      "[CV 1/5] END C=0.1, epsilon=0.1, gamma=0.0001, kernel=linear;, score=0.721 total time=   0.0s\n",
      "[CV 2/5] END C=0.1, epsilon=0.1, gamma=0.0001, kernel=linear;, score=0.740 total time=   0.0s\n",
      "[CV 3/5] END C=0.1, epsilon=0.1, gamma=0.0001, kernel=linear;, score=0.729 total time=   0.0s\n",
      "[CV 4/5] END C=0.1, epsilon=0.1, gamma=0.0001, kernel=linear;, score=0.733 total time=   0.0s\n",
      "[CV 5/5] END C=0.1, epsilon=0.1, gamma=0.0001, kernel=linear;, score=0.741 total time=   0.0s\n",
      "[CV 1/5] END C=0.1, epsilon=0.2, gamma=1, kernel=linear;, score=0.721 total time=   0.0s\n",
      "[CV 2/5] END C=0.1, epsilon=0.2, gamma=1, kernel=linear;, score=0.740 total time=   0.0s\n",
      "[CV 3/5] END C=0.1, epsilon=0.2, gamma=1, kernel=linear;, score=0.729 total time=   0.0s\n",
      "[CV 4/5] END C=0.1, epsilon=0.2, gamma=1, kernel=linear;, score=0.733 total time=   0.0s\n",
      "[CV 5/5] END C=0.1, epsilon=0.2, gamma=1, kernel=linear;, score=0.741 total time=   0.0s\n",
      "[CV 1/5] END C=0.1, epsilon=0.2, gamma=0.1, kernel=linear;, score=0.721 total time=   0.0s\n",
      "[CV 2/5] END C=0.1, epsilon=0.2, gamma=0.1, kernel=linear;, score=0.740 total time=   0.0s\n",
      "[CV 3/5] END C=0.1, epsilon=0.2, gamma=0.1, kernel=linear;, score=0.729 total time=   0.0s\n",
      "[CV 4/5] END C=0.1, epsilon=0.2, gamma=0.1, kernel=linear;, score=0.733 total time=   0.0s\n",
      "[CV 5/5] END C=0.1, epsilon=0.2, gamma=0.1, kernel=linear;, score=0.741 total time=   0.0s\n",
      "[CV 1/5] END C=0.1, epsilon=0.2, gamma=0.01, kernel=linear;, score=0.721 total time=   0.0s\n",
      "[CV 2/5] END C=0.1, epsilon=0.2, gamma=0.01, kernel=linear;, score=0.740 total time=   0.0s\n",
      "[CV 3/5] END C=0.1, epsilon=0.2, gamma=0.01, kernel=linear;, score=0.729 total time=   0.0s\n",
      "[CV 4/5] END C=0.1, epsilon=0.2, gamma=0.01, kernel=linear;, score=0.733 total time=   0.0s\n",
      "[CV 5/5] END C=0.1, epsilon=0.2, gamma=0.01, kernel=linear;, score=0.741 total time=   0.0s\n",
      "[CV 1/5] END C=0.1, epsilon=0.2, gamma=0.001, kernel=linear;, score=0.721 total time=   0.0s\n",
      "[CV 2/5] END C=0.1, epsilon=0.2, gamma=0.001, kernel=linear;, score=0.740 total time=   0.0s\n",
      "[CV 3/5] END C=0.1, epsilon=0.2, gamma=0.001, kernel=linear;, score=0.729 total time=   0.0s\n",
      "[CV 4/5] END C=0.1, epsilon=0.2, gamma=0.001, kernel=linear;, score=0.733 total time=   0.0s\n",
      "[CV 5/5] END C=0.1, epsilon=0.2, gamma=0.001, kernel=linear;, score=0.741 total time=   0.0s\n",
      "[CV 1/5] END C=0.1, epsilon=0.2, gamma=0.0001, kernel=linear;, score=0.721 total time=   0.0s\n",
      "[CV 2/5] END C=0.1, epsilon=0.2, gamma=0.0001, kernel=linear;, score=0.740 total time=   0.0s\n",
      "[CV 3/5] END C=0.1, epsilon=0.2, gamma=0.0001, kernel=linear;, score=0.729 total time=   0.0s\n",
      "[CV 4/5] END C=0.1, epsilon=0.2, gamma=0.0001, kernel=linear;, score=0.733 total time=   0.0s\n",
      "[CV 5/5] END C=0.1, epsilon=0.2, gamma=0.0001, kernel=linear;, score=0.741 total time=   0.0s\n",
      "[CV 1/5] END C=0.1, epsilon=0.3, gamma=1, kernel=linear;, score=0.721 total time=   0.0s\n",
      "[CV 2/5] END C=0.1, epsilon=0.3, gamma=1, kernel=linear;, score=0.740 total time=   0.0s\n",
      "[CV 3/5] END C=0.1, epsilon=0.3, gamma=1, kernel=linear;, score=0.729 total time=   0.0s\n",
      "[CV 4/5] END C=0.1, epsilon=0.3, gamma=1, kernel=linear;, score=0.733 total time=   0.0s\n",
      "[CV 5/5] END C=0.1, epsilon=0.3, gamma=1, kernel=linear;, score=0.741 total time=   0.0s\n",
      "[CV 1/5] END C=0.1, epsilon=0.3, gamma=0.1, kernel=linear;, score=0.721 total time=   0.0s\n",
      "[CV 2/5] END C=0.1, epsilon=0.3, gamma=0.1, kernel=linear;, score=0.740 total time=   0.0s\n",
      "[CV 3/5] END C=0.1, epsilon=0.3, gamma=0.1, kernel=linear;, score=0.729 total time=   0.0s\n",
      "[CV 4/5] END C=0.1, epsilon=0.3, gamma=0.1, kernel=linear;, score=0.733 total time=   0.0s\n",
      "[CV 5/5] END C=0.1, epsilon=0.3, gamma=0.1, kernel=linear;, score=0.741 total time=   0.0s\n",
      "[CV 1/5] END C=0.1, epsilon=0.3, gamma=0.01, kernel=linear;, score=0.721 total time=   0.0s\n",
      "[CV 2/5] END C=0.1, epsilon=0.3, gamma=0.01, kernel=linear;, score=0.740 total time=   0.0s\n",
      "[CV 3/5] END C=0.1, epsilon=0.3, gamma=0.01, kernel=linear;, score=0.729 total time=   0.0s\n",
      "[CV 4/5] END C=0.1, epsilon=0.3, gamma=0.01, kernel=linear;, score=0.733 total time=   0.0s\n",
      "[CV 5/5] END C=0.1, epsilon=0.3, gamma=0.01, kernel=linear;, score=0.741 total time=   0.0s\n",
      "[CV 1/5] END C=0.1, epsilon=0.3, gamma=0.001, kernel=linear;, score=0.721 total time=   0.0s\n",
      "[CV 2/5] END C=0.1, epsilon=0.3, gamma=0.001, kernel=linear;, score=0.740 total time=   0.0s\n",
      "[CV 3/5] END C=0.1, epsilon=0.3, gamma=0.001, kernel=linear;, score=0.729 total time=   0.0s\n",
      "[CV 4/5] END C=0.1, epsilon=0.3, gamma=0.001, kernel=linear;, score=0.733 total time=   0.0s\n",
      "[CV 5/5] END C=0.1, epsilon=0.3, gamma=0.001, kernel=linear;, score=0.741 total time=   0.0s\n",
      "[CV 1/5] END C=0.1, epsilon=0.3, gamma=0.0001, kernel=linear;, score=0.721 total time=   0.0s\n",
      "[CV 2/5] END C=0.1, epsilon=0.3, gamma=0.0001, kernel=linear;, score=0.740 total time=   0.0s\n",
      "[CV 3/5] END C=0.1, epsilon=0.3, gamma=0.0001, kernel=linear;, score=0.729 total time=   0.0s\n",
      "[CV 4/5] END C=0.1, epsilon=0.3, gamma=0.0001, kernel=linear;, score=0.733 total time=   0.0s\n",
      "[CV 5/5] END C=0.1, epsilon=0.3, gamma=0.0001, kernel=linear;, score=0.741 total time=   0.0s\n",
      "[CV 1/5] END C=1, epsilon=0.1, gamma=1, kernel=linear;, score=1.000 total time=   0.0s\n",
      "[CV 2/5] END C=1, epsilon=0.1, gamma=1, kernel=linear;, score=1.000 total time=   0.0s\n",
      "[CV 3/5] END C=1, epsilon=0.1, gamma=1, kernel=linear;, score=1.000 total time=   0.0s\n",
      "[CV 4/5] END C=1, epsilon=0.1, gamma=1, kernel=linear;, score=1.000 total time=   0.0s\n",
      "[CV 5/5] END C=1, epsilon=0.1, gamma=1, kernel=linear;, score=1.000 total time=   0.0s\n",
      "[CV 1/5] END C=1, epsilon=0.1, gamma=0.1, kernel=linear;, score=1.000 total time=   0.0s\n",
      "[CV 2/5] END C=1, epsilon=0.1, gamma=0.1, kernel=linear;, score=1.000 total time=   0.0s\n",
      "[CV 3/5] END C=1, epsilon=0.1, gamma=0.1, kernel=linear;, score=1.000 total time=   0.0s\n",
      "[CV 4/5] END C=1, epsilon=0.1, gamma=0.1, kernel=linear;, score=1.000 total time=   0.0s\n",
      "[CV 5/5] END C=1, epsilon=0.1, gamma=0.1, kernel=linear;, score=1.000 total time=   0.0s\n",
      "[CV 1/5] END C=1, epsilon=0.1, gamma=0.01, kernel=linear;, score=1.000 total time=   0.0s\n",
      "[CV 2/5] END C=1, epsilon=0.1, gamma=0.01, kernel=linear;, score=1.000 total time=   0.0s\n",
      "[CV 3/5] END C=1, epsilon=0.1, gamma=0.01, kernel=linear;, score=1.000 total time=   0.0s\n",
      "[CV 4/5] END C=1, epsilon=0.1, gamma=0.01, kernel=linear;, score=1.000 total time=   0.0s\n",
      "[CV 5/5] END C=1, epsilon=0.1, gamma=0.01, kernel=linear;, score=1.000 total time=   0.0s\n",
      "[CV 1/5] END C=1, epsilon=0.1, gamma=0.001, kernel=linear;, score=1.000 total time=   0.0s\n",
      "[CV 2/5] END C=1, epsilon=0.1, gamma=0.001, kernel=linear;, score=1.000 total time=   0.0s\n"
     ]
    },
    {
     "name": "stdout",
     "output_type": "stream",
     "text": [
      "[CV 3/5] END C=1, epsilon=0.1, gamma=0.001, kernel=linear;, score=1.000 total time=   0.0s\n",
      "[CV 4/5] END C=1, epsilon=0.1, gamma=0.001, kernel=linear;, score=1.000 total time=   0.0s\n",
      "[CV 5/5] END C=1, epsilon=0.1, gamma=0.001, kernel=linear;, score=1.000 total time=   0.0s\n",
      "[CV 1/5] END C=1, epsilon=0.1, gamma=0.0001, kernel=linear;, score=1.000 total time=   0.0s\n",
      "[CV 2/5] END C=1, epsilon=0.1, gamma=0.0001, kernel=linear;, score=1.000 total time=   0.0s\n",
      "[CV 3/5] END C=1, epsilon=0.1, gamma=0.0001, kernel=linear;, score=1.000 total time=   0.0s\n",
      "[CV 4/5] END C=1, epsilon=0.1, gamma=0.0001, kernel=linear;, score=1.000 total time=   0.0s\n",
      "[CV 5/5] END C=1, epsilon=0.1, gamma=0.0001, kernel=linear;, score=1.000 total time=   0.0s\n",
      "[CV 1/5] END C=1, epsilon=0.2, gamma=1, kernel=linear;, score=1.000 total time=   0.0s\n",
      "[CV 2/5] END C=1, epsilon=0.2, gamma=1, kernel=linear;, score=1.000 total time=   0.0s\n",
      "[CV 3/5] END C=1, epsilon=0.2, gamma=1, kernel=linear;, score=1.000 total time=   0.0s\n",
      "[CV 4/5] END C=1, epsilon=0.2, gamma=1, kernel=linear;, score=1.000 total time=   0.0s\n",
      "[CV 5/5] END C=1, epsilon=0.2, gamma=1, kernel=linear;, score=1.000 total time=   0.0s\n",
      "[CV 1/5] END C=1, epsilon=0.2, gamma=0.1, kernel=linear;, score=1.000 total time=   0.0s\n",
      "[CV 2/5] END C=1, epsilon=0.2, gamma=0.1, kernel=linear;, score=1.000 total time=   0.0s\n",
      "[CV 3/5] END C=1, epsilon=0.2, gamma=0.1, kernel=linear;, score=1.000 total time=   0.0s\n",
      "[CV 4/5] END C=1, epsilon=0.2, gamma=0.1, kernel=linear;, score=1.000 total time=   0.0s\n",
      "[CV 5/5] END C=1, epsilon=0.2, gamma=0.1, kernel=linear;, score=1.000 total time=   0.0s\n",
      "[CV 1/5] END C=1, epsilon=0.2, gamma=0.01, kernel=linear;, score=1.000 total time=   0.0s\n",
      "[CV 2/5] END C=1, epsilon=0.2, gamma=0.01, kernel=linear;, score=1.000 total time=   0.0s\n",
      "[CV 3/5] END C=1, epsilon=0.2, gamma=0.01, kernel=linear;, score=1.000 total time=   0.0s\n",
      "[CV 4/5] END C=1, epsilon=0.2, gamma=0.01, kernel=linear;, score=1.000 total time=   0.0s\n",
      "[CV 5/5] END C=1, epsilon=0.2, gamma=0.01, kernel=linear;, score=1.000 total time=   0.0s\n",
      "[CV 1/5] END C=1, epsilon=0.2, gamma=0.001, kernel=linear;, score=1.000 total time=   0.0s\n",
      "[CV 2/5] END C=1, epsilon=0.2, gamma=0.001, kernel=linear;, score=1.000 total time=   0.0s\n",
      "[CV 3/5] END C=1, epsilon=0.2, gamma=0.001, kernel=linear;, score=1.000 total time=   0.0s\n",
      "[CV 4/5] END C=1, epsilon=0.2, gamma=0.001, kernel=linear;, score=1.000 total time=   0.0s\n",
      "[CV 5/5] END C=1, epsilon=0.2, gamma=0.001, kernel=linear;, score=1.000 total time=   0.0s\n",
      "[CV 1/5] END C=1, epsilon=0.2, gamma=0.0001, kernel=linear;, score=1.000 total time=   0.0s\n",
      "[CV 2/5] END C=1, epsilon=0.2, gamma=0.0001, kernel=linear;, score=1.000 total time=   0.0s\n",
      "[CV 3/5] END C=1, epsilon=0.2, gamma=0.0001, kernel=linear;, score=1.000 total time=   0.0s\n",
      "[CV 4/5] END C=1, epsilon=0.2, gamma=0.0001, kernel=linear;, score=1.000 total time=   0.0s\n",
      "[CV 5/5] END C=1, epsilon=0.2, gamma=0.0001, kernel=linear;, score=1.000 total time=   0.0s\n",
      "[CV 1/5] END C=1, epsilon=0.3, gamma=1, kernel=linear;, score=1.000 total time=   0.0s\n",
      "[CV 2/5] END C=1, epsilon=0.3, gamma=1, kernel=linear;, score=1.000 total time=   0.0s\n",
      "[CV 3/5] END C=1, epsilon=0.3, gamma=1, kernel=linear;, score=1.000 total time=   0.0s\n",
      "[CV 4/5] END C=1, epsilon=0.3, gamma=1, kernel=linear;, score=1.000 total time=   0.0s\n",
      "[CV 5/5] END C=1, epsilon=0.3, gamma=1, kernel=linear;, score=1.000 total time=   0.0s\n",
      "[CV 1/5] END C=1, epsilon=0.3, gamma=0.1, kernel=linear;, score=1.000 total time=   0.0s\n",
      "[CV 2/5] END C=1, epsilon=0.3, gamma=0.1, kernel=linear;, score=1.000 total time=   0.0s\n",
      "[CV 3/5] END C=1, epsilon=0.3, gamma=0.1, kernel=linear;, score=1.000 total time=   0.0s\n",
      "[CV 4/5] END C=1, epsilon=0.3, gamma=0.1, kernel=linear;, score=1.000 total time=   0.0s\n",
      "[CV 5/5] END C=1, epsilon=0.3, gamma=0.1, kernel=linear;, score=1.000 total time=   0.0s\n",
      "[CV 1/5] END C=1, epsilon=0.3, gamma=0.01, kernel=linear;, score=1.000 total time=   0.0s\n",
      "[CV 2/5] END C=1, epsilon=0.3, gamma=0.01, kernel=linear;, score=1.000 total time=   0.0s\n",
      "[CV 3/5] END C=1, epsilon=0.3, gamma=0.01, kernel=linear;, score=1.000 total time=   0.0s\n",
      "[CV 4/5] END C=1, epsilon=0.3, gamma=0.01, kernel=linear;, score=1.000 total time=   0.0s\n",
      "[CV 5/5] END C=1, epsilon=0.3, gamma=0.01, kernel=linear;, score=1.000 total time=   0.0s\n",
      "[CV 1/5] END C=1, epsilon=0.3, gamma=0.001, kernel=linear;, score=1.000 total time=   0.0s\n",
      "[CV 2/5] END C=1, epsilon=0.3, gamma=0.001, kernel=linear;, score=1.000 total time=   0.0s\n",
      "[CV 3/5] END C=1, epsilon=0.3, gamma=0.001, kernel=linear;, score=1.000 total time=   0.0s\n",
      "[CV 4/5] END C=1, epsilon=0.3, gamma=0.001, kernel=linear;, score=1.000 total time=   0.0s\n",
      "[CV 5/5] END C=1, epsilon=0.3, gamma=0.001, kernel=linear;, score=1.000 total time=   0.0s\n",
      "[CV 1/5] END C=1, epsilon=0.3, gamma=0.0001, kernel=linear;, score=1.000 total time=   0.0s\n",
      "[CV 2/5] END C=1, epsilon=0.3, gamma=0.0001, kernel=linear;, score=1.000 total time=   0.0s\n",
      "[CV 3/5] END C=1, epsilon=0.3, gamma=0.0001, kernel=linear;, score=1.000 total time=   0.0s\n",
      "[CV 4/5] END C=1, epsilon=0.3, gamma=0.0001, kernel=linear;, score=1.000 total time=   0.0s\n",
      "[CV 5/5] END C=1, epsilon=0.3, gamma=0.0001, kernel=linear;, score=1.000 total time=   0.0s\n",
      "[CV 1/5] END C=10, epsilon=0.1, gamma=1, kernel=linear;, score=1.000 total time=   0.1s\n",
      "[CV 2/5] END C=10, epsilon=0.1, gamma=1, kernel=linear;, score=1.000 total time=   0.1s\n",
      "[CV 3/5] END C=10, epsilon=0.1, gamma=1, kernel=linear;, score=1.000 total time=   0.1s\n",
      "[CV 4/5] END C=10, epsilon=0.1, gamma=1, kernel=linear;, score=1.000 total time=   0.1s\n",
      "[CV 5/5] END C=10, epsilon=0.1, gamma=1, kernel=linear;, score=1.000 total time=   0.1s\n",
      "[CV 1/5] END C=10, epsilon=0.1, gamma=0.1, kernel=linear;, score=1.000 total time=   0.0s\n",
      "[CV 2/5] END C=10, epsilon=0.1, gamma=0.1, kernel=linear;, score=1.000 total time=   0.1s\n",
      "[CV 3/5] END C=10, epsilon=0.1, gamma=0.1, kernel=linear;, score=1.000 total time=   0.1s\n",
      "[CV 4/5] END C=10, epsilon=0.1, gamma=0.1, kernel=linear;, score=1.000 total time=   0.1s\n",
      "[CV 5/5] END C=10, epsilon=0.1, gamma=0.1, kernel=linear;, score=1.000 total time=   0.1s\n",
      "[CV 1/5] END C=10, epsilon=0.1, gamma=0.01, kernel=linear;, score=1.000 total time=   0.0s\n",
      "[CV 2/5] END C=10, epsilon=0.1, gamma=0.01, kernel=linear;, score=1.000 total time=   0.1s\n",
      "[CV 3/5] END C=10, epsilon=0.1, gamma=0.01, kernel=linear;, score=1.000 total time=   0.1s\n",
      "[CV 4/5] END C=10, epsilon=0.1, gamma=0.01, kernel=linear;, score=1.000 total time=   0.1s\n",
      "[CV 5/5] END C=10, epsilon=0.1, gamma=0.01, kernel=linear;, score=1.000 total time=   0.1s\n",
      "[CV 1/5] END C=10, epsilon=0.1, gamma=0.001, kernel=linear;, score=1.000 total time=   0.1s\n",
      "[CV 2/5] END C=10, epsilon=0.1, gamma=0.001, kernel=linear;, score=1.000 total time=   0.1s\n",
      "[CV 3/5] END C=10, epsilon=0.1, gamma=0.001, kernel=linear;, score=1.000 total time=   0.1s\n",
      "[CV 4/5] END C=10, epsilon=0.1, gamma=0.001, kernel=linear;, score=1.000 total time=   0.1s\n",
      "[CV 5/5] END C=10, epsilon=0.1, gamma=0.001, kernel=linear;, score=1.000 total time=   0.1s\n",
      "[CV 1/5] END C=10, epsilon=0.1, gamma=0.0001, kernel=linear;, score=1.000 total time=   0.0s\n",
      "[CV 2/5] END C=10, epsilon=0.1, gamma=0.0001, kernel=linear;, score=1.000 total time=   0.1s\n",
      "[CV 3/5] END C=10, epsilon=0.1, gamma=0.0001, kernel=linear;, score=1.000 total time=   0.1s\n",
      "[CV 4/5] END C=10, epsilon=0.1, gamma=0.0001, kernel=linear;, score=1.000 total time=   0.1s\n",
      "[CV 5/5] END C=10, epsilon=0.1, gamma=0.0001, kernel=linear;, score=1.000 total time=   0.1s\n",
      "[CV 1/5] END C=10, epsilon=0.2, gamma=1, kernel=linear;, score=1.000 total time=   0.0s\n",
      "[CV 2/5] END C=10, epsilon=0.2, gamma=1, kernel=linear;, score=1.000 total time=   0.0s\n",
      "[CV 3/5] END C=10, epsilon=0.2, gamma=1, kernel=linear;, score=1.000 total time=   0.0s\n",
      "[CV 4/5] END C=10, epsilon=0.2, gamma=1, kernel=linear;, score=1.000 total time=   0.0s\n",
      "[CV 5/5] END C=10, epsilon=0.2, gamma=1, kernel=linear;, score=1.000 total time=   0.1s\n",
      "[CV 1/5] END C=10, epsilon=0.2, gamma=0.1, kernel=linear;, score=1.000 total time=   0.0s\n",
      "[CV 2/5] END C=10, epsilon=0.2, gamma=0.1, kernel=linear;, score=1.000 total time=   0.0s\n",
      "[CV 3/5] END C=10, epsilon=0.2, gamma=0.1, kernel=linear;, score=1.000 total time=   0.0s\n",
      "[CV 4/5] END C=10, epsilon=0.2, gamma=0.1, kernel=linear;, score=1.000 total time=   0.0s\n"
     ]
    },
    {
     "name": "stdout",
     "output_type": "stream",
     "text": [
      "[CV 5/5] END C=10, epsilon=0.2, gamma=0.1, kernel=linear;, score=1.000 total time=   0.0s\n",
      "[CV 1/5] END C=10, epsilon=0.2, gamma=0.01, kernel=linear;, score=1.000 total time=   0.0s\n",
      "[CV 2/5] END C=10, epsilon=0.2, gamma=0.01, kernel=linear;, score=1.000 total time=   0.0s\n",
      "[CV 3/5] END C=10, epsilon=0.2, gamma=0.01, kernel=linear;, score=1.000 total time=   0.0s\n",
      "[CV 4/5] END C=10, epsilon=0.2, gamma=0.01, kernel=linear;, score=1.000 total time=   0.0s\n",
      "[CV 5/5] END C=10, epsilon=0.2, gamma=0.01, kernel=linear;, score=1.000 total time=   0.0s\n",
      "[CV 1/5] END C=10, epsilon=0.2, gamma=0.001, kernel=linear;, score=1.000 total time=   0.0s\n",
      "[CV 2/5] END C=10, epsilon=0.2, gamma=0.001, kernel=linear;, score=1.000 total time=   0.0s\n",
      "[CV 3/5] END C=10, epsilon=0.2, gamma=0.001, kernel=linear;, score=1.000 total time=   0.0s\n",
      "[CV 4/5] END C=10, epsilon=0.2, gamma=0.001, kernel=linear;, score=1.000 total time=   0.0s\n",
      "[CV 5/5] END C=10, epsilon=0.2, gamma=0.001, kernel=linear;, score=1.000 total time=   0.0s\n",
      "[CV 1/5] END C=10, epsilon=0.2, gamma=0.0001, kernel=linear;, score=1.000 total time=   0.0s\n",
      "[CV 2/5] END C=10, epsilon=0.2, gamma=0.0001, kernel=linear;, score=1.000 total time=   0.0s\n",
      "[CV 3/5] END C=10, epsilon=0.2, gamma=0.0001, kernel=linear;, score=1.000 total time=   0.0s\n",
      "[CV 4/5] END C=10, epsilon=0.2, gamma=0.0001, kernel=linear;, score=1.000 total time=   0.0s\n",
      "[CV 5/5] END C=10, epsilon=0.2, gamma=0.0001, kernel=linear;, score=1.000 total time=   0.0s\n",
      "[CV 1/5] END C=10, epsilon=0.3, gamma=1, kernel=linear;, score=1.000 total time=   0.0s\n",
      "[CV 2/5] END C=10, epsilon=0.3, gamma=1, kernel=linear;, score=1.000 total time=   0.0s\n",
      "[CV 3/5] END C=10, epsilon=0.3, gamma=1, kernel=linear;, score=1.000 total time=   0.0s\n",
      "[CV 4/5] END C=10, epsilon=0.3, gamma=1, kernel=linear;, score=1.000 total time=   0.0s\n",
      "[CV 5/5] END C=10, epsilon=0.3, gamma=1, kernel=linear;, score=1.000 total time=   0.0s\n",
      "[CV 1/5] END C=10, epsilon=0.3, gamma=0.1, kernel=linear;, score=1.000 total time=   0.0s\n",
      "[CV 2/5] END C=10, epsilon=0.3, gamma=0.1, kernel=linear;, score=1.000 total time=   0.0s\n",
      "[CV 3/5] END C=10, epsilon=0.3, gamma=0.1, kernel=linear;, score=1.000 total time=   0.0s\n",
      "[CV 4/5] END C=10, epsilon=0.3, gamma=0.1, kernel=linear;, score=1.000 total time=   0.0s\n",
      "[CV 5/5] END C=10, epsilon=0.3, gamma=0.1, kernel=linear;, score=1.000 total time=   0.0s\n",
      "[CV 1/5] END C=10, epsilon=0.3, gamma=0.01, kernel=linear;, score=1.000 total time=   0.0s\n",
      "[CV 2/5] END C=10, epsilon=0.3, gamma=0.01, kernel=linear;, score=1.000 total time=   0.0s\n",
      "[CV 3/5] END C=10, epsilon=0.3, gamma=0.01, kernel=linear;, score=1.000 total time=   0.0s\n",
      "[CV 4/5] END C=10, epsilon=0.3, gamma=0.01, kernel=linear;, score=1.000 total time=   0.0s\n",
      "[CV 5/5] END C=10, epsilon=0.3, gamma=0.01, kernel=linear;, score=1.000 total time=   0.0s\n",
      "[CV 1/5] END C=10, epsilon=0.3, gamma=0.001, kernel=linear;, score=1.000 total time=   0.0s\n",
      "[CV 2/5] END C=10, epsilon=0.3, gamma=0.001, kernel=linear;, score=1.000 total time=   0.0s\n",
      "[CV 3/5] END C=10, epsilon=0.3, gamma=0.001, kernel=linear;, score=1.000 total time=   0.0s\n",
      "[CV 4/5] END C=10, epsilon=0.3, gamma=0.001, kernel=linear;, score=1.000 total time=   0.0s\n",
      "[CV 5/5] END C=10, epsilon=0.3, gamma=0.001, kernel=linear;, score=1.000 total time=   0.0s\n",
      "[CV 1/5] END C=10, epsilon=0.3, gamma=0.0001, kernel=linear;, score=1.000 total time=   0.0s\n",
      "[CV 2/5] END C=10, epsilon=0.3, gamma=0.0001, kernel=linear;, score=1.000 total time=   0.0s\n",
      "[CV 3/5] END C=10, epsilon=0.3, gamma=0.0001, kernel=linear;, score=1.000 total time=   0.0s\n",
      "[CV 4/5] END C=10, epsilon=0.3, gamma=0.0001, kernel=linear;, score=1.000 total time=   0.0s\n",
      "[CV 5/5] END C=10, epsilon=0.3, gamma=0.0001, kernel=linear;, score=1.000 total time=   0.0s\n",
      "[CV 1/5] END C=100, epsilon=0.1, gamma=1, kernel=linear;, score=1.000 total time=   0.7s\n",
      "[CV 2/5] END C=100, epsilon=0.1, gamma=1, kernel=linear;, score=1.000 total time=   0.7s\n",
      "[CV 3/5] END C=100, epsilon=0.1, gamma=1, kernel=linear;, score=1.000 total time=   1.0s\n",
      "[CV 4/5] END C=100, epsilon=0.1, gamma=1, kernel=linear;, score=1.000 total time=   0.7s\n",
      "[CV 5/5] END C=100, epsilon=0.1, gamma=1, kernel=linear;, score=1.000 total time=   0.9s\n",
      "[CV 1/5] END C=100, epsilon=0.1, gamma=0.1, kernel=linear;, score=1.000 total time=   0.8s\n",
      "[CV 2/5] END C=100, epsilon=0.1, gamma=0.1, kernel=linear;, score=1.000 total time=   0.7s\n",
      "[CV 3/5] END C=100, epsilon=0.1, gamma=0.1, kernel=linear;, score=1.000 total time=   1.0s\n",
      "[CV 4/5] END C=100, epsilon=0.1, gamma=0.1, kernel=linear;, score=1.000 total time=   0.8s\n",
      "[CV 5/5] END C=100, epsilon=0.1, gamma=0.1, kernel=linear;, score=1.000 total time=   0.8s\n",
      "[CV 1/5] END C=100, epsilon=0.1, gamma=0.01, kernel=linear;, score=1.000 total time=   0.8s\n",
      "[CV 2/5] END C=100, epsilon=0.1, gamma=0.01, kernel=linear;, score=1.000 total time=   0.7s\n",
      "[CV 3/5] END C=100, epsilon=0.1, gamma=0.01, kernel=linear;, score=1.000 total time=   1.1s\n",
      "[CV 4/5] END C=100, epsilon=0.1, gamma=0.01, kernel=linear;, score=1.000 total time=   0.8s\n",
      "[CV 5/5] END C=100, epsilon=0.1, gamma=0.01, kernel=linear;, score=1.000 total time=   0.9s\n",
      "[CV 1/5] END C=100, epsilon=0.1, gamma=0.001, kernel=linear;, score=1.000 total time=   0.7s\n",
      "[CV 2/5] END C=100, epsilon=0.1, gamma=0.001, kernel=linear;, score=1.000 total time=   0.7s\n",
      "[CV 3/5] END C=100, epsilon=0.1, gamma=0.001, kernel=linear;, score=1.000 total time=   1.0s\n",
      "[CV 4/5] END C=100, epsilon=0.1, gamma=0.001, kernel=linear;, score=1.000 total time=   0.7s\n",
      "[CV 5/5] END C=100, epsilon=0.1, gamma=0.001, kernel=linear;, score=1.000 total time=   0.8s\n",
      "[CV 1/5] END C=100, epsilon=0.1, gamma=0.0001, kernel=linear;, score=1.000 total time=   0.8s\n",
      "[CV 2/5] END C=100, epsilon=0.1, gamma=0.0001, kernel=linear;, score=1.000 total time=   0.7s\n",
      "[CV 3/5] END C=100, epsilon=0.1, gamma=0.0001, kernel=linear;, score=1.000 total time=   1.0s\n",
      "[CV 4/5] END C=100, epsilon=0.1, gamma=0.0001, kernel=linear;, score=1.000 total time=   0.7s\n",
      "[CV 5/5] END C=100, epsilon=0.1, gamma=0.0001, kernel=linear;, score=1.000 total time=   0.8s\n",
      "[CV 1/5] END C=100, epsilon=0.2, gamma=1, kernel=linear;, score=1.000 total time=   0.7s\n",
      "[CV 2/5] END C=100, epsilon=0.2, gamma=1, kernel=linear;, score=1.000 total time=   0.6s\n",
      "[CV 3/5] END C=100, epsilon=0.2, gamma=1, kernel=linear;, score=1.000 total time=   0.6s\n",
      "[CV 4/5] END C=100, epsilon=0.2, gamma=1, kernel=linear;, score=1.000 total time=   0.5s\n",
      "[CV 5/5] END C=100, epsilon=0.2, gamma=1, kernel=linear;, score=1.000 total time=   0.5s\n",
      "[CV 1/5] END C=100, epsilon=0.2, gamma=0.1, kernel=linear;, score=1.000 total time=   0.6s\n",
      "[CV 2/5] END C=100, epsilon=0.2, gamma=0.1, kernel=linear;, score=1.000 total time=   0.5s\n",
      "[CV 3/5] END C=100, epsilon=0.2, gamma=0.1, kernel=linear;, score=1.000 total time=   0.6s\n",
      "[CV 4/5] END C=100, epsilon=0.2, gamma=0.1, kernel=linear;, score=1.000 total time=   0.5s\n",
      "[CV 5/5] END C=100, epsilon=0.2, gamma=0.1, kernel=linear;, score=1.000 total time=   0.5s\n",
      "[CV 1/5] END C=100, epsilon=0.2, gamma=0.01, kernel=linear;, score=1.000 total time=   0.7s\n",
      "[CV 2/5] END C=100, epsilon=0.2, gamma=0.01, kernel=linear;, score=1.000 total time=   0.6s\n",
      "[CV 3/5] END C=100, epsilon=0.2, gamma=0.01, kernel=linear;, score=1.000 total time=   0.6s\n",
      "[CV 4/5] END C=100, epsilon=0.2, gamma=0.01, kernel=linear;, score=1.000 total time=   0.6s\n",
      "[CV 5/5] END C=100, epsilon=0.2, gamma=0.01, kernel=linear;, score=1.000 total time=   0.4s\n",
      "[CV 1/5] END C=100, epsilon=0.2, gamma=0.001, kernel=linear;, score=1.000 total time=   0.7s\n",
      "[CV 2/5] END C=100, epsilon=0.2, gamma=0.001, kernel=linear;, score=1.000 total time=   0.6s\n",
      "[CV 3/5] END C=100, epsilon=0.2, gamma=0.001, kernel=linear;, score=1.000 total time=   0.6s\n",
      "[CV 4/5] END C=100, epsilon=0.2, gamma=0.001, kernel=linear;, score=1.000 total time=   0.5s\n",
      "[CV 5/5] END C=100, epsilon=0.2, gamma=0.001, kernel=linear;, score=1.000 total time=   0.5s\n",
      "[CV 1/5] END C=100, epsilon=0.2, gamma=0.0001, kernel=linear;, score=1.000 total time=   0.7s\n",
      "[CV 2/5] END C=100, epsilon=0.2, gamma=0.0001, kernel=linear;, score=1.000 total time=   0.6s\n",
      "[CV 3/5] END C=100, epsilon=0.2, gamma=0.0001, kernel=linear;, score=1.000 total time=   0.6s\n",
      "[CV 4/5] END C=100, epsilon=0.2, gamma=0.0001, kernel=linear;, score=1.000 total time=   0.5s\n"
     ]
    },
    {
     "name": "stdout",
     "output_type": "stream",
     "text": [
      "[CV 5/5] END C=100, epsilon=0.2, gamma=0.0001, kernel=linear;, score=1.000 total time=   0.5s\n",
      "[CV 1/5] END C=100, epsilon=0.3, gamma=1, kernel=linear;, score=1.000 total time=   0.4s\n",
      "[CV 2/5] END C=100, epsilon=0.3, gamma=1, kernel=linear;, score=1.000 total time=   0.3s\n",
      "[CV 3/5] END C=100, epsilon=0.3, gamma=1, kernel=linear;, score=1.000 total time=   0.3s\n",
      "[CV 4/5] END C=100, epsilon=0.3, gamma=1, kernel=linear;, score=1.000 total time=   0.4s\n",
      "[CV 5/5] END C=100, epsilon=0.3, gamma=1, kernel=linear;, score=1.000 total time=   0.4s\n",
      "[CV 1/5] END C=100, epsilon=0.3, gamma=0.1, kernel=linear;, score=1.000 total time=   0.3s\n",
      "[CV 2/5] END C=100, epsilon=0.3, gamma=0.1, kernel=linear;, score=1.000 total time=   0.3s\n",
      "[CV 3/5] END C=100, epsilon=0.3, gamma=0.1, kernel=linear;, score=1.000 total time=   0.3s\n",
      "[CV 4/5] END C=100, epsilon=0.3, gamma=0.1, kernel=linear;, score=1.000 total time=   0.4s\n",
      "[CV 5/5] END C=100, epsilon=0.3, gamma=0.1, kernel=linear;, score=1.000 total time=   0.4s\n",
      "[CV 1/5] END C=100, epsilon=0.3, gamma=0.01, kernel=linear;, score=1.000 total time=   0.3s\n",
      "[CV 2/5] END C=100, epsilon=0.3, gamma=0.01, kernel=linear;, score=1.000 total time=   0.3s\n",
      "[CV 3/5] END C=100, epsilon=0.3, gamma=0.01, kernel=linear;, score=1.000 total time=   0.3s\n",
      "[CV 4/5] END C=100, epsilon=0.3, gamma=0.01, kernel=linear;, score=1.000 total time=   0.4s\n",
      "[CV 5/5] END C=100, epsilon=0.3, gamma=0.01, kernel=linear;, score=1.000 total time=   0.4s\n",
      "[CV 1/5] END C=100, epsilon=0.3, gamma=0.001, kernel=linear;, score=1.000 total time=   0.3s\n",
      "[CV 2/5] END C=100, epsilon=0.3, gamma=0.001, kernel=linear;, score=1.000 total time=   0.3s\n",
      "[CV 3/5] END C=100, epsilon=0.3, gamma=0.001, kernel=linear;, score=1.000 total time=   0.3s\n",
      "[CV 4/5] END C=100, epsilon=0.3, gamma=0.001, kernel=linear;, score=1.000 total time=   0.4s\n",
      "[CV 5/5] END C=100, epsilon=0.3, gamma=0.001, kernel=linear;, score=1.000 total time=   0.4s\n",
      "[CV 1/5] END C=100, epsilon=0.3, gamma=0.0001, kernel=linear;, score=1.000 total time=   0.3s\n",
      "[CV 2/5] END C=100, epsilon=0.3, gamma=0.0001, kernel=linear;, score=1.000 total time=   0.3s\n",
      "[CV 3/5] END C=100, epsilon=0.3, gamma=0.0001, kernel=linear;, score=1.000 total time=   0.3s\n",
      "[CV 4/5] END C=100, epsilon=0.3, gamma=0.0001, kernel=linear;, score=1.000 total time=   0.4s\n",
      "[CV 5/5] END C=100, epsilon=0.3, gamma=0.0001, kernel=linear;, score=1.000 total time=   0.4s\n",
      "[CV 1/5] END C=1000, epsilon=0.1, gamma=1, kernel=linear;, score=1.000 total time=   8.8s\n",
      "[CV 2/5] END C=1000, epsilon=0.1, gamma=1, kernel=linear;, score=1.000 total time=   6.9s\n",
      "[CV 3/5] END C=1000, epsilon=0.1, gamma=1, kernel=linear;, score=1.000 total time=   7.0s\n",
      "[CV 4/5] END C=1000, epsilon=0.1, gamma=1, kernel=linear;, score=1.000 total time=   6.4s\n",
      "[CV 5/5] END C=1000, epsilon=0.1, gamma=1, kernel=linear;, score=1.000 total time=   6.6s\n",
      "[CV 1/5] END C=1000, epsilon=0.1, gamma=0.1, kernel=linear;, score=1.000 total time=   9.0s\n",
      "[CV 2/5] END C=1000, epsilon=0.1, gamma=0.1, kernel=linear;, score=1.000 total time=   7.4s\n",
      "[CV 3/5] END C=1000, epsilon=0.1, gamma=0.1, kernel=linear;, score=1.000 total time=   7.7s\n",
      "[CV 4/5] END C=1000, epsilon=0.1, gamma=0.1, kernel=linear;, score=1.000 total time=   6.4s\n",
      "[CV 5/5] END C=1000, epsilon=0.1, gamma=0.1, kernel=linear;, score=1.000 total time=   6.6s\n",
      "[CV 1/5] END C=1000, epsilon=0.1, gamma=0.01, kernel=linear;, score=1.000 total time=   9.0s\n",
      "[CV 2/5] END C=1000, epsilon=0.1, gamma=0.01, kernel=linear;, score=1.000 total time=   7.4s\n",
      "[CV 3/5] END C=1000, epsilon=0.1, gamma=0.01, kernel=linear;, score=1.000 total time=   8.1s\n",
      "[CV 4/5] END C=1000, epsilon=0.1, gamma=0.01, kernel=linear;, score=1.000 total time=   6.3s\n",
      "[CV 5/5] END C=1000, epsilon=0.1, gamma=0.01, kernel=linear;, score=1.000 total time=   6.8s\n",
      "[CV 1/5] END C=1000, epsilon=0.1, gamma=0.001, kernel=linear;, score=1.000 total time=   8.9s\n",
      "[CV 2/5] END C=1000, epsilon=0.1, gamma=0.001, kernel=linear;, score=1.000 total time=   7.2s\n",
      "[CV 3/5] END C=1000, epsilon=0.1, gamma=0.001, kernel=linear;, score=1.000 total time=   8.0s\n",
      "[CV 4/5] END C=1000, epsilon=0.1, gamma=0.001, kernel=linear;, score=1.000 total time=   6.3s\n",
      "[CV 5/5] END C=1000, epsilon=0.1, gamma=0.001, kernel=linear;, score=1.000 total time=   6.7s\n",
      "[CV 1/5] END C=1000, epsilon=0.1, gamma=0.0001, kernel=linear;, score=1.000 total time=   8.9s\n",
      "[CV 2/5] END C=1000, epsilon=0.1, gamma=0.0001, kernel=linear;, score=1.000 total time=   7.9s\n",
      "[CV 3/5] END C=1000, epsilon=0.1, gamma=0.0001, kernel=linear;, score=1.000 total time=   7.9s\n",
      "[CV 4/5] END C=1000, epsilon=0.1, gamma=0.0001, kernel=linear;, score=1.000 total time=   6.1s\n",
      "[CV 5/5] END C=1000, epsilon=0.1, gamma=0.0001, kernel=linear;, score=1.000 total time=   6.8s\n",
      "[CV 1/5] END C=1000, epsilon=0.2, gamma=1, kernel=linear;, score=1.000 total time=   5.7s\n",
      "[CV 2/5] END C=1000, epsilon=0.2, gamma=1, kernel=linear;, score=1.000 total time=   6.2s\n",
      "[CV 3/5] END C=1000, epsilon=0.2, gamma=1, kernel=linear;, score=1.000 total time=   6.0s\n",
      "[CV 4/5] END C=1000, epsilon=0.2, gamma=1, kernel=linear;, score=1.000 total time=   5.3s\n",
      "[CV 5/5] END C=1000, epsilon=0.2, gamma=1, kernel=linear;, score=1.000 total time=   5.2s\n",
      "[CV 1/5] END C=1000, epsilon=0.2, gamma=0.1, kernel=linear;, score=1.000 total time=   5.7s\n",
      "[CV 2/5] END C=1000, epsilon=0.2, gamma=0.1, kernel=linear;, score=1.000 total time=   6.2s\n",
      "[CV 3/5] END C=1000, epsilon=0.2, gamma=0.1, kernel=linear;, score=1.000 total time=   5.9s\n",
      "[CV 4/5] END C=1000, epsilon=0.2, gamma=0.1, kernel=linear;, score=1.000 total time=   5.4s\n",
      "[CV 5/5] END C=1000, epsilon=0.2, gamma=0.1, kernel=linear;, score=1.000 total time=   5.9s\n",
      "[CV 1/5] END C=1000, epsilon=0.2, gamma=0.01, kernel=linear;, score=1.000 total time=   5.9s\n",
      "[CV 2/5] END C=1000, epsilon=0.2, gamma=0.01, kernel=linear;, score=1.000 total time=   6.1s\n",
      "[CV 3/5] END C=1000, epsilon=0.2, gamma=0.01, kernel=linear;, score=1.000 total time=   5.8s\n",
      "[CV 4/5] END C=1000, epsilon=0.2, gamma=0.01, kernel=linear;, score=1.000 total time=   5.4s\n",
      "[CV 5/5] END C=1000, epsilon=0.2, gamma=0.01, kernel=linear;, score=1.000 total time=   5.4s\n",
      "[CV 1/5] END C=1000, epsilon=0.2, gamma=0.001, kernel=linear;, score=1.000 total time=   5.8s\n",
      "[CV 2/5] END C=1000, epsilon=0.2, gamma=0.001, kernel=linear;, score=1.000 total time=   6.2s\n",
      "[CV 3/5] END C=1000, epsilon=0.2, gamma=0.001, kernel=linear;, score=1.000 total time=   5.8s\n",
      "[CV 4/5] END C=1000, epsilon=0.2, gamma=0.001, kernel=linear;, score=1.000 total time=   5.3s\n",
      "[CV 5/5] END C=1000, epsilon=0.2, gamma=0.001, kernel=linear;, score=1.000 total time=   5.4s\n",
      "[CV 1/5] END C=1000, epsilon=0.2, gamma=0.0001, kernel=linear;, score=1.000 total time=   5.7s\n",
      "[CV 2/5] END C=1000, epsilon=0.2, gamma=0.0001, kernel=linear;, score=1.000 total time=   6.2s\n",
      "[CV 3/5] END C=1000, epsilon=0.2, gamma=0.0001, kernel=linear;, score=1.000 total time=   5.0s\n",
      "[CV 4/5] END C=1000, epsilon=0.2, gamma=0.0001, kernel=linear;, score=1.000 total time=   5.4s\n",
      "[CV 5/5] END C=1000, epsilon=0.2, gamma=0.0001, kernel=linear;, score=1.000 total time=   5.4s\n",
      "[CV 1/5] END C=1000, epsilon=0.3, gamma=1, kernel=linear;, score=1.000 total time=   4.3s\n",
      "[CV 2/5] END C=1000, epsilon=0.3, gamma=1, kernel=linear;, score=1.000 total time=   3.2s\n",
      "[CV 3/5] END C=1000, epsilon=0.3, gamma=1, kernel=linear;, score=1.000 total time=   3.2s\n",
      "[CV 4/5] END C=1000, epsilon=0.3, gamma=1, kernel=linear;, score=1.000 total time=   4.2s\n",
      "[CV 5/5] END C=1000, epsilon=0.3, gamma=1, kernel=linear;, score=1.000 total time=   2.9s\n",
      "[CV 1/5] END C=1000, epsilon=0.3, gamma=0.1, kernel=linear;, score=1.000 total time=   4.3s\n",
      "[CV 2/5] END C=1000, epsilon=0.3, gamma=0.1, kernel=linear;, score=1.000 total time=   3.3s\n",
      "[CV 3/5] END C=1000, epsilon=0.3, gamma=0.1, kernel=linear;, score=1.000 total time=   3.2s\n",
      "[CV 4/5] END C=1000, epsilon=0.3, gamma=0.1, kernel=linear;, score=1.000 total time=   4.3s\n",
      "[CV 5/5] END C=1000, epsilon=0.3, gamma=0.1, kernel=linear;, score=1.000 total time=   3.1s\n",
      "[CV 1/5] END C=1000, epsilon=0.3, gamma=0.01, kernel=linear;, score=1.000 total time=   4.2s\n",
      "[CV 2/5] END C=1000, epsilon=0.3, gamma=0.01, kernel=linear;, score=1.000 total time=   3.2s\n",
      "[CV 3/5] END C=1000, epsilon=0.3, gamma=0.01, kernel=linear;, score=1.000 total time=   3.3s\n"
     ]
    },
    {
     "name": "stdout",
     "output_type": "stream",
     "text": [
      "[CV 4/5] END C=1000, epsilon=0.3, gamma=0.01, kernel=linear;, score=1.000 total time=   4.4s\n",
      "[CV 5/5] END C=1000, epsilon=0.3, gamma=0.01, kernel=linear;, score=1.000 total time=   2.9s\n",
      "[CV 1/5] END C=1000, epsilon=0.3, gamma=0.001, kernel=linear;, score=1.000 total time=   4.2s\n",
      "[CV 2/5] END C=1000, epsilon=0.3, gamma=0.001, kernel=linear;, score=1.000 total time=   3.2s\n",
      "[CV 3/5] END C=1000, epsilon=0.3, gamma=0.001, kernel=linear;, score=1.000 total time=   3.3s\n",
      "[CV 4/5] END C=1000, epsilon=0.3, gamma=0.001, kernel=linear;, score=1.000 total time=   4.3s\n",
      "[CV 5/5] END C=1000, epsilon=0.3, gamma=0.001, kernel=linear;, score=1.000 total time=   2.9s\n",
      "[CV 1/5] END C=1000, epsilon=0.3, gamma=0.0001, kernel=linear;, score=1.000 total time=   4.3s\n",
      "[CV 2/5] END C=1000, epsilon=0.3, gamma=0.0001, kernel=linear;, score=1.000 total time=   3.2s\n",
      "[CV 3/5] END C=1000, epsilon=0.3, gamma=0.0001, kernel=linear;, score=1.000 total time=   3.6s\n",
      "[CV 4/5] END C=1000, epsilon=0.3, gamma=0.0001, kernel=linear;, score=1.000 total time=   4.2s\n",
      "[CV 5/5] END C=1000, epsilon=0.3, gamma=0.0001, kernel=linear;, score=1.000 total time=   2.9s\n"
     ]
    },
    {
     "data": {
      "text/html": [
       "<style>#sk-container-id-3 {color: black;background-color: white;}#sk-container-id-3 pre{padding: 0;}#sk-container-id-3 div.sk-toggleable {background-color: white;}#sk-container-id-3 label.sk-toggleable__label {cursor: pointer;display: block;width: 100%;margin-bottom: 0;padding: 0.3em;box-sizing: border-box;text-align: center;}#sk-container-id-3 label.sk-toggleable__label-arrow:before {content: \"▸\";float: left;margin-right: 0.25em;color: #696969;}#sk-container-id-3 label.sk-toggleable__label-arrow:hover:before {color: black;}#sk-container-id-3 div.sk-estimator:hover label.sk-toggleable__label-arrow:before {color: black;}#sk-container-id-3 div.sk-toggleable__content {max-height: 0;max-width: 0;overflow: hidden;text-align: left;background-color: #f0f8ff;}#sk-container-id-3 div.sk-toggleable__content pre {margin: 0.2em;color: black;border-radius: 0.25em;background-color: #f0f8ff;}#sk-container-id-3 input.sk-toggleable__control:checked~div.sk-toggleable__content {max-height: 200px;max-width: 100%;overflow: auto;}#sk-container-id-3 input.sk-toggleable__control:checked~label.sk-toggleable__label-arrow:before {content: \"▾\";}#sk-container-id-3 div.sk-estimator input.sk-toggleable__control:checked~label.sk-toggleable__label {background-color: #d4ebff;}#sk-container-id-3 div.sk-label input.sk-toggleable__control:checked~label.sk-toggleable__label {background-color: #d4ebff;}#sk-container-id-3 input.sk-hidden--visually {border: 0;clip: rect(1px 1px 1px 1px);clip: rect(1px, 1px, 1px, 1px);height: 1px;margin: -1px;overflow: hidden;padding: 0;position: absolute;width: 1px;}#sk-container-id-3 div.sk-estimator {font-family: monospace;background-color: #f0f8ff;border: 1px dotted black;border-radius: 0.25em;box-sizing: border-box;margin-bottom: 0.5em;}#sk-container-id-3 div.sk-estimator:hover {background-color: #d4ebff;}#sk-container-id-3 div.sk-parallel-item::after {content: \"\";width: 100%;border-bottom: 1px solid gray;flex-grow: 1;}#sk-container-id-3 div.sk-label:hover label.sk-toggleable__label {background-color: #d4ebff;}#sk-container-id-3 div.sk-serial::before {content: \"\";position: absolute;border-left: 1px solid gray;box-sizing: border-box;top: 0;bottom: 0;left: 50%;z-index: 0;}#sk-container-id-3 div.sk-serial {display: flex;flex-direction: column;align-items: center;background-color: white;padding-right: 0.2em;padding-left: 0.2em;position: relative;}#sk-container-id-3 div.sk-item {position: relative;z-index: 1;}#sk-container-id-3 div.sk-parallel {display: flex;align-items: stretch;justify-content: center;background-color: white;position: relative;}#sk-container-id-3 div.sk-item::before, #sk-container-id-3 div.sk-parallel-item::before {content: \"\";position: absolute;border-left: 1px solid gray;box-sizing: border-box;top: 0;bottom: 0;left: 50%;z-index: -1;}#sk-container-id-3 div.sk-parallel-item {display: flex;flex-direction: column;z-index: 1;position: relative;background-color: white;}#sk-container-id-3 div.sk-parallel-item:first-child::after {align-self: flex-end;width: 50%;}#sk-container-id-3 div.sk-parallel-item:last-child::after {align-self: flex-start;width: 50%;}#sk-container-id-3 div.sk-parallel-item:only-child::after {width: 0;}#sk-container-id-3 div.sk-dashed-wrapped {border: 1px dashed gray;margin: 0 0.4em 0.5em 0.4em;box-sizing: border-box;padding-bottom: 0.4em;background-color: white;}#sk-container-id-3 div.sk-label label {font-family: monospace;font-weight: bold;display: inline-block;line-height: 1.2em;}#sk-container-id-3 div.sk-label-container {text-align: center;}#sk-container-id-3 div.sk-container {/* jupyter's `normalize.less` sets `[hidden] { display: none; }` but bootstrap.min.css set `[hidden] { display: none !important; }` so we also need the `!important` here to be able to override the default hidden behavior on the sphinx rendered scikit-learn.org. See: https://github.com/scikit-learn/scikit-learn/issues/21755 */display: inline-block !important;position: relative;}#sk-container-id-3 div.sk-text-repr-fallback {display: none;}</style><div id=\"sk-container-id-3\" class=\"sk-top-container\"><div class=\"sk-text-repr-fallback\"><pre>GridSearchCV(cv=5, estimator=SVR(),\n",
       "             param_grid={&#x27;C&#x27;: [0.1, 1, 10, 100, 1000],\n",
       "                         &#x27;epsilon&#x27;: [0.1, 0.2, 0.3],\n",
       "                         &#x27;gamma&#x27;: [1, 0.1, 0.01, 0.001, 0.0001],\n",
       "                         &#x27;kernel&#x27;: [&#x27;linear&#x27;]},\n",
       "             verbose=3)</pre><b>In a Jupyter environment, please rerun this cell to show the HTML representation or trust the notebook. <br />On GitHub, the HTML representation is unable to render, please try loading this page with nbviewer.org.</b></div><div class=\"sk-container\" hidden><div class=\"sk-item sk-dashed-wrapped\"><div class=\"sk-label-container\"><div class=\"sk-label sk-toggleable\"><input class=\"sk-toggleable__control sk-hidden--visually\" id=\"sk-estimator-id-3\" type=\"checkbox\" ><label for=\"sk-estimator-id-3\" class=\"sk-toggleable__label sk-toggleable__label-arrow\">GridSearchCV</label><div class=\"sk-toggleable__content\"><pre>GridSearchCV(cv=5, estimator=SVR(),\n",
       "             param_grid={&#x27;C&#x27;: [0.1, 1, 10, 100, 1000],\n",
       "                         &#x27;epsilon&#x27;: [0.1, 0.2, 0.3],\n",
       "                         &#x27;gamma&#x27;: [1, 0.1, 0.01, 0.001, 0.0001],\n",
       "                         &#x27;kernel&#x27;: [&#x27;linear&#x27;]},\n",
       "             verbose=3)</pre></div></div></div><div class=\"sk-parallel\"><div class=\"sk-parallel-item\"><div class=\"sk-item\"><div class=\"sk-label-container\"><div class=\"sk-label sk-toggleable\"><input class=\"sk-toggleable__control sk-hidden--visually\" id=\"sk-estimator-id-4\" type=\"checkbox\" ><label for=\"sk-estimator-id-4\" class=\"sk-toggleable__label sk-toggleable__label-arrow\">estimator: SVR</label><div class=\"sk-toggleable__content\"><pre>SVR()</pre></div></div></div><div class=\"sk-serial\"><div class=\"sk-item\"><div class=\"sk-estimator sk-toggleable\"><input class=\"sk-toggleable__control sk-hidden--visually\" id=\"sk-estimator-id-5\" type=\"checkbox\" ><label for=\"sk-estimator-id-5\" class=\"sk-toggleable__label sk-toggleable__label-arrow\">SVR</label><div class=\"sk-toggleable__content\"><pre>SVR()</pre></div></div></div></div></div></div></div></div></div></div>"
      ],
      "text/plain": [
       "GridSearchCV(cv=5, estimator=SVR(),\n",
       "             param_grid={'C': [0.1, 1, 10, 100, 1000],\n",
       "                         'epsilon': [0.1, 0.2, 0.3],\n",
       "                         'gamma': [1, 0.1, 0.01, 0.001, 0.0001],\n",
       "                         'kernel': ['linear']},\n",
       "             verbose=3)"
      ]
     },
     "execution_count": 37,
     "metadata": {},
     "output_type": "execute_result"
    }
   ],
   "source": [
    "gri.fit(X_train,y_train)"
   ]
  },
  {
   "cell_type": "code",
   "execution_count": 38,
   "id": "e956ae2e",
   "metadata": {},
   "outputs": [
    {
     "data": {
      "text/plain": [
       "{'C': 1000, 'epsilon': 0.3, 'gamma': 1, 'kernel': 'linear'}"
      ]
     },
     "execution_count": 38,
     "metadata": {},
     "output_type": "execute_result"
    }
   ],
   "source": [
    "gri.best_params_"
   ]
  },
  {
   "cell_type": "code",
   "execution_count": 39,
   "id": "a8bee80e",
   "metadata": {},
   "outputs": [],
   "source": [
    "from sklearn.svm import SVR"
   ]
  },
  {
   "cell_type": "code",
   "execution_count": 40,
   "id": "f7410bc5",
   "metadata": {},
   "outputs": [],
   "source": [
    "svr = SVR(C=1000,epsilon=0.3,gamma=1,kernel=\"linear\")"
   ]
  },
  {
   "cell_type": "code",
   "execution_count": 41,
   "id": "a09e58c9",
   "metadata": {},
   "outputs": [
    {
     "data": {
      "text/html": [
       "<style>#sk-container-id-4 {color: black;background-color: white;}#sk-container-id-4 pre{padding: 0;}#sk-container-id-4 div.sk-toggleable {background-color: white;}#sk-container-id-4 label.sk-toggleable__label {cursor: pointer;display: block;width: 100%;margin-bottom: 0;padding: 0.3em;box-sizing: border-box;text-align: center;}#sk-container-id-4 label.sk-toggleable__label-arrow:before {content: \"▸\";float: left;margin-right: 0.25em;color: #696969;}#sk-container-id-4 label.sk-toggleable__label-arrow:hover:before {color: black;}#sk-container-id-4 div.sk-estimator:hover label.sk-toggleable__label-arrow:before {color: black;}#sk-container-id-4 div.sk-toggleable__content {max-height: 0;max-width: 0;overflow: hidden;text-align: left;background-color: #f0f8ff;}#sk-container-id-4 div.sk-toggleable__content pre {margin: 0.2em;color: black;border-radius: 0.25em;background-color: #f0f8ff;}#sk-container-id-4 input.sk-toggleable__control:checked~div.sk-toggleable__content {max-height: 200px;max-width: 100%;overflow: auto;}#sk-container-id-4 input.sk-toggleable__control:checked~label.sk-toggleable__label-arrow:before {content: \"▾\";}#sk-container-id-4 div.sk-estimator input.sk-toggleable__control:checked~label.sk-toggleable__label {background-color: #d4ebff;}#sk-container-id-4 div.sk-label input.sk-toggleable__control:checked~label.sk-toggleable__label {background-color: #d4ebff;}#sk-container-id-4 input.sk-hidden--visually {border: 0;clip: rect(1px 1px 1px 1px);clip: rect(1px, 1px, 1px, 1px);height: 1px;margin: -1px;overflow: hidden;padding: 0;position: absolute;width: 1px;}#sk-container-id-4 div.sk-estimator {font-family: monospace;background-color: #f0f8ff;border: 1px dotted black;border-radius: 0.25em;box-sizing: border-box;margin-bottom: 0.5em;}#sk-container-id-4 div.sk-estimator:hover {background-color: #d4ebff;}#sk-container-id-4 div.sk-parallel-item::after {content: \"\";width: 100%;border-bottom: 1px solid gray;flex-grow: 1;}#sk-container-id-4 div.sk-label:hover label.sk-toggleable__label {background-color: #d4ebff;}#sk-container-id-4 div.sk-serial::before {content: \"\";position: absolute;border-left: 1px solid gray;box-sizing: border-box;top: 0;bottom: 0;left: 50%;z-index: 0;}#sk-container-id-4 div.sk-serial {display: flex;flex-direction: column;align-items: center;background-color: white;padding-right: 0.2em;padding-left: 0.2em;position: relative;}#sk-container-id-4 div.sk-item {position: relative;z-index: 1;}#sk-container-id-4 div.sk-parallel {display: flex;align-items: stretch;justify-content: center;background-color: white;position: relative;}#sk-container-id-4 div.sk-item::before, #sk-container-id-4 div.sk-parallel-item::before {content: \"\";position: absolute;border-left: 1px solid gray;box-sizing: border-box;top: 0;bottom: 0;left: 50%;z-index: -1;}#sk-container-id-4 div.sk-parallel-item {display: flex;flex-direction: column;z-index: 1;position: relative;background-color: white;}#sk-container-id-4 div.sk-parallel-item:first-child::after {align-self: flex-end;width: 50%;}#sk-container-id-4 div.sk-parallel-item:last-child::after {align-self: flex-start;width: 50%;}#sk-container-id-4 div.sk-parallel-item:only-child::after {width: 0;}#sk-container-id-4 div.sk-dashed-wrapped {border: 1px dashed gray;margin: 0 0.4em 0.5em 0.4em;box-sizing: border-box;padding-bottom: 0.4em;background-color: white;}#sk-container-id-4 div.sk-label label {font-family: monospace;font-weight: bold;display: inline-block;line-height: 1.2em;}#sk-container-id-4 div.sk-label-container {text-align: center;}#sk-container-id-4 div.sk-container {/* jupyter's `normalize.less` sets `[hidden] { display: none; }` but bootstrap.min.css set `[hidden] { display: none !important; }` so we also need the `!important` here to be able to override the default hidden behavior on the sphinx rendered scikit-learn.org. See: https://github.com/scikit-learn/scikit-learn/issues/21755 */display: inline-block !important;position: relative;}#sk-container-id-4 div.sk-text-repr-fallback {display: none;}</style><div id=\"sk-container-id-4\" class=\"sk-top-container\"><div class=\"sk-text-repr-fallback\"><pre>SVR(C=1000, epsilon=0.3, gamma=1, kernel=&#x27;linear&#x27;)</pre><b>In a Jupyter environment, please rerun this cell to show the HTML representation or trust the notebook. <br />On GitHub, the HTML representation is unable to render, please try loading this page with nbviewer.org.</b></div><div class=\"sk-container\" hidden><div class=\"sk-item\"><div class=\"sk-estimator sk-toggleable\"><input class=\"sk-toggleable__control sk-hidden--visually\" id=\"sk-estimator-id-6\" type=\"checkbox\" checked><label for=\"sk-estimator-id-6\" class=\"sk-toggleable__label sk-toggleable__label-arrow\">SVR</label><div class=\"sk-toggleable__content\"><pre>SVR(C=1000, epsilon=0.3, gamma=1, kernel=&#x27;linear&#x27;)</pre></div></div></div></div></div>"
      ],
      "text/plain": [
       "SVR(C=1000, epsilon=0.3, gamma=1, kernel='linear')"
      ]
     },
     "execution_count": 41,
     "metadata": {},
     "output_type": "execute_result"
    }
   ],
   "source": [
    "svr.fit(X_train,y_train)"
   ]
  },
  {
   "cell_type": "code",
   "execution_count": 42,
   "id": "20913061",
   "metadata": {},
   "outputs": [],
   "source": [
    "y_predict = svr.predict(X_test)"
   ]
  },
  {
   "cell_type": "code",
   "execution_count": 43,
   "id": "8cf5b4f4",
   "metadata": {
    "scrolled": true
   },
   "outputs": [
    {
     "data": {
      "text/plain": [
       "array([  57.04755966,   49.16591437,  -70.71863626, -103.9460449 ,\n",
       "        222.9780546 , -124.04482482, -142.63531046,  289.18058098,\n",
       "         -4.57177398,   79.89527211,  137.58885094,   74.9674085 ,\n",
       "         54.83714049,   93.75975714,  -25.5772461 ,  169.4294179 ,\n",
       "        137.97087787,   13.82233512,   19.96425116,  -87.44552956,\n",
       "       -223.81423647,   -9.01172197, -116.93721102, -278.96215238,\n",
       "          5.70106977,   63.14604109,  137.96063978,    2.83799935,\n",
       "         -1.52536992,   43.69485406,    1.59608241,   56.82824478,\n",
       "        -16.66383161,  109.20853155,   53.44784591,  206.98255716,\n",
       "        -74.08085914,  -49.3328353 ,   32.75046157,   -1.27235672,\n",
       "       -132.74207236,   55.97517429,   47.45502052,  -74.76460607,\n",
       "        -22.65624637,   47.42652265,   57.76114053,    7.11444008,\n",
       "        -47.0626829 ,    6.73166273,  -21.85628882,  -31.94175887,\n",
       "        102.92328544,   -0.92295309,  -38.40259572,  -75.85911541,\n",
       "       -118.38716764, -105.11429417,  103.4684476 ,  -26.00221414,\n",
       "         56.06416152,  257.31089872,    3.44771542, -214.55071095,\n",
       "        -10.58141541,  -11.20750249, -155.02616123,   18.49278165,\n",
       "       -203.21887086,   71.18769498,   69.70055646,  -53.98163764,\n",
       "        -20.20252108,  -84.7627369 , -206.16071789,  123.98472023,\n",
       "         49.54764757,  -33.47294632, -171.61895838,  -90.63882771,\n",
       "        -98.15524548,  -74.43356724,   65.52924242,  179.40556638,\n",
       "        256.50154203,  112.2134528 ,   21.21728669,  -17.97283879,\n",
       "       -179.32265583, -125.47220143,    1.40142879,  -12.02492059,\n",
       "       -220.78581637,   88.72871875,  120.76476743,  113.25867296,\n",
       "        139.15186018,  -15.28280848,   57.99159734,  -68.89603762,\n",
       "        -22.72262004,   59.6444575 ,   75.2627501 ,  -57.79034291,\n",
       "         58.943522  ,  -89.04356701,  -13.47152063,   26.061685  ,\n",
       "        -51.81442284,   84.1553328 , -113.48012018,   12.27197553,\n",
       "         15.17041366,  -52.64148727, -123.1459245 ,  -20.59491479,\n",
       "        185.10492927,   13.48782132,    9.75626557,   95.41917496,\n",
       "       -143.86711222,  163.60223684,  -73.88641522,   54.58309233,\n",
       "        -90.47040884,  -53.34856323,   -2.0154702 ,   23.7616164 ,\n",
       "       -121.55415998,  -20.12159849,  -19.66109923,  -26.86277327,\n",
       "         -2.97044643, -117.35837203,    7.15137589,  -57.85100875,\n",
       "       -144.76104255,  -38.92487132,  -89.41981003,  106.4670712 ,\n",
       "        101.61676727, -225.14292913,  -14.16136869,  175.94266669,\n",
       "        -69.558768  , -135.18025449,   74.90970198,  262.20487803,\n",
       "       -101.66992828,   -3.52861237,  -99.20894598, -142.83906126,\n",
       "         92.87304629,   20.4333671 ,  -58.08251066,  -17.49729768,\n",
       "         53.66023167, -169.38568416, -183.29464383,   23.20286566,\n",
       "         87.64682658,  -69.69785202,  -88.7991789 ,  198.60418684,\n",
       "        -65.70659979,   84.23476259, -123.89729554,  -67.21541119,\n",
       "        -35.77012917,  -24.78571678,  242.82757453,   22.49405926,\n",
       "         33.05270401,   81.9693309 ,  -95.61708496, -101.10613862,\n",
       "       -129.598471  ,  -18.46784991,  -67.96662436,  -89.66042009,\n",
       "        -93.04341158,  114.46776338,   -7.91550364, -104.92597035,\n",
       "         54.41104323, -141.37830626, -105.40527632,  177.85182669,\n",
       "         26.03800806,  -52.5247452 ,   55.9448944 ,   57.10728854,\n",
       "        -27.64537764, -111.91387634,  -25.65866952,  104.78457681,\n",
       "       -138.73083931,   40.22534348,   34.2530629 ,  121.48214557,\n",
       "         81.30363308,  -91.35392013,  134.9359176 ,  -56.56915976,\n",
       "         18.46926614,   17.88293245,   38.29101897,  -62.35220991,\n",
       "        -46.20961492, -165.6189872 ,   -5.953844  ,  -70.05546533,\n",
       "        -39.5285722 ,  157.16827847,   46.98398806,   50.32570671,\n",
       "       -166.98431867,  126.90610344,  -72.19802139,  184.51758969,\n",
       "        -28.09441917,  -57.94439797,  -55.56419488,   -8.3350416 ,\n",
       "         36.29385989,   -3.8350336 ,   69.09354707, -164.78587837,\n",
       "         19.68156687,   13.60164479,   13.81683427,   65.50180325,\n",
       "         52.17958081, -130.58057334,  -92.82332746,   -0.4861968 ,\n",
       "         26.14623578,  -81.26864871,  128.353198  ,   66.66377451,\n",
       "       -150.54660718,   30.6619132 , -126.4201509 ,   57.06281909,\n",
       "         45.70255562,  -93.04250972, -239.65607593,  107.59063323,\n",
       "        -24.71909721,   43.9155663 ,  101.64895546,  -92.14142816,\n",
       "       -116.2783008 ,   69.54260997, -198.23037073,  -69.56823504,\n",
       "        110.07111456,  -12.68653951,   85.67002127,   82.34261704,\n",
       "        -53.73131125,  -17.0388076 ,  -18.57693824,   59.97621845,\n",
       "        -26.07788334,  -37.20012948,   18.83544172,  107.56032667,\n",
       "        -59.04666364,  -30.05443814,  115.25098594,   46.32571047,\n",
       "          4.70445091,   60.73781095,  184.09150499,   71.64966361,\n",
       "        -46.5551064 ,  -43.26163327,  -71.94550528, -212.5602211 ,\n",
       "         49.51582318,   73.71855933, -180.60991875,   60.86475215,\n",
       "        -82.04548892, -129.1052335 ,  -10.1655474 ,   77.46607478,\n",
       "        -96.18157953,  -77.87944059,   26.22219946,   -6.23647005,\n",
       "          5.35078008,   21.29086154,   72.18055452,  -79.47355548,\n",
       "         98.17966581,  175.48847187,   -5.87562686,  -86.87217657])"
      ]
     },
     "execution_count": 43,
     "metadata": {},
     "output_type": "execute_result"
    }
   ],
   "source": [
    "y_predict"
   ]
  },
  {
   "cell_type": "code",
   "execution_count": 46,
   "id": "fc72adc6",
   "metadata": {},
   "outputs": [],
   "source": [
    "from sklearn.metrics import r2_score"
   ]
  },
  {
   "cell_type": "code",
   "execution_count": 48,
   "id": "86646524",
   "metadata": {},
   "outputs": [],
   "source": [
    "r = r2_score(y_test,y_predict)"
   ]
  },
  {
   "cell_type": "code",
   "execution_count": 61,
   "id": "b29659e5",
   "metadata": {},
   "outputs": [],
   "source": [
    "adj_r2 = 1 - ((1-r)*(len(y_predict)-1))/(len(y_predict) - X_test.shape[1] -1)"
   ]
  },
  {
   "cell_type": "code",
   "execution_count": 62,
   "id": "9b3c37e1",
   "metadata": {},
   "outputs": [
    {
     "data": {
      "text/plain": [
       "0.9999891628432375"
      ]
     },
     "execution_count": 62,
     "metadata": {},
     "output_type": "execute_result"
    }
   ],
   "source": [
    "adj_r2"
   ]
  },
  {
   "cell_type": "code",
   "execution_count": null,
   "id": "c726340e",
   "metadata": {},
   "outputs": [],
   "source": []
  }
 ],
 "metadata": {
  "kernelspec": {
   "display_name": "Python 3 (ipykernel)",
   "language": "python",
   "name": "python3"
  },
  "language_info": {
   "codemirror_mode": {
    "name": "ipython",
    "version": 3
   },
   "file_extension": ".py",
   "mimetype": "text/x-python",
   "name": "python",
   "nbconvert_exporter": "python",
   "pygments_lexer": "ipython3",
   "version": "3.9.7"
  }
 },
 "nbformat": 4,
 "nbformat_minor": 5
}
