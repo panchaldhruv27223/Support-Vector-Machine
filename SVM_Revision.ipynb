{
 "cells": [
  {
   "cell_type": "code",
   "execution_count": 1,
   "id": "c4711a9a",
   "metadata": {},
   "outputs": [],
   "source": [
    "import pandas as pd\n",
    "import numpy as np\n",
    "import seaborn as sns\n",
    "import matplotlib.pyplot as plt"
   ]
  },
  {
   "cell_type": "code",
   "execution_count": 2,
   "id": "c5b3fd5a",
   "metadata": {},
   "outputs": [],
   "source": [
    "from sklearn.model_selection import train_test_split\n",
    "from sklearn.datasets import make_classification"
   ]
  },
  {
   "cell_type": "code",
   "execution_count": 3,
   "id": "cce1b1b9",
   "metadata": {},
   "outputs": [
    {
     "data": {
      "text/plain": [
       "((1000, 2), (1000,))"
      ]
     },
     "execution_count": 3,
     "metadata": {},
     "output_type": "execute_result"
    }
   ],
   "source": [
    "X,y = make_classification(n_samples=1000,n_features=2,n_classes=2,n_clusters_per_class=2,n_redundant=0)\n",
    "X.shape,y.shape"
   ]
  },
  {
   "cell_type": "code",
   "execution_count": 4,
   "id": "40dd1e09",
   "metadata": {},
   "outputs": [
    {
     "data": {
      "text/plain": [
       "array([[-0.17503211,  2.36999429],\n",
       "       [-0.74424636, -1.38181983],\n",
       "       [ 0.51026559,  0.95036087],\n",
       "       ...,\n",
       "       [ 1.47418684, -0.72824206],\n",
       "       [ 0.53355481, -1.24146008],\n",
       "       [ 1.20415231, -2.38476525]])"
      ]
     },
     "execution_count": 4,
     "metadata": {},
     "output_type": "execute_result"
    }
   ],
   "source": [
    "X"
   ]
  },
  {
   "cell_type": "code",
   "execution_count": 5,
   "id": "ebd225f3",
   "metadata": {},
   "outputs": [
    {
     "data": {
      "text/plain": [
       "array([0, 0, 1, 1, 1, 1, 1, 0, 0, 1, 0, 1, 1, 1, 1, 1, 0, 0, 0, 1, 1, 0,\n",
       "       1, 1, 0, 1, 0, 0, 1, 0, 0, 1, 1, 0, 0, 0, 0, 0, 1, 0, 0, 0, 0, 0,\n",
       "       0, 1, 1, 1, 0, 1, 0, 0, 0, 1, 0, 1, 1, 0, 1, 1, 1, 1, 1, 1, 1, 0,\n",
       "       0, 1, 1, 0, 0, 0, 1, 1, 1, 1, 0, 1, 0, 1, 1, 0, 1, 0, 0, 0, 0, 0,\n",
       "       0, 0, 0, 1, 1, 1, 0, 0, 1, 1, 0, 0, 1, 1, 1, 1, 1, 0, 0, 1, 1, 1,\n",
       "       0, 1, 0, 0, 1, 0, 0, 1, 0, 0, 0, 1, 0, 1, 0, 1, 1, 1, 1, 0, 1, 1,\n",
       "       0, 1, 1, 0, 0, 0, 1, 0, 0, 1, 0, 1, 0, 1, 1, 0, 1, 0, 1, 0, 0, 0,\n",
       "       1, 1, 1, 0, 0, 0, 1, 0, 1, 1, 1, 0, 1, 1, 1, 1, 0, 1, 0, 0, 1, 1,\n",
       "       1, 1, 1, 1, 1, 1, 1, 1, 0, 1, 1, 0, 0, 1, 0, 1, 1, 0, 0, 0, 1, 0,\n",
       "       0, 0, 1, 1, 0, 0, 0, 0, 1, 1, 0, 0, 1, 1, 0, 0, 0, 1, 1, 1, 0, 0,\n",
       "       0, 1, 0, 1, 0, 1, 1, 0, 0, 0, 0, 1, 0, 0, 1, 0, 0, 0, 0, 0, 0, 0,\n",
       "       0, 1, 0, 1, 1, 1, 0, 1, 1, 1, 0, 1, 1, 0, 0, 0, 1, 1, 1, 1, 0, 0,\n",
       "       0, 0, 1, 0, 0, 1, 0, 1, 1, 0, 1, 0, 1, 1, 1, 0, 0, 1, 1, 1, 1, 0,\n",
       "       1, 1, 1, 1, 1, 0, 1, 0, 0, 1, 1, 1, 0, 0, 1, 0, 0, 1, 0, 0, 0, 1,\n",
       "       0, 0, 1, 1, 1, 1, 1, 1, 1, 0, 1, 0, 0, 0, 1, 0, 1, 1, 0, 0, 1, 0,\n",
       "       1, 1, 0, 0, 0, 1, 1, 0, 1, 1, 1, 1, 1, 1, 0, 1, 0, 1, 1, 0, 0, 0,\n",
       "       1, 0, 0, 1, 1, 0, 0, 1, 0, 0, 1, 0, 1, 0, 1, 1, 0, 1, 0, 0, 0, 0,\n",
       "       1, 0, 1, 1, 0, 1, 1, 1, 1, 1, 0, 1, 0, 0, 0, 0, 0, 1, 1, 1, 1, 1,\n",
       "       0, 0, 0, 0, 0, 0, 0, 1, 1, 0, 1, 0, 1, 0, 0, 0, 1, 0, 1, 1, 0, 0,\n",
       "       0, 0, 1, 1, 1, 1, 1, 1, 0, 1, 0, 0, 1, 1, 0, 0, 1, 0, 1, 1, 1, 1,\n",
       "       1, 1, 1, 0, 0, 1, 0, 1, 0, 0, 1, 1, 1, 0, 1, 1, 1, 1, 0, 0, 1, 0,\n",
       "       0, 0, 1, 1, 0, 0, 0, 0, 0, 0, 0, 1, 1, 0, 0, 1, 0, 1, 1, 1, 1, 0,\n",
       "       1, 0, 1, 1, 0, 1, 0, 0, 1, 0, 1, 1, 0, 1, 0, 0, 0, 1, 0, 0, 0, 1,\n",
       "       1, 0, 0, 1, 0, 0, 0, 0, 1, 0, 1, 1, 0, 1, 0, 1, 1, 0, 1, 0, 0, 0,\n",
       "       0, 1, 1, 0, 1, 1, 0, 1, 0, 1, 0, 1, 1, 1, 1, 0, 0, 0, 0, 1, 0, 1,\n",
       "       1, 0, 0, 1, 1, 1, 0, 0, 1, 0, 1, 0, 0, 0, 0, 1, 1, 1, 0, 1, 0, 0,\n",
       "       0, 1, 0, 1, 0, 0, 1, 1, 1, 0, 1, 1, 1, 1, 1, 0, 1, 0, 1, 1, 0, 1,\n",
       "       1, 1, 0, 1, 1, 0, 1, 1, 0, 0, 1, 0, 1, 0, 0, 0, 1, 0, 0, 0, 0, 0,\n",
       "       1, 0, 0, 0, 1, 0, 1, 1, 0, 0, 0, 0, 1, 1, 1, 1, 1, 0, 1, 0, 1, 0,\n",
       "       0, 1, 1, 0, 1, 1, 1, 1, 1, 1, 0, 0, 0, 1, 0, 0, 1, 0, 0, 0, 0, 0,\n",
       "       1, 0, 0, 1, 0, 0, 0, 1, 0, 1, 1, 1, 0, 1, 1, 1, 0, 1, 1, 0, 1, 1,\n",
       "       0, 1, 1, 1, 0, 1, 0, 0, 0, 1, 0, 1, 0, 1, 0, 1, 1, 1, 0, 1, 1, 0,\n",
       "       1, 1, 0, 0, 1, 1, 1, 1, 1, 0, 1, 0, 0, 0, 1, 1, 1, 1, 1, 1, 1, 1,\n",
       "       0, 0, 1, 1, 0, 0, 0, 1, 1, 1, 0, 0, 0, 0, 1, 0, 1, 0, 0, 1, 1, 1,\n",
       "       1, 0, 1, 1, 0, 0, 0, 1, 1, 1, 1, 0, 0, 1, 1, 0, 0, 0, 0, 0, 1, 1,\n",
       "       1, 0, 1, 1, 0, 1, 0, 0, 0, 0, 1, 0, 1, 0, 1, 1, 0, 0, 0, 0, 1, 0,\n",
       "       1, 1, 0, 0, 0, 0, 0, 0, 0, 0, 0, 1, 0, 0, 0, 0, 0, 1, 0, 0, 1, 1,\n",
       "       0, 1, 1, 0, 1, 1, 1, 0, 0, 1, 0, 0, 0, 0, 1, 0, 0, 0, 1, 1, 1, 0,\n",
       "       1, 0, 1, 0, 1, 1, 0, 0, 1, 1, 1, 0, 1, 0, 0, 1, 1, 1, 0, 1, 1, 0,\n",
       "       0, 1, 1, 1, 0, 1, 0, 1, 1, 1, 1, 1, 1, 0, 0, 1, 0, 0, 1, 0, 1, 0,\n",
       "       1, 1, 0, 1, 1, 1, 0, 0, 1, 1, 0, 0, 1, 0, 0, 1, 0, 1, 1, 1, 1, 0,\n",
       "       0, 0, 0, 1, 1, 1, 1, 0, 1, 0, 0, 1, 1, 0, 1, 0, 1, 0, 0, 1, 1, 1,\n",
       "       1, 1, 1, 0, 1, 0, 0, 0, 1, 0, 1, 1, 0, 1, 1, 1, 0, 0, 0, 0, 0, 1,\n",
       "       0, 1, 1, 0, 0, 0, 0, 1, 0, 0, 0, 1, 0, 0, 1, 1, 0, 1, 1, 0, 1, 0,\n",
       "       1, 1, 1, 0, 0, 0, 0, 0, 1, 0, 0, 0, 0, 0, 1, 1, 1, 0, 0, 0, 0, 0,\n",
       "       1, 0, 0, 0, 1, 0, 0, 1, 1, 1])"
      ]
     },
     "execution_count": 5,
     "metadata": {},
     "output_type": "execute_result"
    }
   ],
   "source": [
    "y"
   ]
  },
  {
   "cell_type": "code",
   "execution_count": 12,
   "id": "b0029be5",
   "metadata": {},
   "outputs": [
    {
     "data": {
      "text/html": [
       "<div>\n",
       "<style scoped>\n",
       "    .dataframe tbody tr th:only-of-type {\n",
       "        vertical-align: middle;\n",
       "    }\n",
       "\n",
       "    .dataframe tbody tr th {\n",
       "        vertical-align: top;\n",
       "    }\n",
       "\n",
       "    .dataframe thead th {\n",
       "        text-align: right;\n",
       "    }\n",
       "</style>\n",
       "<table border=\"1\" class=\"dataframe\">\n",
       "  <thead>\n",
       "    <tr style=\"text-align: right;\">\n",
       "      <th></th>\n",
       "      <th>X1</th>\n",
       "      <th>X2</th>\n",
       "    </tr>\n",
       "  </thead>\n",
       "  <tbody>\n",
       "    <tr>\n",
       "      <th>0</th>\n",
       "      <td>-0.175032</td>\n",
       "      <td>2.369994</td>\n",
       "    </tr>\n",
       "    <tr>\n",
       "      <th>1</th>\n",
       "      <td>-0.744246</td>\n",
       "      <td>-1.381820</td>\n",
       "    </tr>\n",
       "    <tr>\n",
       "      <th>2</th>\n",
       "      <td>0.510266</td>\n",
       "      <td>0.950361</td>\n",
       "    </tr>\n",
       "    <tr>\n",
       "      <th>3</th>\n",
       "      <td>0.423316</td>\n",
       "      <td>-0.035346</td>\n",
       "    </tr>\n",
       "    <tr>\n",
       "      <th>4</th>\n",
       "      <td>1.527877</td>\n",
       "      <td>0.705499</td>\n",
       "    </tr>\n",
       "    <tr>\n",
       "      <th>...</th>\n",
       "      <td>...</td>\n",
       "      <td>...</td>\n",
       "    </tr>\n",
       "    <tr>\n",
       "      <th>995</th>\n",
       "      <td>-2.967467</td>\n",
       "      <td>0.059256</td>\n",
       "    </tr>\n",
       "    <tr>\n",
       "      <th>996</th>\n",
       "      <td>-0.384029</td>\n",
       "      <td>-1.599461</td>\n",
       "    </tr>\n",
       "    <tr>\n",
       "      <th>997</th>\n",
       "      <td>1.474187</td>\n",
       "      <td>-0.728242</td>\n",
       "    </tr>\n",
       "    <tr>\n",
       "      <th>998</th>\n",
       "      <td>0.533555</td>\n",
       "      <td>-1.241460</td>\n",
       "    </tr>\n",
       "    <tr>\n",
       "      <th>999</th>\n",
       "      <td>1.204152</td>\n",
       "      <td>-2.384765</td>\n",
       "    </tr>\n",
       "  </tbody>\n",
       "</table>\n",
       "<p>1000 rows × 2 columns</p>\n",
       "</div>"
      ],
      "text/plain": [
       "           X1        X2\n",
       "0   -0.175032  2.369994\n",
       "1   -0.744246 -1.381820\n",
       "2    0.510266  0.950361\n",
       "3    0.423316 -0.035346\n",
       "4    1.527877  0.705499\n",
       "..        ...       ...\n",
       "995 -2.967467  0.059256\n",
       "996 -0.384029 -1.599461\n",
       "997  1.474187 -0.728242\n",
       "998  0.533555 -1.241460\n",
       "999  1.204152 -2.384765\n",
       "\n",
       "[1000 rows x 2 columns]"
      ]
     },
     "execution_count": 12,
     "metadata": {},
     "output_type": "execute_result"
    }
   ],
   "source": [
    "df = pd.DataFrame(X,columns=[\"X1\",\"X2\"])\n",
    "df"
   ]
  },
  {
   "cell_type": "code",
   "execution_count": 13,
   "id": "22cd4e53",
   "metadata": {},
   "outputs": [
    {
     "data": {
      "text/plain": [
       "(1000, 2)"
      ]
     },
     "execution_count": 13,
     "metadata": {},
     "output_type": "execute_result"
    }
   ],
   "source": [
    "df.shape"
   ]
  },
  {
   "cell_type": "code",
   "execution_count": 16,
   "id": "eb8d4976",
   "metadata": {},
   "outputs": [],
   "source": [
    "df[\"y\"] = y"
   ]
  },
  {
   "cell_type": "code",
   "execution_count": 17,
   "id": "99f5255f",
   "metadata": {},
   "outputs": [
    {
     "data": {
      "text/html": [
       "<div>\n",
       "<style scoped>\n",
       "    .dataframe tbody tr th:only-of-type {\n",
       "        vertical-align: middle;\n",
       "    }\n",
       "\n",
       "    .dataframe tbody tr th {\n",
       "        vertical-align: top;\n",
       "    }\n",
       "\n",
       "    .dataframe thead th {\n",
       "        text-align: right;\n",
       "    }\n",
       "</style>\n",
       "<table border=\"1\" class=\"dataframe\">\n",
       "  <thead>\n",
       "    <tr style=\"text-align: right;\">\n",
       "      <th></th>\n",
       "      <th>X1</th>\n",
       "      <th>X2</th>\n",
       "      <th>y</th>\n",
       "    </tr>\n",
       "  </thead>\n",
       "  <tbody>\n",
       "    <tr>\n",
       "      <th>0</th>\n",
       "      <td>-0.175032</td>\n",
       "      <td>2.369994</td>\n",
       "      <td>0</td>\n",
       "    </tr>\n",
       "    <tr>\n",
       "      <th>1</th>\n",
       "      <td>-0.744246</td>\n",
       "      <td>-1.381820</td>\n",
       "      <td>0</td>\n",
       "    </tr>\n",
       "    <tr>\n",
       "      <th>2</th>\n",
       "      <td>0.510266</td>\n",
       "      <td>0.950361</td>\n",
       "      <td>1</td>\n",
       "    </tr>\n",
       "    <tr>\n",
       "      <th>3</th>\n",
       "      <td>0.423316</td>\n",
       "      <td>-0.035346</td>\n",
       "      <td>1</td>\n",
       "    </tr>\n",
       "    <tr>\n",
       "      <th>4</th>\n",
       "      <td>1.527877</td>\n",
       "      <td>0.705499</td>\n",
       "      <td>1</td>\n",
       "    </tr>\n",
       "  </tbody>\n",
       "</table>\n",
       "</div>"
      ],
      "text/plain": [
       "         X1        X2  y\n",
       "0 -0.175032  2.369994  0\n",
       "1 -0.744246 -1.381820  0\n",
       "2  0.510266  0.950361  1\n",
       "3  0.423316 -0.035346  1\n",
       "4  1.527877  0.705499  1"
      ]
     },
     "execution_count": 17,
     "metadata": {},
     "output_type": "execute_result"
    }
   ],
   "source": [
    "df.head(5)"
   ]
  },
  {
   "cell_type": "code",
   "execution_count": 19,
   "id": "38b7816d",
   "metadata": {
    "scrolled": true
   },
   "outputs": [
    {
     "data": {
      "text/plain": [
       "<AxesSubplot: xlabel='X1', ylabel='X2'>"
      ]
     },
     "execution_count": 19,
     "metadata": {},
     "output_type": "execute_result"
    },
    {
     "data": {
      "image/png": "[encoded data removed]",
      "text/plain": [
       "<Figure size 640x480 with 1 Axes>"
      ]
     },
     "metadata": {},
     "output_type": "display_data"
    }
   ],
   "source": [
    "sns.scatterplot(x=df[\"X1\"],y=df[\"X2\"],hue=df[\"y\"])"
   ]
  },
  {
   "cell_type": "code",
   "execution_count": 24,
   "id": "965a2b8d",
   "metadata": {},
   "outputs": [
    {
     "data": {
      "text/plain": [
       "(1000, 2)"
      ]
     },
     "execution_count": 24,
     "metadata": {},
     "output_type": "execute_result"
    }
   ],
   "source": [
    "X = df.drop(\"y\",axis=1)\n",
    "y = df[\"y\"]\n",
    "X.shape"
   ]
  },
  {
   "cell_type": "code",
   "execution_count": 25,
   "id": "bc07e3e4",
   "metadata": {},
   "outputs": [
    {
     "data": {
      "text/plain": [
       "(1000,)"
      ]
     },
     "execution_count": 25,
     "metadata": {},
     "output_type": "execute_result"
    }
   ],
   "source": [
    "y.shape"
   ]
  },
  {
   "cell_type": "code",
   "execution_count": 20,
   "id": "a5d60146",
   "metadata": {},
   "outputs": [],
   "source": [
    "from sklearn.model_selection import train_test_split"
   ]
  },
  {
   "cell_type": "code",
   "execution_count": 26,
   "id": "399f8a49",
   "metadata": {},
   "outputs": [
    {
     "data": {
      "text/plain": [
       "((700, 2), (300, 2), (700,), (300,))"
      ]
     },
     "execution_count": 26,
     "metadata": {},
     "output_type": "execute_result"
    }
   ],
   "source": [
    "X_train,X_test,y_train,y_test = train_test_split(X,y,test_size=0.30,random_state=42)\n",
    "X_train.shape,X_test.shape,y_train.shape,y_test.shape"
   ]
  },
  {
   "cell_type": "code",
   "execution_count": 27,
   "id": "bacaba5c",
   "metadata": {},
   "outputs": [],
   "source": [
    "from sklearn.svm import SVC"
   ]
  },
  {
   "cell_type": "code",
   "execution_count": 34,
   "id": "53219fd2",
   "metadata": {},
   "outputs": [],
   "source": [
    "svc = SVC(kernel=\"linear\")"
   ]
  },
  {
   "cell_type": "code",
   "execution_count": 35,
   "id": "e72bf227",
   "metadata": {},
   "outputs": [
    {
     "data": {
      "text/html": [
       "<style>#sk-container-id-3 {color: black;}#sk-container-id-3 pre{padding: 0;}#sk-container-id-3 div.sk-toggleable {background-color: white;}#sk-container-id-3 label.sk-toggleable__label {cursor: pointer;display: block;width: 100%;margin-bottom: 0;padding: 0.3em;box-sizing: border-box;text-align: center;}#sk-container-id-3 label.sk-toggleable__label-arrow:before {content: \"▸\";float: left;margin-right: 0.25em;color: #696969;}#sk-container-id-3 label.sk-toggleable__label-arrow:hover:before {color: black;}#sk-container-id-3 div.sk-estimator:hover label.sk-toggleable__label-arrow:before {color: black;}#sk-container-id-3 div.sk-toggleable__content {max-height: 0;max-width: 0;overflow: hidden;text-align: left;background-color: #f0f8ff;}#sk-container-id-3 div.sk-toggleable__content pre {margin: 0.2em;color: black;border-radius: 0.25em;background-color: #f0f8ff;}#sk-container-id-3 input.sk-toggleable__control:checked~div.sk-toggleable__content {max-height: 200px;max-width: 100%;overflow: auto;}#sk-container-id-3 input.sk-toggleable__control:checked~label.sk-toggleable__label-arrow:before {content: \"▾\";}#sk-container-id-3 div.sk-estimator input.sk-toggleable__control:checked~label.sk-toggleable__label {background-color: #d4ebff;}#sk-container-id-3 div.sk-label input.sk-toggleable__control:checked~label.sk-toggleable__label {background-color: #d4ebff;}#sk-container-id-3 input.sk-hidden--visually {border: 0;clip: rect(1px 1px 1px 1px);clip: rect(1px, 1px, 1px, 1px);height: 1px;margin: -1px;overflow: hidden;padding: 0;position: absolute;width: 1px;}#sk-container-id-3 div.sk-estimator {font-family: monospace;background-color: #f0f8ff;border: 1px dotted black;border-radius: 0.25em;box-sizing: border-box;margin-bottom: 0.5em;}#sk-container-id-3 div.sk-estimator:hover {background-color: #d4ebff;}#sk-container-id-3 div.sk-parallel-item::after {content: \"\";width: 100%;border-bottom: 1px solid gray;flex-grow: 1;}#sk-container-id-3 div.sk-label:hover label.sk-toggleable__label {background-color: #d4ebff;}#sk-container-id-3 div.sk-serial::before {content: \"\";position: absolute;border-left: 1px solid gray;box-sizing: border-box;top: 0;bottom: 0;left: 50%;z-index: 0;}#sk-container-id-3 div.sk-serial {display: flex;flex-direction: column;align-items: center;background-color: white;padding-right: 0.2em;padding-left: 0.2em;position: relative;}#sk-container-id-3 div.sk-item {position: relative;z-index: 1;}#sk-container-id-3 div.sk-parallel {display: flex;align-items: stretch;justify-content: center;background-color: white;position: relative;}#sk-container-id-3 div.sk-item::before, #sk-container-id-3 div.sk-parallel-item::before {content: \"\";position: absolute;border-left: 1px solid gray;box-sizing: border-box;top: 0;bottom: 0;left: 50%;z-index: -1;}#sk-container-id-3 div.sk-parallel-item {display: flex;flex-direction: column;z-index: 1;position: relative;background-color: white;}#sk-container-id-3 div.sk-parallel-item:first-child::after {align-self: flex-end;width: 50%;}#sk-container-id-3 div.sk-parallel-item:last-child::after {align-self: flex-start;width: 50%;}#sk-container-id-3 div.sk-parallel-item:only-child::after {width: 0;}#sk-container-id-3 div.sk-dashed-wrapped {border: 1px dashed gray;margin: 0 0.4em 0.5em 0.4em;box-sizing: border-box;padding-bottom: 0.4em;background-color: white;}#sk-container-id-3 div.sk-label label {font-family: monospace;font-weight: bold;display: inline-block;line-height: 1.2em;}#sk-container-id-3 div.sk-label-container {text-align: center;}#sk-container-id-3 div.sk-container {/* jupyter's `normalize.less` sets `[hidden] { display: none; }` but bootstrap.min.css set `[hidden] { display: none !important; }` so we also need the `!important` here to be able to override the default hidden behavior on the sphinx rendered scikit-learn.org. See: https://github.com/scikit-learn/scikit-learn/issues/21755 */display: inline-block !important;position: relative;}#sk-container-id-3 div.sk-text-repr-fallback {display: none;}</style><div id=\"sk-container-id-3\" class=\"sk-top-container\"><div class=\"sk-text-repr-fallback\"><pre>SVC(kernel=&#x27;linear&#x27;)</pre><b>In a Jupyter environment, please rerun this cell to show the HTML representation or trust the notebook. <br />On GitHub, the HTML representation is unable to render, please try loading this page with nbviewer.org.</b></div><div class=\"sk-container\" hidden><div class=\"sk-item\"><div class=\"sk-estimator sk-toggleable\"><input class=\"sk-toggleable__control sk-hidden--visually\" id=\"sk-estimator-id-3\" type=\"checkbox\" checked><label for=\"sk-estimator-id-3\" class=\"sk-toggleable__label sk-toggleable__label-arrow\">SVC</label><div class=\"sk-toggleable__content\"><pre>SVC(kernel=&#x27;linear&#x27;)</pre></div></div></div></div></div>"
      ],
      "text/plain": [
       "SVC(kernel='linear')"
      ]
     },
     "execution_count": 35,
     "metadata": {},
     "output_type": "execute_result"
    }
   ],
   "source": [
    "svc.fit(X_train,y_train)"
   ]
  },
  {
   "cell_type": "code",
   "execution_count": 36,
   "id": "079114ae",
   "metadata": {},
   "outputs": [
    {
     "data": {
      "text/plain": [
       "array([-0.5184103])"
      ]
     },
     "execution_count": 36,
     "metadata": {},
     "output_type": "execute_result"
    }
   ],
   "source": [
    "svc.intercept_"
   ]
  },
  {
   "cell_type": "code",
   "execution_count": 38,
   "id": "2f84cb5e",
   "metadata": {},
   "outputs": [
    {
     "data": {
      "text/plain": [
       "array([[2.54437557, 0.34213878]])"
      ]
     },
     "execution_count": 38,
     "metadata": {},
     "output_type": "execute_result"
    }
   ],
   "source": [
    "svc.coef_"
   ]
  },
  {
   "cell_type": "code",
   "execution_count": 39,
   "id": "c515e67e",
   "metadata": {},
   "outputs": [
    {
     "data": {
      "text/plain": [
       "0.0"
      ]
     },
     "execution_count": 39,
     "metadata": {},
     "output_type": "execute_result"
    }
   ],
   "source": [
    "svc.coef0"
   ]
  },
  {
   "cell_type": "code",
   "execution_count": 40,
   "id": "7e14de28",
   "metadata": {},
   "outputs": [
    {
     "data": {
      "text/plain": [
       "'scale'"
      ]
     },
     "execution_count": 40,
     "metadata": {},
     "output_type": "execute_result"
    }
   ],
   "source": [
    "svc.gamma"
   ]
  },
  {
   "cell_type": "code",
   "execution_count": 41,
   "id": "c4428f0b",
   "metadata": {},
   "outputs": [
    {
     "data": {
      "text/plain": [
       "0.0"
      ]
     },
     "execution_count": 41,
     "metadata": {},
     "output_type": "execute_result"
    }
   ],
   "source": [
    "svc.epsilon"
   ]
  },
  {
   "cell_type": "code",
   "execution_count": 42,
   "id": "845ce033",
   "metadata": {},
   "outputs": [],
   "source": [
    "y_predict = svc.predict(X_test)"
   ]
  },
  {
   "cell_type": "code",
   "execution_count": 43,
   "id": "84f047d1",
   "metadata": {},
   "outputs": [
    {
     "data": {
      "text/plain": [
       "array([1, 0, 1, 1, 0, 1, 0, 0, 1, 0, 0, 0, 1, 0, 1, 1, 0, 1, 0, 0, 1, 1,\n",
       "       0, 0, 1, 0, 1, 0, 0, 1, 0, 0, 1, 0, 0, 0, 1, 1, 0, 1, 1, 1, 1, 0,\n",
       "       0, 1, 1, 1, 1, 0, 0, 0, 1, 1, 1, 0, 0, 0, 1, 1, 1, 0, 1, 0, 1, 0,\n",
       "       0, 1, 0, 0, 1, 0, 1, 0, 1, 1, 0, 0, 0, 1, 0, 0, 0, 1, 1, 0, 1, 1,\n",
       "       1, 0, 1, 1, 1, 0, 1, 1, 0, 0, 1, 0, 0, 0, 0, 0, 0, 1, 1, 0, 1, 0,\n",
       "       0, 0, 0, 1, 0, 0, 1, 0, 0, 0, 1, 1, 0, 1, 0, 0, 1, 1, 1, 0, 0, 0,\n",
       "       0, 0, 1, 1, 0, 1, 1, 1, 0, 1, 1, 1, 0, 1, 0, 0, 0, 0, 1, 0, 0, 0,\n",
       "       0, 0, 0, 1, 1, 1, 1, 0, 0, 0, 1, 0, 0, 0, 1, 1, 1, 1, 0, 0, 1, 0,\n",
       "       1, 1, 0, 1, 1, 1, 1, 0, 1, 0, 1, 0, 0, 0, 1, 0, 0, 0, 0, 1, 0, 0,\n",
       "       0, 0, 0, 1, 1, 0, 1, 0, 0, 1, 1, 0, 1, 1, 1, 0, 0, 1, 0, 1, 1, 1,\n",
       "       0, 1, 0, 1, 0, 1, 0, 0, 0, 0, 1, 1, 1, 1, 0, 1, 1, 1, 1, 0, 1, 0,\n",
       "       1, 0, 0, 1, 1, 1, 0, 1, 1, 0, 0, 0, 0, 0, 1, 1, 1, 1, 0, 1, 1, 1,\n",
       "       0, 1, 0, 1, 1, 1, 1, 0, 1, 1, 1, 1, 1, 0, 0, 0, 0, 0, 0, 1, 1, 0,\n",
       "       1, 0, 0, 0, 0, 1, 1, 1, 1, 0, 1, 0, 0, 1])"
      ]
     },
     "execution_count": 43,
     "metadata": {},
     "output_type": "execute_result"
    }
   ],
   "source": [
    "y_predict"
   ]
  },
  {
   "cell_type": "code",
   "execution_count": 45,
   "id": "2d88c2ef",
   "metadata": {},
   "outputs": [],
   "source": [
    "from sklearn.metrics import classification_report,accuracy_score,confusion_matrix"
   ]
  },
  {
   "cell_type": "code",
   "execution_count": 46,
   "id": "eb8aaa0e",
   "metadata": {},
   "outputs": [
    {
     "data": {
      "text/plain": [
       "0.96"
      ]
     },
     "execution_count": 46,
     "metadata": {},
     "output_type": "execute_result"
    }
   ],
   "source": [
    "accuracy_score(y_test,y_predict)"
   ]
  },
  {
   "cell_type": "code",
   "execution_count": 47,
   "id": "d1e32f89",
   "metadata": {},
   "outputs": [
    {
     "name": "stdout",
     "output_type": "stream",
     "text": [
      "              precision    recall  f1-score   support\n",
      "\n",
      "           0       0.99      0.94      0.96       161\n",
      "           1       0.93      0.99      0.96       139\n",
      "\n",
      "    accuracy                           0.96       300\n",
      "   macro avg       0.96      0.96      0.96       300\n",
      "weighted avg       0.96      0.96      0.96       300\n",
      "\n"
     ]
    }
   ],
   "source": [
    "print(classification_report(y_test,y_predict))"
   ]
  },
  {
   "cell_type": "code",
   "execution_count": 48,
   "id": "655e3fd2",
   "metadata": {
    "scrolled": true
   },
   "outputs": [
    {
     "data": {
      "text/plain": [
       "array([[151,  10],\n",
       "       [  2, 137]], dtype=int64)"
      ]
     },
     "execution_count": 48,
     "metadata": {},
     "output_type": "execute_result"
    }
   ],
   "source": [
    "confusion_matrix(y_test,y_predict)"
   ]
  },
  {
   "cell_type": "code",
   "execution_count": 49,
   "id": "41e6e32b",
   "metadata": {},
   "outputs": [],
   "source": [
    "# hyper parameteres tuning"
   ]
  },
  {
   "cell_type": "code",
   "execution_count": 50,
   "id": "7a7bc728",
   "metadata": {},
   "outputs": [],
   "source": [
    "from sklearn.model_selection import GridSearchCV"
   ]
  },
  {
   "cell_type": "code",
   "execution_count": 51,
   "id": "ef30cb78",
   "metadata": {},
   "outputs": [],
   "source": [
    "params = {\n",
    "    \"C\" : [0.1,1,10,100,1000],\n",
    "    \"gamma\" : [1,0.1,0.01,0.001],\n",
    "    \"kernel\" : [\"linear\"]\n",
    "}"
   ]
  },
  {
   "cell_type": "code",
   "execution_count": 52,
   "id": "7a860b2c",
   "metadata": {},
   "outputs": [],
   "source": [
    "model = SVC()"
   ]
  },
  {
   "cell_type": "code",
   "execution_count": 53,
   "id": "635ad8ad",
   "metadata": {},
   "outputs": [],
   "source": [
    "grid = GridSearchCV(model,param_grid=params,cv=5,verbose=3,refit=True)\n"
   ]
  },
  {
   "cell_type": "code",
   "execution_count": 54,
   "id": "588689fa",
   "metadata": {},
   "outputs": [
    {
     "data": {
      "text/html": [
       "<style>#sk-container-id-4 {color: black;}#sk-container-id-4 pre{padding: 0;}#sk-container-id-4 div.sk-toggleable {background-color: white;}#sk-container-id-4 label.sk-toggleable__label {cursor: pointer;display: block;width: 100%;margin-bottom: 0;padding: 0.3em;box-sizing: border-box;text-align: center;}#sk-container-id-4 label.sk-toggleable__label-arrow:before {content: \"▸\";float: left;margin-right: 0.25em;color: #696969;}#sk-container-id-4 label.sk-toggleable__label-arrow:hover:before {color: black;}#sk-container-id-4 div.sk-estimator:hover label.sk-toggleable__label-arrow:before {color: black;}#sk-container-id-4 div.sk-toggleable__content {max-height: 0;max-width: 0;overflow: hidden;text-align: left;background-color: #f0f8ff;}#sk-container-id-4 div.sk-toggleable__content pre {margin: 0.2em;color: black;border-radius: 0.25em;background-color: #f0f8ff;}#sk-container-id-4 input.sk-toggleable__control:checked~div.sk-toggleable__content {max-height: 200px;max-width: 100%;overflow: auto;}#sk-container-id-4 input.sk-toggleable__control:checked~label.sk-toggleable__label-arrow:before {content: \"▾\";}#sk-container-id-4 div.sk-estimator input.sk-toggleable__control:checked~label.sk-toggleable__label {background-color: #d4ebff;}#sk-container-id-4 div.sk-label input.sk-toggleable__control:checked~label.sk-toggleable__label {background-color: #d4ebff;}#sk-container-id-4 input.sk-hidden--visually {border: 0;clip: rect(1px 1px 1px 1px);clip: rect(1px, 1px, 1px, 1px);height: 1px;margin: -1px;overflow: hidden;padding: 0;position: absolute;width: 1px;}#sk-container-id-4 div.sk-estimator {font-family: monospace;background-color: #f0f8ff;border: 1px dotted black;border-radius: 0.25em;box-sizing: border-box;margin-bottom: 0.5em;}#sk-container-id-4 div.sk-estimator:hover {background-color: #d4ebff;}#sk-container-id-4 div.sk-parallel-item::after {content: \"\";width: 100%;border-bottom: 1px solid gray;flex-grow: 1;}#sk-container-id-4 div.sk-label:hover label.sk-toggleable__label {background-color: #d4ebff;}#sk-container-id-4 div.sk-serial::before {content: \"\";position: absolute;border-left: 1px solid gray;box-sizing: border-box;top: 0;bottom: 0;left: 50%;z-index: 0;}#sk-container-id-4 div.sk-serial {display: flex;flex-direction: column;align-items: center;background-color: white;padding-right: 0.2em;padding-left: 0.2em;position: relative;}#sk-container-id-4 div.sk-item {position: relative;z-index: 1;}#sk-container-id-4 div.sk-parallel {display: flex;align-items: stretch;justify-content: center;background-color: white;position: relative;}#sk-container-id-4 div.sk-item::before, #sk-container-id-4 div.sk-parallel-item::before {content: \"\";position: absolute;border-left: 1px solid gray;box-sizing: border-box;top: 0;bottom: 0;left: 50%;z-index: -1;}#sk-container-id-4 div.sk-parallel-item {display: flex;flex-direction: column;z-index: 1;position: relative;background-color: white;}#sk-container-id-4 div.sk-parallel-item:first-child::after {align-self: flex-end;width: 50%;}#sk-container-id-4 div.sk-parallel-item:last-child::after {align-self: flex-start;width: 50%;}#sk-container-id-4 div.sk-parallel-item:only-child::after {width: 0;}#sk-container-id-4 div.sk-dashed-wrapped {border: 1px dashed gray;margin: 0 0.4em 0.5em 0.4em;box-sizing: border-box;padding-bottom: 0.4em;background-color: white;}#sk-container-id-4 div.sk-label label {font-family: monospace;font-weight: bold;display: inline-block;line-height: 1.2em;}#sk-container-id-4 div.sk-label-container {text-align: center;}#sk-container-id-4 div.sk-container {/* jupyter's `normalize.less` sets `[hidden] { display: none; }` but bootstrap.min.css set `[hidden] { display: none !important; }` so we also need the `!important` here to be able to override the default hidden behavior on the sphinx rendered scikit-learn.org. See: https://github.com/scikit-learn/scikit-learn/issues/21755 */display: inline-block !important;position: relative;}#sk-container-id-4 div.sk-text-repr-fallback {display: none;}</style><div id=\"sk-container-id-4\" class=\"sk-top-container\"><div class=\"sk-text-repr-fallback\"><pre>GridSearchCV(cv=5, estimator=SVC(),\n",
       "             param_grid={&#x27;C&#x27;: [0.1, 1, 10, 100, 1000],\n",
       "                         &#x27;gamma&#x27;: [1, 0.1, 0.01, 0.001], &#x27;kernel&#x27;: [&#x27;linear&#x27;]},\n",
       "             verbose=3)</pre><b>In a Jupyter environment, please rerun this cell to show the HTML representation or trust the notebook. <br />On GitHub, the HTML representation is unable to render, please try loading this page with nbviewer.org.</b></div><div class=\"sk-container\" hidden><div class=\"sk-item sk-dashed-wrapped\"><div class=\"sk-label-container\"><div class=\"sk-label sk-toggleable\"><input class=\"sk-toggleable__control sk-hidden--visually\" id=\"sk-estimator-id-4\" type=\"checkbox\" ><label for=\"sk-estimator-id-4\" class=\"sk-toggleable__label sk-toggleable__label-arrow\">GridSearchCV</label><div class=\"sk-toggleable__content\"><pre>GridSearchCV(cv=5, estimator=SVC(),\n",
       "             param_grid={&#x27;C&#x27;: [0.1, 1, 10, 100, 1000],\n",
       "                         &#x27;gamma&#x27;: [1, 0.1, 0.01, 0.001], &#x27;kernel&#x27;: [&#x27;linear&#x27;]},\n",
       "             verbose=3)</pre></div></div></div><div class=\"sk-parallel\"><div class=\"sk-parallel-item\"><div class=\"sk-item\"><div class=\"sk-label-container\"><div class=\"sk-label sk-toggleable\"><input class=\"sk-toggleable__control sk-hidden--visually\" id=\"sk-estimator-id-5\" type=\"checkbox\" ><label for=\"sk-estimator-id-5\" class=\"sk-toggleable__label sk-toggleable__label-arrow\">estimator: SVC</label><div class=\"sk-toggleable__content\"><pre>SVC()</pre></div></div></div><div class=\"sk-serial\"><div class=\"sk-item\"><div class=\"sk-estimator sk-toggleable\"><input class=\"sk-toggleable__control sk-hidden--visually\" id=\"sk-estimator-id-6\" type=\"checkbox\" ><label for=\"sk-estimator-id-6\" class=\"sk-toggleable__label sk-toggleable__label-arrow\">SVC</label><div class=\"sk-toggleable__content\"><pre>SVC()</pre></div></div></div></div></div></div></div></div></div></div>"
      ],
      "text/plain": [
       "GridSearchCV(cv=5, estimator=SVC(),\n",
       "             param_grid={'C': [0.1, 1, 10, 100, 1000],\n",
       "                         'gamma': [1, 0.1, 0.01, 0.001], 'kernel': ['linear']},\n",
       "             verbose=3)"
      ]
     },
     "execution_count": 54,
     "metadata": {},
     "output_type": "execute_result"
    }
   ],
   "source": [
    "grid"
   ]
  },
  {
   "cell_type": "code",
   "execution_count": 55,
   "id": "d97e7fe0",
   "metadata": {},
   "outputs": [
    {
     "name": "stdout",
     "output_type": "stream",
     "text": [
      "Fitting 5 folds for each of 20 candidates, totalling 100 fits\n",
      "[CV 1/5] END .....C=0.1, gamma=1, kernel=linear;, score=0.950 total time=   0.0s\n",
      "[CV 2/5] END .....C=0.1, gamma=1, kernel=linear;, score=0.964 total time=   0.0s\n",
      "[CV 3/5] END .....C=0.1, gamma=1, kernel=linear;, score=0.950 total time=   0.0s\n",
      "[CV 4/5] END .....C=0.1, gamma=1, kernel=linear;, score=0.914 total time=   0.0s\n",
      "[CV 5/5] END .....C=0.1, gamma=1, kernel=linear;, score=0.943 total time=   0.0s\n",
      "[CV 1/5] END ...C=0.1, gamma=0.1, kernel=linear;, score=0.950 total time=   0.0s\n",
      "[CV 2/5] END ...C=0.1, gamma=0.1, kernel=linear;, score=0.964 total time=   0.0s\n",
      "[CV 3/5] END ...C=0.1, gamma=0.1, kernel=linear;, score=0.950 total time=   0.0s\n",
      "[CV 4/5] END ...C=0.1, gamma=0.1, kernel=linear;, score=0.914 total time=   0.0s\n",
      "[CV 5/5] END ...C=0.1, gamma=0.1, kernel=linear;, score=0.943 total time=   0.0s\n",
      "[CV 1/5] END ..C=0.1, gamma=0.01, kernel=linear;, score=0.950 total time=   0.0s\n",
      "[CV 2/5] END ..C=0.1, gamma=0.01, kernel=linear;, score=0.964 total time=   0.0s\n",
      "[CV 3/5] END ..C=0.1, gamma=0.01, kernel=linear;, score=0.950 total time=   0.0s\n",
      "[CV 4/5] END ..C=0.1, gamma=0.01, kernel=linear;, score=0.914 total time=   0.0s\n",
      "[CV 5/5] END ..C=0.1, gamma=0.01, kernel=linear;, score=0.943 total time=   0.0s\n",
      "[CV 1/5] END .C=0.1, gamma=0.001, kernel=linear;, score=0.950 total time=   0.0s\n",
      "[CV 2/5] END .C=0.1, gamma=0.001, kernel=linear;, score=0.964 total time=   0.0s\n",
      "[CV 3/5] END .C=0.1, gamma=0.001, kernel=linear;, score=0.950 total time=   0.0s\n",
      "[CV 4/5] END .C=0.1, gamma=0.001, kernel=linear;, score=0.914 total time=   0.0s\n",
      "[CV 5/5] END .C=0.1, gamma=0.001, kernel=linear;, score=0.943 total time=   0.0s\n",
      "[CV 1/5] END .......C=1, gamma=1, kernel=linear;, score=0.964 total time=   0.0s\n",
      "[CV 2/5] END .......C=1, gamma=1, kernel=linear;, score=0.943 total time=   0.0s\n",
      "[CV 3/5] END .......C=1, gamma=1, kernel=linear;, score=0.957 total time=   0.0s\n",
      "[CV 4/5] END .......C=1, gamma=1, kernel=linear;, score=0.921 total time=   0.0s\n",
      "[CV 5/5] END .......C=1, gamma=1, kernel=linear;, score=0.943 total time=   0.0s\n",
      "[CV 1/5] END .....C=1, gamma=0.1, kernel=linear;, score=0.964 total time=   0.0s\n",
      "[CV 2/5] END .....C=1, gamma=0.1, kernel=linear;, score=0.943 total time=   0.0s\n",
      "[CV 3/5] END .....C=1, gamma=0.1, kernel=linear;, score=0.957 total time=   0.0s\n",
      "[CV 4/5] END .....C=1, gamma=0.1, kernel=linear;, score=0.921 total time=   0.0s\n",
      "[CV 5/5] END .....C=1, gamma=0.1, kernel=linear;, score=0.943 total time=   0.0s\n",
      "[CV 1/5] END ....C=1, gamma=0.01, kernel=linear;, score=0.964 total time=   0.0s\n",
      "[CV 2/5] END ....C=1, gamma=0.01, kernel=linear;, score=0.943 total time=   0.0s\n",
      "[CV 3/5] END ....C=1, gamma=0.01, kernel=linear;, score=0.957 total time=   0.0s\n",
      "[CV 4/5] END ....C=1, gamma=0.01, kernel=linear;, score=0.921 total time=   0.0s\n",
      "[CV 5/5] END ....C=1, gamma=0.01, kernel=linear;, score=0.943 total time=   0.0s\n",
      "[CV 1/5] END ...C=1, gamma=0.001, kernel=linear;, score=0.964 total time=   0.0s\n",
      "[CV 2/5] END ...C=1, gamma=0.001, kernel=linear;, score=0.943 total time=   0.0s\n",
      "[CV 3/5] END ...C=1, gamma=0.001, kernel=linear;, score=0.957 total time=   0.0s\n",
      "[CV 4/5] END ...C=1, gamma=0.001, kernel=linear;, score=0.921 total time=   0.0s\n",
      "[CV 5/5] END ...C=1, gamma=0.001, kernel=linear;, score=0.943 total time=   0.0s\n",
      "[CV 1/5] END ......C=10, gamma=1, kernel=linear;, score=0.964 total time=   0.0s\n",
      "[CV 2/5] END ......C=10, gamma=1, kernel=linear;, score=0.936 total time=   0.0s\n",
      "[CV 3/5] END ......C=10, gamma=1, kernel=linear;, score=0.964 total time=   0.0s\n",
      "[CV 4/5] END ......C=10, gamma=1, kernel=linear;, score=0.929 total time=   0.0s\n",
      "[CV 5/5] END ......C=10, gamma=1, kernel=linear;, score=0.943 total time=   0.0s\n",
      "[CV 1/5] END ....C=10, gamma=0.1, kernel=linear;, score=0.964 total time=   0.0s\n",
      "[CV 2/5] END ....C=10, gamma=0.1, kernel=linear;, score=0.936 total time=   0.0s\n",
      "[CV 3/5] END ....C=10, gamma=0.1, kernel=linear;, score=0.964 total time=   0.0s\n",
      "[CV 4/5] END ....C=10, gamma=0.1, kernel=linear;, score=0.929 total time=   0.0s\n",
      "[CV 5/5] END ....C=10, gamma=0.1, kernel=linear;, score=0.943 total time=   0.0s\n",
      "[CV 1/5] END ...C=10, gamma=0.01, kernel=linear;, score=0.964 total time=   0.0s\n",
      "[CV 2/5] END ...C=10, gamma=0.01, kernel=linear;, score=0.936 total time=   0.0s\n",
      "[CV 3/5] END ...C=10, gamma=0.01, kernel=linear;, score=0.964 total time=   0.0s\n",
      "[CV 4/5] END ...C=10, gamma=0.01, kernel=linear;, score=0.929 total time=   0.0s\n",
      "[CV 5/5] END ...C=10, gamma=0.01, kernel=linear;, score=0.943 total time=   0.0s\n",
      "[CV 1/5] END ..C=10, gamma=0.001, kernel=linear;, score=0.964 total time=   0.0s\n",
      "[CV 2/5] END ..C=10, gamma=0.001, kernel=linear;, score=0.936 total time=   0.0s\n",
      "[CV 3/5] END ..C=10, gamma=0.001, kernel=linear;, score=0.964 total time=   0.0s\n",
      "[CV 4/5] END ..C=10, gamma=0.001, kernel=linear;, score=0.929 total time=   0.0s\n",
      "[CV 5/5] END ..C=10, gamma=0.001, kernel=linear;, score=0.943 total time=   0.0s\n",
      "[CV 1/5] END .....C=100, gamma=1, kernel=linear;, score=0.964 total time=   0.0s\n",
      "[CV 2/5] END .....C=100, gamma=1, kernel=linear;, score=0.936 total time=   0.0s\n",
      "[CV 3/5] END .....C=100, gamma=1, kernel=linear;, score=0.964 total time=   0.0s\n",
      "[CV 4/5] END .....C=100, gamma=1, kernel=linear;, score=0.929 total time=   0.0s\n",
      "[CV 5/5] END .....C=100, gamma=1, kernel=linear;, score=0.943 total time=   0.0s\n",
      "[CV 1/5] END ...C=100, gamma=0.1, kernel=linear;, score=0.964 total time=   0.0s\n",
      "[CV 2/5] END ...C=100, gamma=0.1, kernel=linear;, score=0.936 total time=   0.0s\n",
      "[CV 3/5] END ...C=100, gamma=0.1, kernel=linear;, score=0.964 total time=   0.0s\n",
      "[CV 4/5] END ...C=100, gamma=0.1, kernel=linear;, score=0.929 total time=   0.0s\n",
      "[CV 5/5] END ...C=100, gamma=0.1, kernel=linear;, score=0.943 total time=   0.0s\n",
      "[CV 1/5] END ..C=100, gamma=0.01, kernel=linear;, score=0.964 total time=   0.0s\n",
      "[CV 2/5] END ..C=100, gamma=0.01, kernel=linear;, score=0.936 total time=   0.0s\n",
      "[CV 3/5] END ..C=100, gamma=0.01, kernel=linear;, score=0.964 total time=   0.0s\n",
      "[CV 4/5] END ..C=100, gamma=0.01, kernel=linear;, score=0.929 total time=   0.0s\n",
      "[CV 5/5] END ..C=100, gamma=0.01, kernel=linear;, score=0.943 total time=   0.0s\n",
      "[CV 1/5] END .C=100, gamma=0.001, kernel=linear;, score=0.964 total time=   0.0s\n",
      "[CV 2/5] END .C=100, gamma=0.001, kernel=linear;, score=0.936 total time=   0.0s\n",
      "[CV 3/5] END .C=100, gamma=0.001, kernel=linear;, score=0.964 total time=   0.0s\n",
      "[CV 4/5] END .C=100, gamma=0.001, kernel=linear;, score=0.929 total time=   0.0s\n",
      "[CV 5/5] END .C=100, gamma=0.001, kernel=linear;, score=0.943 total time=   0.0s\n",
      "[CV 1/5] END ....C=1000, gamma=1, kernel=linear;, score=0.964 total time=   0.0s\n",
      "[CV 2/5] END ....C=1000, gamma=1, kernel=linear;, score=0.936 total time=   0.0s\n",
      "[CV 3/5] END ....C=1000, gamma=1, kernel=linear;, score=0.964 total time=   0.0s\n",
      "[CV 4/5] END ....C=1000, gamma=1, kernel=linear;, score=0.929 total time=   0.0s\n",
      "[CV 5/5] END ....C=1000, gamma=1, kernel=linear;, score=0.943 total time=   0.0s\n",
      "[CV 1/5] END ..C=1000, gamma=0.1, kernel=linear;, score=0.964 total time=   0.0s\n",
      "[CV 2/5] END ..C=1000, gamma=0.1, kernel=linear;, score=0.936 total time=   0.0s\n",
      "[CV 3/5] END ..C=1000, gamma=0.1, kernel=linear;, score=0.964 total time=   0.0s\n",
      "[CV 4/5] END ..C=1000, gamma=0.1, kernel=linear;, score=0.929 total time=   0.0s\n",
      "[CV 5/5] END ..C=1000, gamma=0.1, kernel=linear;, score=0.943 total time=   0.0s\n",
      "[CV 1/5] END .C=1000, gamma=0.01, kernel=linear;, score=0.964 total time=   0.0s\n",
      "[CV 2/5] END .C=1000, gamma=0.01, kernel=linear;, score=0.936 total time=   0.1s\n",
      "[CV 3/5] END .C=1000, gamma=0.01, kernel=linear;, score=0.964 total time=   0.0s\n",
      "[CV 4/5] END .C=1000, gamma=0.01, kernel=linear;, score=0.929 total time=   0.0s\n",
      "[CV 5/5] END .C=1000, gamma=0.01, kernel=linear;, score=0.943 total time=   0.0s\n",
      "[CV 1/5] END C=1000, gamma=0.001, kernel=linear;, score=0.964 total time=   0.0s\n",
      "[CV 2/5] END C=1000, gamma=0.001, kernel=linear;, score=0.936 total time=   0.0s\n",
      "[CV 3/5] END C=1000, gamma=0.001, kernel=linear;, score=0.964 total time=   0.0s\n",
      "[CV 4/5] END C=1000, gamma=0.001, kernel=linear;, score=0.929 total time=   0.0s\n",
      "[CV 5/5] END C=1000, gamma=0.001, kernel=linear;, score=0.943 total time=   0.0s\n"
     ]
    },
    {
     "data": {
      "text/html": [
       "<style>#sk-container-id-5 {color: black;}#sk-container-id-5 pre{padding: 0;}#sk-container-id-5 div.sk-toggleable {background-color: white;}#sk-container-id-5 label.sk-toggleable__label {cursor: pointer;display: block;width: 100%;margin-bottom: 0;padding: 0.3em;box-sizing: border-box;text-align: center;}#sk-container-id-5 label.sk-toggleable__label-arrow:before {content: \"▸\";float: left;margin-right: 0.25em;color: #696969;}#sk-container-id-5 label.sk-toggleable__label-arrow:hover:before {color: black;}#sk-container-id-5 div.sk-estimator:hover label.sk-toggleable__label-arrow:before {color: black;}#sk-container-id-5 div.sk-toggleable__content {max-height: 0;max-width: 0;overflow: hidden;text-align: left;background-color: #f0f8ff;}#sk-container-id-5 div.sk-toggleable__content pre {margin: 0.2em;color: black;border-radius: 0.25em;background-color: #f0f8ff;}#sk-container-id-5 input.sk-toggleable__control:checked~div.sk-toggleable__content {max-height: 200px;max-width: 100%;overflow: auto;}#sk-container-id-5 input.sk-toggleable__control:checked~label.sk-toggleable__label-arrow:before {content: \"▾\";}#sk-container-id-5 div.sk-estimator input.sk-toggleable__control:checked~label.sk-toggleable__label {background-color: #d4ebff;}#sk-container-id-5 div.sk-label input.sk-toggleable__control:checked~label.sk-toggleable__label {background-color: #d4ebff;}#sk-container-id-5 input.sk-hidden--visually {border: 0;clip: rect(1px 1px 1px 1px);clip: rect(1px, 1px, 1px, 1px);height: 1px;margin: -1px;overflow: hidden;padding: 0;position: absolute;width: 1px;}#sk-container-id-5 div.sk-estimator {font-family: monospace;background-color: #f0f8ff;border: 1px dotted black;border-radius: 0.25em;box-sizing: border-box;margin-bottom: 0.5em;}#sk-container-id-5 div.sk-estimator:hover {background-color: #d4ebff;}#sk-container-id-5 div.sk-parallel-item::after {content: \"\";width: 100%;border-bottom: 1px solid gray;flex-grow: 1;}#sk-container-id-5 div.sk-label:hover label.sk-toggleable__label {background-color: #d4ebff;}#sk-container-id-5 div.sk-serial::before {content: \"\";position: absolute;border-left: 1px solid gray;box-sizing: border-box;top: 0;bottom: 0;left: 50%;z-index: 0;}#sk-container-id-5 div.sk-serial {display: flex;flex-direction: column;align-items: center;background-color: white;padding-right: 0.2em;padding-left: 0.2em;position: relative;}#sk-container-id-5 div.sk-item {position: relative;z-index: 1;}#sk-container-id-5 div.sk-parallel {display: flex;align-items: stretch;justify-content: center;background-color: white;position: relative;}#sk-container-id-5 div.sk-item::before, #sk-container-id-5 div.sk-parallel-item::before {content: \"\";position: absolute;border-left: 1px solid gray;box-sizing: border-box;top: 0;bottom: 0;left: 50%;z-index: -1;}#sk-container-id-5 div.sk-parallel-item {display: flex;flex-direction: column;z-index: 1;position: relative;background-color: white;}#sk-container-id-5 div.sk-parallel-item:first-child::after {align-self: flex-end;width: 50%;}#sk-container-id-5 div.sk-parallel-item:last-child::after {align-self: flex-start;width: 50%;}#sk-container-id-5 div.sk-parallel-item:only-child::after {width: 0;}#sk-container-id-5 div.sk-dashed-wrapped {border: 1px dashed gray;margin: 0 0.4em 0.5em 0.4em;box-sizing: border-box;padding-bottom: 0.4em;background-color: white;}#sk-container-id-5 div.sk-label label {font-family: monospace;font-weight: bold;display: inline-block;line-height: 1.2em;}#sk-container-id-5 div.sk-label-container {text-align: center;}#sk-container-id-5 div.sk-container {/* jupyter's `normalize.less` sets `[hidden] { display: none; }` but bootstrap.min.css set `[hidden] { display: none !important; }` so we also need the `!important` here to be able to override the default hidden behavior on the sphinx rendered scikit-learn.org. See: https://github.com/scikit-learn/scikit-learn/issues/21755 */display: inline-block !important;position: relative;}#sk-container-id-5 div.sk-text-repr-fallback {display: none;}</style><div id=\"sk-container-id-5\" class=\"sk-top-container\"><div class=\"sk-text-repr-fallback\"><pre>GridSearchCV(cv=5, estimator=SVC(),\n",
       "             param_grid={&#x27;C&#x27;: [0.1, 1, 10, 100, 1000],\n",
       "                         &#x27;gamma&#x27;: [1, 0.1, 0.01, 0.001], &#x27;kernel&#x27;: [&#x27;linear&#x27;]},\n",
       "             verbose=3)</pre><b>In a Jupyter environment, please rerun this cell to show the HTML representation or trust the notebook. <br />On GitHub, the HTML representation is unable to render, please try loading this page with nbviewer.org.</b></div><div class=\"sk-container\" hidden><div class=\"sk-item sk-dashed-wrapped\"><div class=\"sk-label-container\"><div class=\"sk-label sk-toggleable\"><input class=\"sk-toggleable__control sk-hidden--visually\" id=\"sk-estimator-id-7\" type=\"checkbox\" ><label for=\"sk-estimator-id-7\" class=\"sk-toggleable__label sk-toggleable__label-arrow\">GridSearchCV</label><div class=\"sk-toggleable__content\"><pre>GridSearchCV(cv=5, estimator=SVC(),\n",
       "             param_grid={&#x27;C&#x27;: [0.1, 1, 10, 100, 1000],\n",
       "                         &#x27;gamma&#x27;: [1, 0.1, 0.01, 0.001], &#x27;kernel&#x27;: [&#x27;linear&#x27;]},\n",
       "             verbose=3)</pre></div></div></div><div class=\"sk-parallel\"><div class=\"sk-parallel-item\"><div class=\"sk-item\"><div class=\"sk-label-container\"><div class=\"sk-label sk-toggleable\"><input class=\"sk-toggleable__control sk-hidden--visually\" id=\"sk-estimator-id-8\" type=\"checkbox\" ><label for=\"sk-estimator-id-8\" class=\"sk-toggleable__label sk-toggleable__label-arrow\">estimator: SVC</label><div class=\"sk-toggleable__content\"><pre>SVC()</pre></div></div></div><div class=\"sk-serial\"><div class=\"sk-item\"><div class=\"sk-estimator sk-toggleable\"><input class=\"sk-toggleable__control sk-hidden--visually\" id=\"sk-estimator-id-9\" type=\"checkbox\" ><label for=\"sk-estimator-id-9\" class=\"sk-toggleable__label sk-toggleable__label-arrow\">SVC</label><div class=\"sk-toggleable__content\"><pre>SVC()</pre></div></div></div></div></div></div></div></div></div></div>"
      ],
      "text/plain": [
       "GridSearchCV(cv=5, estimator=SVC(),\n",
       "             param_grid={'C': [0.1, 1, 10, 100, 1000],\n",
       "                         'gamma': [1, 0.1, 0.01, 0.001], 'kernel': ['linear']},\n",
       "             verbose=3)"
      ]
     },
     "execution_count": 55,
     "metadata": {},
     "output_type": "execute_result"
    }
   ],
   "source": [
    "grid.fit(X_train,y_train)"
   ]
  },
  {
   "cell_type": "code",
   "execution_count": 56,
   "id": "17494e45",
   "metadata": {},
   "outputs": [
    {
     "data": {
      "text/plain": [
       "{'C': 10, 'gamma': 1, 'kernel': 'linear'}"
      ]
     },
     "execution_count": 56,
     "metadata": {},
     "output_type": "execute_result"
    }
   ],
   "source": [
    "grid.best_params_"
   ]
  },
  {
   "cell_type": "code",
   "execution_count": 57,
   "id": "6f1a0ce6",
   "metadata": {},
   "outputs": [],
   "source": [
    "y_pre = grid.predict(X_test)"
   ]
  },
  {
   "cell_type": "code",
   "execution_count": 59,
   "id": "87a7bc52",
   "metadata": {},
   "outputs": [
    {
     "name": "stdout",
     "output_type": "stream",
     "text": [
      "              precision    recall  f1-score   support\n",
      "\n",
      "           0       0.99      0.94      0.96       161\n",
      "           1       0.93      0.99      0.96       139\n",
      "\n",
      "    accuracy                           0.96       300\n",
      "   macro avg       0.96      0.96      0.96       300\n",
      "weighted avg       0.96      0.96      0.96       300\n",
      "\n"
     ]
    }
   ],
   "source": [
    "print(classification_report(y_test,y_pre))"
   ]
  },
  {
   "cell_type": "code",
   "execution_count": 60,
   "id": "fd4360d9",
   "metadata": {},
   "outputs": [
    {
     "data": {
      "text/plain": [
       "0.96"
      ]
     },
     "execution_count": 60,
     "metadata": {},
     "output_type": "execute_result"
    }
   ],
   "source": [
    "accuracy_score(y_test,y_pre)"
   ]
  },
  {
   "cell_type": "code",
   "execution_count": 61,
   "id": "7e8a5c0a",
   "metadata": {},
   "outputs": [
    {
     "data": {
      "text/plain": [
       "array([[151,  10],\n",
       "       [  2, 137]], dtype=int64)"
      ]
     },
     "execution_count": 61,
     "metadata": {},
     "output_type": "execute_result"
    }
   ],
   "source": [
    "confusion_matrix(y_test,y_pre)"
   ]
  },
  {
   "cell_type": "code",
   "execution_count": null,
   "id": "91cefaf2",
   "metadata": {},
   "outputs": [],
   "source": []
  },
  {
   "cell_type": "code",
   "execution_count": null,
   "id": "802de017",
   "metadata": {},
   "outputs": [],
   "source": []
  },
  {
   "cell_type": "code",
   "execution_count": 62,
   "id": "bc97b4b5",
   "metadata": {},
   "outputs": [],
   "source": [
    "## Regression"
   ]
  },
  {
   "cell_type": "code",
   "execution_count": 63,
   "id": "0cb4b7aa",
   "metadata": {},
   "outputs": [],
   "source": [
    "from sklearn.datasets import make_regression"
   ]
  },
  {
   "cell_type": "code",
   "execution_count": 66,
   "id": "43c26c5d",
   "metadata": {},
   "outputs": [
    {
     "data": {
      "text/plain": [
       "(array([[-1.15846166, -0.08553208],\n",
       "        [-0.13284059, -0.81864745],\n",
       "        [ 1.26271174, -2.76601762],\n",
       "        ...,\n",
       "        [ 0.88017282, -1.29497628],\n",
       "        [-0.25244745, -0.31627041],\n",
       "        [-0.32998354,  1.86482509]]),\n",
       " array([-5.74482095e+01, -7.45756715e+01, -1.76725250e+02,  1.09971730e+02,\n",
       "        -2.41390942e+01, -1.14671579e+02,  3.46912919e+00, -1.92112745e+02,\n",
       "        -1.07750941e+02,  1.26993780e+02,  1.79545240e+01, -1.57125886e+02,\n",
       "        -7.33653477e+01,  4.44069832e+01, -7.65416274e+01, -3.68708017e+01,\n",
       "         5.33956670e+01, -5.21077966e+01,  2.08570334e+00, -9.91954501e+00,\n",
       "         1.36573267e+02, -9.08129861e+01,  4.69483184e+01,  5.06104568e+01,\n",
       "         1.95912108e+01, -4.47018973e+01,  7.04494768e+01, -3.88278201e+01,\n",
       "        -3.72858576e+01,  7.75795167e+01,  5.67643607e+01,  9.68436008e+01,\n",
       "        -1.21833977e+02,  3.94461355e+01, -1.10609848e+01,  3.85028458e+01,\n",
       "         9.65141111e+01, -1.38078483e+02,  9.15119811e+01, -6.40357451e+01,\n",
       "        -4.49206773e+01,  5.14703467e+01,  1.95643981e+01,  9.11158515e+01,\n",
       "        -2.64058701e+01,  2.30460352e+02, -4.80780646e+01, -2.13709313e+01,\n",
       "         9.28842131e+01, -1.93737078e+01,  1.10015771e+02, -2.33000975e+02,\n",
       "        -6.45032923e+01, -1.08657395e+02, -2.58944059e+01, -5.39209608e+01,\n",
       "        -5.63459628e+01, -1.14368280e+02, -1.32093021e+02, -1.04479179e+02,\n",
       "         1.42675188e+02, -1.14908748e+02, -2.15151968e+02,  2.47821739e+01,\n",
       "         1.06757368e+02,  7.66458991e+01, -1.74466042e+02, -1.14204435e+02,\n",
       "        -8.53118193e+01, -9.13519190e+01,  8.49046722e+01,  1.37694225e+02,\n",
       "        -2.82948130e+01,  1.03285232e+01, -8.35834627e+01, -1.57255894e+01,\n",
       "        -3.67341557e+01,  3.01147553e+01, -7.87465635e+01, -7.47329024e+01,\n",
       "         1.79361972e+01, -7.83960698e+01, -3.79365016e+01,  2.30746763e+01,\n",
       "         7.97965808e+01, -1.30173782e+02,  2.06074443e+02, -5.77915238e+01,\n",
       "         1.16949580e+01,  8.13171493e+01,  2.10011832e+01,  2.31370001e+02,\n",
       "         2.55993932e+01,  2.77994883e+01,  1.78966685e+01, -3.91017970e+01,\n",
       "         1.31019074e+02,  4.46594320e+01,  2.50446258e+00,  1.22201358e+02,\n",
       "         9.77713499e+01, -7.58897640e+01,  1.18369098e+02,  1.11093402e+02,\n",
       "        -1.35969452e+02, -1.26278053e+02, -7.26390474e+01, -5.01665809e+01,\n",
       "         1.57984523e+02,  8.91481775e+01,  4.33731517e+01,  8.16533831e+01,\n",
       "         6.27352817e-01, -7.09936194e+01,  1.77973891e+02,  7.55052058e+01,\n",
       "         2.14445022e+02,  5.97003463e+01,  4.85388044e+01, -1.57672429e+02,\n",
       "         7.85298831e+01, -6.11331438e+01, -1.32145224e+02,  1.04158271e+01,\n",
       "        -8.80608005e+01,  4.29984979e+01,  6.71425504e+01,  1.32493363e+02,\n",
       "         1.14181763e+02,  6.79361274e+01,  4.29675414e+01, -4.68453408e+01,\n",
       "        -1.97383987e+01,  1.86759380e+02, -7.41362537e+01,  2.45184849e+01,\n",
       "        -6.83462961e+01, -4.62931911e+01,  4.42391349e+01,  6.40432191e+01,\n",
       "        -2.46893425e+00,  1.23038230e+02, -8.83400548e+01, -6.41300853e+01,\n",
       "        -5.07250990e+01, -4.31403796e+01,  1.91200175e+02,  1.77171582e+02,\n",
       "        -1.11626223e+02, -2.51418422e+01,  6.97133867e+00,  4.82857746e+01,\n",
       "         2.89821365e+01,  3.82509149e+01,  3.49509082e+01, -1.45141085e+01,\n",
       "        -5.90434362e+01,  6.45399559e+01, -7.34980962e+00,  1.20375185e+02,\n",
       "         4.27598398e+00,  3.73489031e+01,  1.11288645e+02,  1.63518321e+02,\n",
       "        -1.32675617e+02, -1.13254212e+02,  1.96420796e+02,  2.93975716e+01,\n",
       "        -1.07674442e+02, -1.24082673e+02, -9.93647646e+01, -2.14538574e+02,\n",
       "         5.87785183e+01,  8.74194764e+01, -1.94935422e-01,  2.74077428e+01,\n",
       "         7.83095912e+01,  5.06426540e+01,  5.73421189e+01, -6.41250342e+01,\n",
       "        -9.07087670e+01,  2.53663911e+01, -5.23232962e+01, -8.14163003e+01,\n",
       "        -1.14705992e+02, -1.16660879e+02,  4.31425476e+00, -1.58786851e+01,\n",
       "         3.72709475e+01, -1.57818517e+01,  1.85849981e+02, -3.28340847e+01,\n",
       "        -9.45526073e+01,  5.35197415e+01,  3.49110052e+01, -9.06262097e+01,\n",
       "         1.95784903e+02,  1.67770975e+01, -2.15058881e+02, -5.89146215e+01,\n",
       "        -4.92204895e+01, -1.06873601e+02,  7.99140880e+01, -1.03139378e+02,\n",
       "        -1.60014904e+01, -1.75988956e+02, -2.20175945e+02, -1.03427624e+01,\n",
       "         4.39376386e+01,  9.00309830e+01,  9.13112615e+01,  8.30287095e+01,\n",
       "         7.82253554e+01,  5.01556764e+01,  4.39191791e+01,  4.48423099e+01,\n",
       "        -1.61066847e+01,  2.57253398e+01,  6.11553434e+01,  2.93696726e+01,\n",
       "        -8.17617634e+01,  1.71806445e+02,  5.67998540e+00,  1.77680045e+02,\n",
       "        -1.77588341e+02, -1.59380167e+01, -1.08670501e+01, -1.27795390e+01,\n",
       "        -1.92669475e+02,  5.94936498e+01,  9.06334024e+00,  1.31747225e+01,\n",
       "         2.31023187e+01, -3.49230652e+01, -4.52758312e+01, -5.28981240e+01,\n",
       "        -1.99914923e+02, -2.60349578e+01, -1.33892401e+02,  1.76849725e+02,\n",
       "         1.03650414e+02, -1.87417081e+01,  8.84261291e+01,  6.34875354e+01,\n",
       "        -1.35012350e+02, -1.77824808e+01, -8.37757460e+00, -6.06651302e+01,\n",
       "        -8.13116434e+01, -8.87518628e+01,  4.57574012e+01, -6.64747626e+01,\n",
       "         2.07380763e+02,  9.46237138e+01, -1.04821553e+02, -2.07595223e+01,\n",
       "        -1.60035501e+01,  1.57129550e+02, -1.20110738e+02,  4.44608358e+01,\n",
       "        -1.55386093e+02,  5.95103431e+01, -7.98332975e+01,  1.28788766e+02,\n",
       "        -2.81675680e+01, -1.11550189e+01, -1.50387439e+02, -9.10773873e+01,\n",
       "        -3.26141704e+00, -2.04229249e+01,  3.47672362e+01, -4.71211288e+01,\n",
       "        -1.34228178e+02,  9.61973682e+01,  8.23662172e+01, -2.14595898e+01,\n",
       "         4.51724940e+01, -9.93838309e+01,  1.19589045e+02,  9.71305592e+01,\n",
       "         1.27457126e+02, -4.04025917e+01,  5.37218156e+01, -6.87619048e+01,\n",
       "         1.12853800e+02, -1.18678987e+02,  5.37532939e+01,  7.99380544e+01,\n",
       "         4.47122196e+01,  6.24578883e+01,  3.78377158e+01, -5.62730704e+01,\n",
       "        -1.48961656e+01, -8.57016595e+01, -1.01168060e+02, -8.64368511e+01,\n",
       "        -1.57681050e+02, -1.83205460e+01,  4.22979555e+01, -7.19210576e+00,\n",
       "        -2.29067036e+02, -1.82947016e+02, -1.40458348e+02, -4.57463498e+01,\n",
       "         1.41942125e+02, -1.74676137e+02, -4.92918574e+01, -8.05030997e+01,\n",
       "        -9.35711746e+01, -8.80816360e+01,  1.11818041e+02,  4.84293246e+00,\n",
       "         2.95070612e+01,  9.10418997e+00,  1.46605668e+02,  4.73913029e+01,\n",
       "         1.66900393e+01, -4.85040403e+01, -1.25716954e+01, -9.30851294e+01,\n",
       "         2.49227476e+01, -8.88537670e+01,  1.20797322e+02,  1.96409800e+01,\n",
       "         2.03354509e+00, -9.29142811e+01, -1.73442368e+02,  1.15036364e+02,\n",
       "        -9.42409752e+01,  1.78080074e+01, -1.11784712e+01,  5.05281597e+01,\n",
       "        -6.47082181e+01,  3.33178484e+01, -1.93943281e+01,  2.69861158e+02,\n",
       "         1.30159391e+01,  1.08208215e+02, -2.33307783e+02,  1.16545624e+02,\n",
       "         3.53768061e+01,  9.65510100e+01, -8.81155228e+01,  1.34601674e+02,\n",
       "         1.28834916e+02,  3.94485773e+01, -1.15512726e+01, -6.76430664e+01,\n",
       "        -1.78012137e+02,  6.87311882e+01,  9.41679455e+01, -7.90614277e+01,\n",
       "         7.67923186e+01, -5.25537869e+01, -9.83734767e+01, -9.66878111e+01,\n",
       "         1.57508583e+01,  5.48544534e+00, -9.65100213e+00,  8.59479447e+01,\n",
       "        -5.53612509e+01, -2.82309525e+01, -2.61985252e+01,  3.36861991e+01,\n",
       "         9.54728874e+01,  6.86142931e+01, -2.20065888e+01,  9.42551470e+01,\n",
       "        -2.75655142e+01,  2.69503817e+02, -1.30766195e+00,  9.18078244e+00,\n",
       "         8.57850696e+01,  8.68675857e+01, -1.63471087e+01,  4.19842910e+01,\n",
       "        -7.34946662e-01, -4.54794073e+01,  6.24736364e+01,  9.69430753e+01,\n",
       "         1.93105181e+01, -2.67620619e+01,  6.69604507e+01,  1.15321091e+01,\n",
       "        -3.35816435e+01,  3.96948059e+01,  8.27153359e+00,  3.95629062e+01,\n",
       "         1.03765723e+02,  1.49821677e+01,  6.66173555e+01, -8.88069017e+01,\n",
       "        -5.74541285e+01,  4.89901570e+01,  2.20714189e+01,  6.38155950e+01,\n",
       "        -8.51820505e+01,  8.61679693e+00,  8.45179987e+01,  6.89307695e+01,\n",
       "         9.52686081e+01,  1.23686438e+02,  1.00276784e+02, -8.47847385e+01,\n",
       "        -4.40244886e+01, -1.16131281e+02, -1.62761808e+02,  5.80366109e+01,\n",
       "        -2.14385903e+02,  2.61593518e+01, -1.50863088e+01, -1.08144172e+01,\n",
       "         7.88682158e+01, -1.46074788e+02, -1.39934851e+01, -3.54285992e+00,\n",
       "         5.57492911e+00,  1.98380403e+02,  1.00221058e+02, -4.54950528e+01,\n",
       "        -1.94277715e+01,  1.88784715e+01, -3.54857325e+00,  1.54654849e+02,\n",
       "         8.42385510e+01, -6.54289946e+01,  9.79922161e+01, -1.61307336e+02,\n",
       "         2.34987506e+01, -3.66548402e+01,  1.19587092e+01, -1.60716558e+02,\n",
       "         8.14639729e+01,  4.41825937e+01, -7.50906506e+01, -7.44889069e+01,\n",
       "         9.99861887e+01,  6.56601666e+01,  1.79016830e+02, -7.80495592e+01,\n",
       "        -6.84577519e+01, -1.41925082e+02, -4.01115418e+01,  1.30098062e+02,\n",
       "         7.45034144e+00, -6.11125855e+01, -6.25014818e+01,  7.39505925e+01,\n",
       "         7.38327448e+01, -3.88348552e+00, -4.13543930e+01,  1.59453246e+01,\n",
       "         3.25045256e+01,  5.84087793e+01, -5.33119075e+01, -3.76328739e+01,\n",
       "        -5.26481065e+01, -6.69429460e+01, -1.07858832e+02, -6.17850833e+01,\n",
       "         2.45944429e+01, -9.38334327e+01,  6.58271161e+01, -1.26343371e+02,\n",
       "         5.43474270e+01,  4.03887501e+01, -9.13187164e+01,  5.66650179e+01,\n",
       "         9.43867971e+01, -1.29835433e+02, -1.86126544e+01, -6.76845425e+01,\n",
       "        -1.86083372e+02,  2.12624372e+02, -3.68173921e+01,  4.57468985e+01,\n",
       "         1.37674448e+02, -1.61199908e+01,  1.07063529e+02,  8.90959872e+01,\n",
       "         5.17587873e+01, -1.10545330e+01, -7.50396439e+01, -4.26192846e+01,\n",
       "        -7.15049329e+00, -7.09256133e+01,  1.91251585e+01, -1.47082896e+01,\n",
       "        -1.69430768e+02, -7.21055089e+01, -4.59824938e+01, -6.10150281e+01,\n",
       "         3.95349342e+01, -1.43625356e+02, -4.85119324e+01,  1.70642000e+02,\n",
       "        -1.32194947e+02,  3.44605282e+01,  1.11292483e+02, -1.62341846e+01,\n",
       "        -3.41741507e+01, -1.29667395e+02,  1.24474135e+02,  1.77993128e+00,\n",
       "        -6.32378585e+01, -2.30522654e+01,  1.00423241e+02, -5.00284349e+01,\n",
       "        -1.03782445e+02,  9.20364643e+01, -1.03360385e+02,  2.02511654e+00,\n",
       "         2.75606403e+02, -1.23918050e+02,  1.43831103e+02,  1.42768088e+02,\n",
       "        -2.38145834e+00,  3.72033136e+01, -7.58717767e+01, -9.95736289e+01,\n",
       "        -1.93403636e+01, -9.20677232e+01,  1.03837873e+02,  1.99355285e+02,\n",
       "         1.33210235e+01, -1.72179526e+02,  1.23623617e+02, -1.19052054e+02,\n",
       "        -6.75124788e+01,  6.12394292e+01, -6.81282280e+01,  3.47561720e+01,\n",
       "        -7.40795634e+01, -1.11161609e+01, -3.89786227e+01,  3.98325839e+01,\n",
       "        -1.62797506e+02, -7.24386041e+01, -1.45334404e+02, -7.28063416e+00,\n",
       "        -1.20280753e+02, -2.22123155e+01, -3.88812933e+01, -9.49895896e+01,\n",
       "        -1.32191167e+02,  8.61003790e+01,  4.39515961e+01, -4.87112393e+00,\n",
       "         1.21451340e+02, -1.98233403e+02,  4.90397851e+01,  1.22879273e+02,\n",
       "        -2.98424901e+01, -2.76726193e+01,  4.66090734e+01,  6.24747504e+01,\n",
       "        -3.48406656e+01, -1.88345728e+02,  1.33251821e+02,  4.39482603e+01,\n",
       "        -5.95219432e+00, -1.97848241e+02, -2.30578807e+02, -1.34550507e+02,\n",
       "        -1.57942302e+02, -3.75311804e+01, -9.18108735e+01, -1.17833137e+02,\n",
       "        -7.81153384e-01,  1.93308533e+02,  2.78251807e+01, -1.67876891e+01,\n",
       "         4.02753625e+01,  6.53494563e+01,  1.22016166e+02, -1.17463231e+02,\n",
       "        -1.02664533e+02, -9.42182958e+01, -2.00047526e+01,  3.29920023e+01,\n",
       "        -1.05355626e+02,  3.58520082e-01, -1.35461640e+02,  3.78746679e-02,\n",
       "         3.93851875e+01,  1.05252754e+02,  1.26645336e+02, -1.56046238e+01,\n",
       "        -7.13709490e+01, -3.70310263e+01,  6.90048826e+01, -1.32671537e+01,\n",
       "        -7.81717327e+01,  1.61950490e+02, -1.92697815e+02, -6.18327690e+01,\n",
       "        -1.62902689e+01, -6.95903741e+01,  6.23171546e+00,  1.58558841e+02,\n",
       "        -1.61033616e+02, -1.42243648e+02, -3.39523557e+01, -1.56892650e+01,\n",
       "        -1.89548006e+02, -9.42043904e+01,  4.97390908e+01,  2.47777490e+01,\n",
       "         1.82199446e+02,  4.70037235e+01, -2.04530235e+01,  1.23079153e+02,\n",
       "         3.25682258e+00,  7.81305654e+01, -8.28436628e+01,  1.35492796e+01,\n",
       "        -2.91132256e+01,  5.37551855e+00,  5.53909738e+01, -9.54161119e+01,\n",
       "        -5.76563752e+00,  5.59874589e+01,  1.17798346e+02,  4.49074153e+01,\n",
       "         6.86126628e+00,  1.59501492e+02, -9.28123492e+01,  3.15175532e+01,\n",
       "        -7.56782149e+01,  4.93667966e+01,  3.18895466e+01, -1.63748093e+02,\n",
       "         4.40925799e+01,  4.23277931e+01, -6.04513039e+01, -2.06875375e+01,\n",
       "        -3.82973709e+01, -1.57094731e+02, -8.25856089e+01, -3.16796652e+01,\n",
       "         1.32594657e+02,  6.81457028e+01,  9.27273579e+00, -1.92976453e+01,\n",
       "         9.47097888e+01,  1.19785108e+02, -1.48518786e+02,  9.96662080e+01,\n",
       "        -1.49510824e+00, -4.89832164e+01, -8.83284405e+01,  7.69348258e+00,\n",
       "         3.23257655e+02, -1.32537852e+02,  2.73357733e+01,  1.16293361e+02,\n",
       "        -9.25593760e+01,  1.58493914e+02, -3.84990127e+01, -3.91220567e+01,\n",
       "        -7.90692485e+01,  5.24913937e+01, -2.14540384e+02,  8.99357698e+01,\n",
       "        -1.98363902e+02,  1.31295559e+01, -6.87861813e+00, -2.57751491e+01,\n",
       "        -2.58804084e+01, -7.81622134e+01, -7.49134730e+01,  2.00852159e+02,\n",
       "         2.35446857e+02, -9.34673868e+01,  3.12106002e+01, -3.34034659e+00,\n",
       "        -2.27483148e+00, -6.58778372e+01, -4.76606091e+01, -3.54658529e+01,\n",
       "         7.96866987e+01,  2.90704444e+01, -3.40093244e+01,  2.64212706e+01,\n",
       "         1.43554174e+01,  1.78298991e+02, -6.27519258e+01,  1.96739140e+02,\n",
       "         5.75690272e+01,  3.73495564e+01, -1.47858250e+02, -3.29601070e+01,\n",
       "         1.83529551e+01,  9.86368670e+01,  2.03691715e+01, -5.29080191e+01,\n",
       "         5.21475790e+01, -1.37378754e-01, -1.85694028e+02, -1.18021727e+02,\n",
       "         2.33361256e+01,  2.30291027e+02, -1.37411510e+01, -1.90853096e+01,\n",
       "         2.04687582e+02,  6.20899550e+01,  4.24524772e+01, -1.75054809e+02,\n",
       "         4.39097759e+01,  8.23586407e+01, -3.81404158e+01,  1.04628438e+01,\n",
       "         1.52714615e+01,  4.40278926e+01, -1.00335093e+02,  9.87159198e+01,\n",
       "        -8.26230953e+01, -2.09350559e+02,  6.21473158e+01, -2.08982891e+00,\n",
       "         5.78887742e+01, -7.22227570e+01,  9.91191383e+01, -1.48180678e+01,\n",
       "         1.00804092e+02, -4.03805480e+01, -7.85899173e+01, -8.24425013e+01,\n",
       "         8.72226504e+01,  1.59133699e+02,  1.67788698e+02, -1.12004479e+02,\n",
       "        -9.66919372e+01, -7.95782008e+01, -6.44683979e+01, -1.00451253e+02,\n",
       "        -2.75892406e+01,  1.22526219e+01,  1.18075793e+01, -9.13794096e+01,\n",
       "        -1.80237131e+01, -7.65824331e+01, -1.23228449e+02, -2.13304652e+01,\n",
       "        -4.84188515e+01, -2.63394039e+01,  2.21466934e+02, -5.34993545e+01,\n",
       "         1.06722165e+02, -1.01463727e+02, -4.78233336e+01, -6.44378091e+01,\n",
       "        -2.69658310e+01, -2.34011350e+01,  9.25796300e+01,  5.92248327e+01,\n",
       "         2.26881842e+01, -1.11615217e+02,  1.30422276e+02, -4.25680536e+01,\n",
       "         1.27847401e+02, -1.26041345e+02, -1.42071726e+01, -6.18477557e+01,\n",
       "        -1.10152922e+02, -6.63892491e+01, -4.67444798e+00,  1.21164679e+02,\n",
       "         2.57639712e+01, -6.32581339e+01, -1.58477828e+02, -2.58753926e-02,\n",
       "        -4.07543548e+01, -1.71792983e+01,  1.28346966e+01,  7.26147732e+01,\n",
       "         1.82996050e+01, -3.81151245e+01,  3.58095439e+01, -4.30299827e+01,\n",
       "         2.57298264e+02, -4.88572404e+01,  8.92452013e+01,  6.90590887e+00,\n",
       "         3.23382957e+00,  1.18390054e+02, -3.21992321e+01, -1.63227343e+02,\n",
       "        -5.61244354e+01,  1.09914358e+02,  1.02191755e+02, -1.30359604e+02,\n",
       "        -8.56705379e+01, -7.34631200e+00, -5.81133853e+01,  1.40202367e+02,\n",
       "         2.16314399e+02,  1.64473664e+02, -7.14387775e+01,  1.38007049e+02,\n",
       "        -1.74555579e+01,  7.01899582e+01,  1.93243354e+02, -8.56807826e+01,\n",
       "        -5.21043763e+01,  7.94980866e+01,  3.02648698e+01,  3.49704984e+01,\n",
       "         2.14146437e+01, -3.13595577e+01, -2.09728880e+02,  1.17685856e+01,\n",
       "         9.24533754e+01,  1.14723072e+02,  3.75807633e+01, -4.49152756e+01,\n",
       "         1.12614147e+02, -5.78234907e+01, -1.00582263e+01, -8.09415479e+01,\n",
       "         1.00120244e+02, -5.82568135e+01, -1.74291716e+00, -6.46509326e+01,\n",
       "         1.58748088e+02,  6.51580237e+01,  1.18098810e+02,  3.97296936e+01,\n",
       "         7.63491490e+01,  3.05385003e+01,  8.21305600e+01, -9.78743430e+00,\n",
       "         1.07349881e+02,  8.77529130e+01,  4.00111830e+01,  1.02882143e+02,\n",
       "        -1.19744438e+01, -2.05801414e+02, -1.92947312e+02,  1.38487613e+02,\n",
       "        -9.16871824e+01, -5.33840139e+01,  2.56354630e+01,  7.70552919e+01,\n",
       "        -1.95442543e+02,  1.29413493e+02, -1.52770698e+02, -3.96355019e+01,\n",
       "         9.59479436e+01, -1.09629748e+02,  2.11328624e+01,  4.60243114e+01,\n",
       "        -3.35535107e+01, -1.44306266e+02, -4.95068609e+01,  3.68008743e+01,\n",
       "         1.69255989e+02, -2.46119576e+01, -3.44794208e+01,  1.17462920e+02,\n",
       "        -1.36234902e+01,  3.50825669e+02, -5.95260757e+01,  1.13545427e+02,\n",
       "        -1.00201126e+02, -4.45355666e+01,  1.23165313e+02, -4.73731369e+01,\n",
       "         1.26192166e+02,  2.62986350e+00, -7.64140563e+01,  1.44121150e+02,\n",
       "         3.25656556e+01,  5.97643894e+01,  7.70020987e+01,  4.62750457e+01,\n",
       "        -5.69045847e+01,  8.22794774e+01, -2.07771999e+01,  1.09337756e+01,\n",
       "        -8.20815227e+01,  4.93435858e+01, -4.88720935e+01,  1.04961149e+02,\n",
       "        -3.38505675e+01, -4.90174259e+01,  7.17990573e+01,  3.29063245e+01,\n",
       "        -1.47153433e+02, -1.23067053e+01, -2.19283887e+01,  1.22743478e+02,\n",
       "         1.26768944e+02, -9.55376968e+01,  1.42477499e+02,  8.74779642e+01,\n",
       "        -7.14543958e+01, -4.49243280e+01, -5.68949717e+01, -9.54569039e+01,\n",
       "        -8.58104316e+01,  9.21117394e+01,  1.17349016e+02,  2.51573625e+01,\n",
       "         1.24355345e+01, -4.86405745e+01, -1.13730257e+01, -2.54125476e+00,\n",
       "         1.09411424e+01, -4.21677526e+01,  9.85161995e+01,  7.78233182e+00,\n",
       "        -3.01325299e+01, -4.81963446e+01, -1.03907619e+01, -8.28348430e+01,\n",
       "        -2.91845800e+01,  3.87088069e+01, -2.00419034e+01, -5.46514889e+01,\n",
       "         6.93048130e+01, -1.47769254e+01, -2.32444600e+01, -9.15092078e+01,\n",
       "         5.75289336e+01,  6.00815727e+01, -9.36619280e+01,  8.06776636e+01,\n",
       "        -3.30535668e+01,  1.00198940e+02,  2.49384935e+01,  2.86449628e+01,\n",
       "        -1.97792236e+01,  8.26326301e+01,  1.62382682e+02, -6.74603120e+01,\n",
       "         1.05603975e+02,  6.05670476e+01, -2.22421712e+01, -3.94863444e+01,\n",
       "        -1.10078048e+02, -6.10989228e+01,  3.58155556e+01, -1.11368543e+02,\n",
       "        -1.13564158e+00,  2.20138133e+02,  1.60167190e+02,  4.70148061e+01,\n",
       "        -8.06893340e+00,  1.64977132e+02, -1.35706837e+02, -3.47243240e+01,\n",
       "         2.77087151e+00,  6.54230014e+00,  1.33565958e+02,  4.64371356e+01,\n",
       "        -6.61350857e+01,  1.59951987e+01, -6.05509338e+01, -5.97072841e+01,\n",
       "         8.66373100e+01, -2.12374850e+01, -1.00624706e+02, -1.19263808e+02,\n",
       "         4.88138044e+00, -1.57982902e+02, -1.04842518e+02,  8.41960705e+01,\n",
       "        -8.61192830e+01,  1.79966892e+01,  1.51025498e+02,  7.02575018e+01,\n",
       "         1.82915913e+02, -1.22363599e+02, -9.07102702e+01, -1.10882382e+02,\n",
       "        -7.71488064e+01, -9.17589710e+01, -8.97978506e+01,  2.65120205e+01,\n",
       "         2.09478526e+01, -6.01007111e+01, -1.50333700e+02,  4.27773400e+01,\n",
       "        -1.82771682e+02,  1.01832209e+02,  1.24074892e+02,  1.10381569e+02,\n",
       "         1.46553324e+02,  9.46350732e+01, -9.89232044e+00, -7.05988121e+01,\n",
       "        -6.46732218e+01, -3.01455319e+01,  8.99376460e+01, -3.59340833e+01,\n",
       "         1.51330424e+02, -7.52495282e+01, -3.72920332e+01,  1.48097555e+02]))"
      ]
     },
     "execution_count": 66,
     "metadata": {},
     "output_type": "execute_result"
    }
   ],
   "source": [
    "X, y = make_regression(n_samples=1000,n_features=2,n_targets=1,noise=3.0)\n",
    "X,y"
   ]
  },
  {
   "cell_type": "code",
   "execution_count": 67,
   "id": "4f3e454b",
   "metadata": {},
   "outputs": [
    {
     "data": {
      "text/plain": [
       "array([[-1.15846166, -0.08553208],\n",
       "       [-0.13284059, -0.81864745],\n",
       "       [ 1.26271174, -2.76601762],\n",
       "       ...,\n",
       "       [ 0.88017282, -1.29497628],\n",
       "       [-0.25244745, -0.31627041],\n",
       "       [-0.32998354,  1.86482509]])"
      ]
     },
     "execution_count": 67,
     "metadata": {},
     "output_type": "execute_result"
    }
   ],
   "source": [
    "X"
   ]
  },
  {
   "cell_type": "code",
   "execution_count": 68,
   "id": "122a8874",
   "metadata": {},
   "outputs": [
    {
     "data": {
      "text/plain": [
       "array([-5.74482095e+01, -7.45756715e+01, -1.76725250e+02,  1.09971730e+02,\n",
       "       -2.41390942e+01, -1.14671579e+02,  3.46912919e+00, -1.92112745e+02,\n",
       "       -1.07750941e+02,  1.26993780e+02,  1.79545240e+01, -1.57125886e+02,\n",
       "       -7.33653477e+01,  4.44069832e+01, -7.65416274e+01, -3.68708017e+01,\n",
       "        5.33956670e+01, -5.21077966e+01,  2.08570334e+00, -9.91954501e+00,\n",
       "        1.36573267e+02, -9.08129861e+01,  4.69483184e+01,  5.06104568e+01,\n",
       "        1.95912108e+01, -4.47018973e+01,  7.04494768e+01, -3.88278201e+01,\n",
       "       -3.72858576e+01,  7.75795167e+01,  5.67643607e+01,  9.68436008e+01,\n",
       "       -1.21833977e+02,  3.94461355e+01, -1.10609848e+01,  3.85028458e+01,\n",
       "        9.65141111e+01, -1.38078483e+02,  9.15119811e+01, -6.40357451e+01,\n",
       "       -4.49206773e+01,  5.14703467e+01,  1.95643981e+01,  9.11158515e+01,\n",
       "       -2.64058701e+01,  2.30460352e+02, -4.80780646e+01, -2.13709313e+01,\n",
       "        9.28842131e+01, -1.93737078e+01,  1.10015771e+02, -2.33000975e+02,\n",
       "       -6.45032923e+01, -1.08657395e+02, -2.58944059e+01, -5.39209608e+01,\n",
       "       -5.63459628e+01, -1.14368280e+02, -1.32093021e+02, -1.04479179e+02,\n",
       "        1.42675188e+02, -1.14908748e+02, -2.15151968e+02,  2.47821739e+01,\n",
       "        1.06757368e+02,  7.66458991e+01, -1.74466042e+02, -1.14204435e+02,\n",
       "       -8.53118193e+01, -9.13519190e+01,  8.49046722e+01,  1.37694225e+02,\n",
       "       -2.82948130e+01,  1.03285232e+01, -8.35834627e+01, -1.57255894e+01,\n",
       "       -3.67341557e+01,  3.01147553e+01, -7.87465635e+01, -7.47329024e+01,\n",
       "        1.79361972e+01, -7.83960698e+01, -3.79365016e+01,  2.30746763e+01,\n",
       "        7.97965808e+01, -1.30173782e+02,  2.06074443e+02, -5.77915238e+01,\n",
       "        1.16949580e+01,  8.13171493e+01,  2.10011832e+01,  2.31370001e+02,\n",
       "        2.55993932e+01,  2.77994883e+01,  1.78966685e+01, -3.91017970e+01,\n",
       "        1.31019074e+02,  4.46594320e+01,  2.50446258e+00,  1.22201358e+02,\n",
       "        9.77713499e+01, -7.58897640e+01,  1.18369098e+02,  1.11093402e+02,\n",
       "       -1.35969452e+02, -1.26278053e+02, -7.26390474e+01, -5.01665809e+01,\n",
       "        1.57984523e+02,  8.91481775e+01,  4.33731517e+01,  8.16533831e+01,\n",
       "        6.27352817e-01, -7.09936194e+01,  1.77973891e+02,  7.55052058e+01,\n",
       "        2.14445022e+02,  5.97003463e+01,  4.85388044e+01, -1.57672429e+02,\n",
       "        7.85298831e+01, -6.11331438e+01, -1.32145224e+02,  1.04158271e+01,\n",
       "       -8.80608005e+01,  4.29984979e+01,  6.71425504e+01,  1.32493363e+02,\n",
       "        1.14181763e+02,  6.79361274e+01,  4.29675414e+01, -4.68453408e+01,\n",
       "       -1.97383987e+01,  1.86759380e+02, -7.41362537e+01,  2.45184849e+01,\n",
       "       -6.83462961e+01, -4.62931911e+01,  4.42391349e+01,  6.40432191e+01,\n",
       "       -2.46893425e+00,  1.23038230e+02, -8.83400548e+01, -6.41300853e+01,\n",
       "       -5.07250990e+01, -4.31403796e+01,  1.91200175e+02,  1.77171582e+02,\n",
       "       -1.11626223e+02, -2.51418422e+01,  6.97133867e+00,  4.82857746e+01,\n",
       "        2.89821365e+01,  3.82509149e+01,  3.49509082e+01, -1.45141085e+01,\n",
       "       -5.90434362e+01,  6.45399559e+01, -7.34980962e+00,  1.20375185e+02,\n",
       "        4.27598398e+00,  3.73489031e+01,  1.11288645e+02,  1.63518321e+02,\n",
       "       -1.32675617e+02, -1.13254212e+02,  1.96420796e+02,  2.93975716e+01,\n",
       "       -1.07674442e+02, -1.24082673e+02, -9.93647646e+01, -2.14538574e+02,\n",
       "        5.87785183e+01,  8.74194764e+01, -1.94935422e-01,  2.74077428e+01,\n",
       "        7.83095912e+01,  5.06426540e+01,  5.73421189e+01, -6.41250342e+01,\n",
       "       -9.07087670e+01,  2.53663911e+01, -5.23232962e+01, -8.14163003e+01,\n",
       "       -1.14705992e+02, -1.16660879e+02,  4.31425476e+00, -1.58786851e+01,\n",
       "        3.72709475e+01, -1.57818517e+01,  1.85849981e+02, -3.28340847e+01,\n",
       "       -9.45526073e+01,  5.35197415e+01,  3.49110052e+01, -9.06262097e+01,\n",
       "        1.95784903e+02,  1.67770975e+01, -2.15058881e+02, -5.89146215e+01,\n",
       "       -4.92204895e+01, -1.06873601e+02,  7.99140880e+01, -1.03139378e+02,\n",
       "       -1.60014904e+01, -1.75988956e+02, -2.20175945e+02, -1.03427624e+01,\n",
       "        4.39376386e+01,  9.00309830e+01,  9.13112615e+01,  8.30287095e+01,\n",
       "        7.82253554e+01,  5.01556764e+01,  4.39191791e+01,  4.48423099e+01,\n",
       "       -1.61066847e+01,  2.57253398e+01,  6.11553434e+01,  2.93696726e+01,\n",
       "       -8.17617634e+01,  1.71806445e+02,  5.67998540e+00,  1.77680045e+02,\n",
       "       -1.77588341e+02, -1.59380167e+01, -1.08670501e+01, -1.27795390e+01,\n",
       "       -1.92669475e+02,  5.94936498e+01,  9.06334024e+00,  1.31747225e+01,\n",
       "        2.31023187e+01, -3.49230652e+01, -4.52758312e+01, -5.28981240e+01,\n",
       "       -1.99914923e+02, -2.60349578e+01, -1.33892401e+02,  1.76849725e+02,\n",
       "        1.03650414e+02, -1.87417081e+01,  8.84261291e+01,  6.34875354e+01,\n",
       "       -1.35012350e+02, -1.77824808e+01, -8.37757460e+00, -6.06651302e+01,\n",
       "       -8.13116434e+01, -8.87518628e+01,  4.57574012e+01, -6.64747626e+01,\n",
       "        2.07380763e+02,  9.46237138e+01, -1.04821553e+02, -2.07595223e+01,\n",
       "       -1.60035501e+01,  1.57129550e+02, -1.20110738e+02,  4.44608358e+01,\n",
       "       -1.55386093e+02,  5.95103431e+01, -7.98332975e+01,  1.28788766e+02,\n",
       "       -2.81675680e+01, -1.11550189e+01, -1.50387439e+02, -9.10773873e+01,\n",
       "       -3.26141704e+00, -2.04229249e+01,  3.47672362e+01, -4.71211288e+01,\n",
       "       -1.34228178e+02,  9.61973682e+01,  8.23662172e+01, -2.14595898e+01,\n",
       "        4.51724940e+01, -9.93838309e+01,  1.19589045e+02,  9.71305592e+01,\n",
       "        1.27457126e+02, -4.04025917e+01,  5.37218156e+01, -6.87619048e+01,\n",
       "        1.12853800e+02, -1.18678987e+02,  5.37532939e+01,  7.99380544e+01,\n",
       "        4.47122196e+01,  6.24578883e+01,  3.78377158e+01, -5.62730704e+01,\n",
       "       -1.48961656e+01, -8.57016595e+01, -1.01168060e+02, -8.64368511e+01,\n",
       "       -1.57681050e+02, -1.83205460e+01,  4.22979555e+01, -7.19210576e+00,\n",
       "       -2.29067036e+02, -1.82947016e+02, -1.40458348e+02, -4.57463498e+01,\n",
       "        1.41942125e+02, -1.74676137e+02, -4.92918574e+01, -8.05030997e+01,\n",
       "       -9.35711746e+01, -8.80816360e+01,  1.11818041e+02,  4.84293246e+00,\n",
       "        2.95070612e+01,  9.10418997e+00,  1.46605668e+02,  4.73913029e+01,\n",
       "        1.66900393e+01, -4.85040403e+01, -1.25716954e+01, -9.30851294e+01,\n",
       "        2.49227476e+01, -8.88537670e+01,  1.20797322e+02,  1.96409800e+01,\n",
       "        2.03354509e+00, -9.29142811e+01, -1.73442368e+02,  1.15036364e+02,\n",
       "       -9.42409752e+01,  1.78080074e+01, -1.11784712e+01,  5.05281597e+01,\n",
       "       -6.47082181e+01,  3.33178484e+01, -1.93943281e+01,  2.69861158e+02,\n",
       "        1.30159391e+01,  1.08208215e+02, -2.33307783e+02,  1.16545624e+02,\n",
       "        3.53768061e+01,  9.65510100e+01, -8.81155228e+01,  1.34601674e+02,\n",
       "        1.28834916e+02,  3.94485773e+01, -1.15512726e+01, -6.76430664e+01,\n",
       "       -1.78012137e+02,  6.87311882e+01,  9.41679455e+01, -7.90614277e+01,\n",
       "        7.67923186e+01, -5.25537869e+01, -9.83734767e+01, -9.66878111e+01,\n",
       "        1.57508583e+01,  5.48544534e+00, -9.65100213e+00,  8.59479447e+01,\n",
       "       -5.53612509e+01, -2.82309525e+01, -2.61985252e+01,  3.36861991e+01,\n",
       "        9.54728874e+01,  6.86142931e+01, -2.20065888e+01,  9.42551470e+01,\n",
       "       -2.75655142e+01,  2.69503817e+02, -1.30766195e+00,  9.18078244e+00,\n",
       "        8.57850696e+01,  8.68675857e+01, -1.63471087e+01,  4.19842910e+01,\n",
       "       -7.34946662e-01, -4.54794073e+01,  6.24736364e+01,  9.69430753e+01,\n",
       "        1.93105181e+01, -2.67620619e+01,  6.69604507e+01,  1.15321091e+01,\n",
       "       -3.35816435e+01,  3.96948059e+01,  8.27153359e+00,  3.95629062e+01,\n",
       "        1.03765723e+02,  1.49821677e+01,  6.66173555e+01, -8.88069017e+01,\n",
       "       -5.74541285e+01,  4.89901570e+01,  2.20714189e+01,  6.38155950e+01,\n",
       "       -8.51820505e+01,  8.61679693e+00,  8.45179987e+01,  6.89307695e+01,\n",
       "        9.52686081e+01,  1.23686438e+02,  1.00276784e+02, -8.47847385e+01,\n",
       "       -4.40244886e+01, -1.16131281e+02, -1.62761808e+02,  5.80366109e+01,\n",
       "       -2.14385903e+02,  2.61593518e+01, -1.50863088e+01, -1.08144172e+01,\n",
       "        7.88682158e+01, -1.46074788e+02, -1.39934851e+01, -3.54285992e+00,\n",
       "        5.57492911e+00,  1.98380403e+02,  1.00221058e+02, -4.54950528e+01,\n",
       "       -1.94277715e+01,  1.88784715e+01, -3.54857325e+00,  1.54654849e+02,\n",
       "        8.42385510e+01, -6.54289946e+01,  9.79922161e+01, -1.61307336e+02,\n",
       "        2.34987506e+01, -3.66548402e+01,  1.19587092e+01, -1.60716558e+02,\n",
       "        8.14639729e+01,  4.41825937e+01, -7.50906506e+01, -7.44889069e+01,\n",
       "        9.99861887e+01,  6.56601666e+01,  1.79016830e+02, -7.80495592e+01,\n",
       "       -6.84577519e+01, -1.41925082e+02, -4.01115418e+01,  1.30098062e+02,\n",
       "        7.45034144e+00, -6.11125855e+01, -6.25014818e+01,  7.39505925e+01,\n",
       "        7.38327448e+01, -3.88348552e+00, -4.13543930e+01,  1.59453246e+01,\n",
       "        3.25045256e+01,  5.84087793e+01, -5.33119075e+01, -3.76328739e+01,\n",
       "       -5.26481065e+01, -6.69429460e+01, -1.07858832e+02, -6.17850833e+01,\n",
       "        2.45944429e+01, -9.38334327e+01,  6.58271161e+01, -1.26343371e+02,\n",
       "        5.43474270e+01,  4.03887501e+01, -9.13187164e+01,  5.66650179e+01,\n",
       "        9.43867971e+01, -1.29835433e+02, -1.86126544e+01, -6.76845425e+01,\n",
       "       -1.86083372e+02,  2.12624372e+02, -3.68173921e+01,  4.57468985e+01,\n",
       "        1.37674448e+02, -1.61199908e+01,  1.07063529e+02,  8.90959872e+01,\n",
       "        5.17587873e+01, -1.10545330e+01, -7.50396439e+01, -4.26192846e+01,\n",
       "       -7.15049329e+00, -7.09256133e+01,  1.91251585e+01, -1.47082896e+01,\n",
       "       -1.69430768e+02, -7.21055089e+01, -4.59824938e+01, -6.10150281e+01,\n",
       "        3.95349342e+01, -1.43625356e+02, -4.85119324e+01,  1.70642000e+02,\n",
       "       -1.32194947e+02,  3.44605282e+01,  1.11292483e+02, -1.62341846e+01,\n",
       "       -3.41741507e+01, -1.29667395e+02,  1.24474135e+02,  1.77993128e+00,\n",
       "       -6.32378585e+01, -2.30522654e+01,  1.00423241e+02, -5.00284349e+01,\n",
       "       -1.03782445e+02,  9.20364643e+01, -1.03360385e+02,  2.02511654e+00,\n",
       "        2.75606403e+02, -1.23918050e+02,  1.43831103e+02,  1.42768088e+02,\n",
       "       -2.38145834e+00,  3.72033136e+01, -7.58717767e+01, -9.95736289e+01,\n",
       "       -1.93403636e+01, -9.20677232e+01,  1.03837873e+02,  1.99355285e+02,\n",
       "        1.33210235e+01, -1.72179526e+02,  1.23623617e+02, -1.19052054e+02,\n",
       "       -6.75124788e+01,  6.12394292e+01, -6.81282280e+01,  3.47561720e+01,\n",
       "       -7.40795634e+01, -1.11161609e+01, -3.89786227e+01,  3.98325839e+01,\n",
       "       -1.62797506e+02, -7.24386041e+01, -1.45334404e+02, -7.28063416e+00,\n",
       "       -1.20280753e+02, -2.22123155e+01, -3.88812933e+01, -9.49895896e+01,\n",
       "       -1.32191167e+02,  8.61003790e+01,  4.39515961e+01, -4.87112393e+00,\n",
       "        1.21451340e+02, -1.98233403e+02,  4.90397851e+01,  1.22879273e+02,\n",
       "       -2.98424901e+01, -2.76726193e+01,  4.66090734e+01,  6.24747504e+01,\n",
       "       -3.48406656e+01, -1.88345728e+02,  1.33251821e+02,  4.39482603e+01,\n",
       "       -5.95219432e+00, -1.97848241e+02, -2.30578807e+02, -1.34550507e+02,\n",
       "       -1.57942302e+02, -3.75311804e+01, -9.18108735e+01, -1.17833137e+02,\n",
       "       -7.81153384e-01,  1.93308533e+02,  2.78251807e+01, -1.67876891e+01,\n",
       "        4.02753625e+01,  6.53494563e+01,  1.22016166e+02, -1.17463231e+02,\n",
       "       -1.02664533e+02, -9.42182958e+01, -2.00047526e+01,  3.29920023e+01,\n",
       "       -1.05355626e+02,  3.58520082e-01, -1.35461640e+02,  3.78746679e-02,\n",
       "        3.93851875e+01,  1.05252754e+02,  1.26645336e+02, -1.56046238e+01,\n",
       "       -7.13709490e+01, -3.70310263e+01,  6.90048826e+01, -1.32671537e+01,\n",
       "       -7.81717327e+01,  1.61950490e+02, -1.92697815e+02, -6.18327690e+01,\n",
       "       -1.62902689e+01, -6.95903741e+01,  6.23171546e+00,  1.58558841e+02,\n",
       "       -1.61033616e+02, -1.42243648e+02, -3.39523557e+01, -1.56892650e+01,\n",
       "       -1.89548006e+02, -9.42043904e+01,  4.97390908e+01,  2.47777490e+01,\n",
       "        1.82199446e+02,  4.70037235e+01, -2.04530235e+01,  1.23079153e+02,\n",
       "        3.25682258e+00,  7.81305654e+01, -8.28436628e+01,  1.35492796e+01,\n",
       "       -2.91132256e+01,  5.37551855e+00,  5.53909738e+01, -9.54161119e+01,\n",
       "       -5.76563752e+00,  5.59874589e+01,  1.17798346e+02,  4.49074153e+01,\n",
       "        6.86126628e+00,  1.59501492e+02, -9.28123492e+01,  3.15175532e+01,\n",
       "       -7.56782149e+01,  4.93667966e+01,  3.18895466e+01, -1.63748093e+02,\n",
       "        4.40925799e+01,  4.23277931e+01, -6.04513039e+01, -2.06875375e+01,\n",
       "       -3.82973709e+01, -1.57094731e+02, -8.25856089e+01, -3.16796652e+01,\n",
       "        1.32594657e+02,  6.81457028e+01,  9.27273579e+00, -1.92976453e+01,\n",
       "        9.47097888e+01,  1.19785108e+02, -1.48518786e+02,  9.96662080e+01,\n",
       "       -1.49510824e+00, -4.89832164e+01, -8.83284405e+01,  7.69348258e+00,\n",
       "        3.23257655e+02, -1.32537852e+02,  2.73357733e+01,  1.16293361e+02,\n",
       "       -9.25593760e+01,  1.58493914e+02, -3.84990127e+01, -3.91220567e+01,\n",
       "       -7.90692485e+01,  5.24913937e+01, -2.14540384e+02,  8.99357698e+01,\n",
       "       -1.98363902e+02,  1.31295559e+01, -6.87861813e+00, -2.57751491e+01,\n",
       "       -2.58804084e+01, -7.81622134e+01, -7.49134730e+01,  2.00852159e+02,\n",
       "        2.35446857e+02, -9.34673868e+01,  3.12106002e+01, -3.34034659e+00,\n",
       "       -2.27483148e+00, -6.58778372e+01, -4.76606091e+01, -3.54658529e+01,\n",
       "        7.96866987e+01,  2.90704444e+01, -3.40093244e+01,  2.64212706e+01,\n",
       "        1.43554174e+01,  1.78298991e+02, -6.27519258e+01,  1.96739140e+02,\n",
       "        5.75690272e+01,  3.73495564e+01, -1.47858250e+02, -3.29601070e+01,\n",
       "        1.83529551e+01,  9.86368670e+01,  2.03691715e+01, -5.29080191e+01,\n",
       "        5.21475790e+01, -1.37378754e-01, -1.85694028e+02, -1.18021727e+02,\n",
       "        2.33361256e+01,  2.30291027e+02, -1.37411510e+01, -1.90853096e+01,\n",
       "        2.04687582e+02,  6.20899550e+01,  4.24524772e+01, -1.75054809e+02,\n",
       "        4.39097759e+01,  8.23586407e+01, -3.81404158e+01,  1.04628438e+01,\n",
       "        1.52714615e+01,  4.40278926e+01, -1.00335093e+02,  9.87159198e+01,\n",
       "       -8.26230953e+01, -2.09350559e+02,  6.21473158e+01, -2.08982891e+00,\n",
       "        5.78887742e+01, -7.22227570e+01,  9.91191383e+01, -1.48180678e+01,\n",
       "        1.00804092e+02, -4.03805480e+01, -7.85899173e+01, -8.24425013e+01,\n",
       "        8.72226504e+01,  1.59133699e+02,  1.67788698e+02, -1.12004479e+02,\n",
       "       -9.66919372e+01, -7.95782008e+01, -6.44683979e+01, -1.00451253e+02,\n",
       "       -2.75892406e+01,  1.22526219e+01,  1.18075793e+01, -9.13794096e+01,\n",
       "       -1.80237131e+01, -7.65824331e+01, -1.23228449e+02, -2.13304652e+01,\n",
       "       -4.84188515e+01, -2.63394039e+01,  2.21466934e+02, -5.34993545e+01,\n",
       "        1.06722165e+02, -1.01463727e+02, -4.78233336e+01, -6.44378091e+01,\n",
       "       -2.69658310e+01, -2.34011350e+01,  9.25796300e+01,  5.92248327e+01,\n",
       "        2.26881842e+01, -1.11615217e+02,  1.30422276e+02, -4.25680536e+01,\n",
       "        1.27847401e+02, -1.26041345e+02, -1.42071726e+01, -6.18477557e+01,\n",
       "       -1.10152922e+02, -6.63892491e+01, -4.67444798e+00,  1.21164679e+02,\n",
       "        2.57639712e+01, -6.32581339e+01, -1.58477828e+02, -2.58753926e-02,\n",
       "       -4.07543548e+01, -1.71792983e+01,  1.28346966e+01,  7.26147732e+01,\n",
       "        1.82996050e+01, -3.81151245e+01,  3.58095439e+01, -4.30299827e+01,\n",
       "        2.57298264e+02, -4.88572404e+01,  8.92452013e+01,  6.90590887e+00,\n",
       "        3.23382957e+00,  1.18390054e+02, -3.21992321e+01, -1.63227343e+02,\n",
       "       -5.61244354e+01,  1.09914358e+02,  1.02191755e+02, -1.30359604e+02,\n",
       "       -8.56705379e+01, -7.34631200e+00, -5.81133853e+01,  1.40202367e+02,\n",
       "        2.16314399e+02,  1.64473664e+02, -7.14387775e+01,  1.38007049e+02,\n",
       "       -1.74555579e+01,  7.01899582e+01,  1.93243354e+02, -8.56807826e+01,\n",
       "       -5.21043763e+01,  7.94980866e+01,  3.02648698e+01,  3.49704984e+01,\n",
       "        2.14146437e+01, -3.13595577e+01, -2.09728880e+02,  1.17685856e+01,\n",
       "        9.24533754e+01,  1.14723072e+02,  3.75807633e+01, -4.49152756e+01,\n",
       "        1.12614147e+02, -5.78234907e+01, -1.00582263e+01, -8.09415479e+01,\n",
       "        1.00120244e+02, -5.82568135e+01, -1.74291716e+00, -6.46509326e+01,\n",
       "        1.58748088e+02,  6.51580237e+01,  1.18098810e+02,  3.97296936e+01,\n",
       "        7.63491490e+01,  3.05385003e+01,  8.21305600e+01, -9.78743430e+00,\n",
       "        1.07349881e+02,  8.77529130e+01,  4.00111830e+01,  1.02882143e+02,\n",
       "       -1.19744438e+01, -2.05801414e+02, -1.92947312e+02,  1.38487613e+02,\n",
       "       -9.16871824e+01, -5.33840139e+01,  2.56354630e+01,  7.70552919e+01,\n",
       "       -1.95442543e+02,  1.29413493e+02, -1.52770698e+02, -3.96355019e+01,\n",
       "        9.59479436e+01, -1.09629748e+02,  2.11328624e+01,  4.60243114e+01,\n",
       "       -3.35535107e+01, -1.44306266e+02, -4.95068609e+01,  3.68008743e+01,\n",
       "        1.69255989e+02, -2.46119576e+01, -3.44794208e+01,  1.17462920e+02,\n",
       "       -1.36234902e+01,  3.50825669e+02, -5.95260757e+01,  1.13545427e+02,\n",
       "       -1.00201126e+02, -4.45355666e+01,  1.23165313e+02, -4.73731369e+01,\n",
       "        1.26192166e+02,  2.62986350e+00, -7.64140563e+01,  1.44121150e+02,\n",
       "        3.25656556e+01,  5.97643894e+01,  7.70020987e+01,  4.62750457e+01,\n",
       "       -5.69045847e+01,  8.22794774e+01, -2.07771999e+01,  1.09337756e+01,\n",
       "       -8.20815227e+01,  4.93435858e+01, -4.88720935e+01,  1.04961149e+02,\n",
       "       -3.38505675e+01, -4.90174259e+01,  7.17990573e+01,  3.29063245e+01,\n",
       "       -1.47153433e+02, -1.23067053e+01, -2.19283887e+01,  1.22743478e+02,\n",
       "        1.26768944e+02, -9.55376968e+01,  1.42477499e+02,  8.74779642e+01,\n",
       "       -7.14543958e+01, -4.49243280e+01, -5.68949717e+01, -9.54569039e+01,\n",
       "       -8.58104316e+01,  9.21117394e+01,  1.17349016e+02,  2.51573625e+01,\n",
       "        1.24355345e+01, -4.86405745e+01, -1.13730257e+01, -2.54125476e+00,\n",
       "        1.09411424e+01, -4.21677526e+01,  9.85161995e+01,  7.78233182e+00,\n",
       "       -3.01325299e+01, -4.81963446e+01, -1.03907619e+01, -8.28348430e+01,\n",
       "       -2.91845800e+01,  3.87088069e+01, -2.00419034e+01, -5.46514889e+01,\n",
       "        6.93048130e+01, -1.47769254e+01, -2.32444600e+01, -9.15092078e+01,\n",
       "        5.75289336e+01,  6.00815727e+01, -9.36619280e+01,  8.06776636e+01,\n",
       "       -3.30535668e+01,  1.00198940e+02,  2.49384935e+01,  2.86449628e+01,\n",
       "       -1.97792236e+01,  8.26326301e+01,  1.62382682e+02, -6.74603120e+01,\n",
       "        1.05603975e+02,  6.05670476e+01, -2.22421712e+01, -3.94863444e+01,\n",
       "       -1.10078048e+02, -6.10989228e+01,  3.58155556e+01, -1.11368543e+02,\n",
       "       -1.13564158e+00,  2.20138133e+02,  1.60167190e+02,  4.70148061e+01,\n",
       "       -8.06893340e+00,  1.64977132e+02, -1.35706837e+02, -3.47243240e+01,\n",
       "        2.77087151e+00,  6.54230014e+00,  1.33565958e+02,  4.64371356e+01,\n",
       "       -6.61350857e+01,  1.59951987e+01, -6.05509338e+01, -5.97072841e+01,\n",
       "        8.66373100e+01, -2.12374850e+01, -1.00624706e+02, -1.19263808e+02,\n",
       "        4.88138044e+00, -1.57982902e+02, -1.04842518e+02,  8.41960705e+01,\n",
       "       -8.61192830e+01,  1.79966892e+01,  1.51025498e+02,  7.02575018e+01,\n",
       "        1.82915913e+02, -1.22363599e+02, -9.07102702e+01, -1.10882382e+02,\n",
       "       -7.71488064e+01, -9.17589710e+01, -8.97978506e+01,  2.65120205e+01,\n",
       "        2.09478526e+01, -6.01007111e+01, -1.50333700e+02,  4.27773400e+01,\n",
       "       -1.82771682e+02,  1.01832209e+02,  1.24074892e+02,  1.10381569e+02,\n",
       "        1.46553324e+02,  9.46350732e+01, -9.89232044e+00, -7.05988121e+01,\n",
       "       -6.46732218e+01, -3.01455319e+01,  8.99376460e+01, -3.59340833e+01,\n",
       "        1.51330424e+02, -7.52495282e+01, -3.72920332e+01,  1.48097555e+02])"
      ]
     },
     "execution_count": 68,
     "metadata": {},
     "output_type": "execute_result"
    }
   ],
   "source": [
    "y"
   ]
  },
  {
   "cell_type": "code",
   "execution_count": 69,
   "id": "039742b5",
   "metadata": {},
   "outputs": [],
   "source": [
    "df = pd.DataFrame(X,columns=[\"x1\",\"x2\"])"
   ]
  },
  {
   "cell_type": "code",
   "execution_count": 70,
   "id": "deb4bc17",
   "metadata": {},
   "outputs": [],
   "source": [
    "df[\"y\"] = y"
   ]
  },
  {
   "cell_type": "code",
   "execution_count": 71,
   "id": "ad89e390",
   "metadata": {},
   "outputs": [
    {
     "data": {
      "text/html": [
       "<div>\n",
       "<style scoped>\n",
       "    .dataframe tbody tr th:only-of-type {\n",
       "        vertical-align: middle;\n",
       "    }\n",
       "\n",
       "    .dataframe tbody tr th {\n",
       "        vertical-align: top;\n",
       "    }\n",
       "\n",
       "    .dataframe thead th {\n",
       "        text-align: right;\n",
       "    }\n",
       "</style>\n",
       "<table border=\"1\" class=\"dataframe\">\n",
       "  <thead>\n",
       "    <tr style=\"text-align: right;\">\n",
       "      <th></th>\n",
       "      <th>x1</th>\n",
       "      <th>x2</th>\n",
       "      <th>y</th>\n",
       "    </tr>\n",
       "  </thead>\n",
       "  <tbody>\n",
       "    <tr>\n",
       "      <th>0</th>\n",
       "      <td>-1.158462</td>\n",
       "      <td>-0.085532</td>\n",
       "      <td>-57.448210</td>\n",
       "    </tr>\n",
       "    <tr>\n",
       "      <th>1</th>\n",
       "      <td>-0.132841</td>\n",
       "      <td>-0.818647</td>\n",
       "      <td>-74.575671</td>\n",
       "    </tr>\n",
       "    <tr>\n",
       "      <th>2</th>\n",
       "      <td>1.262712</td>\n",
       "      <td>-2.766018</td>\n",
       "      <td>-176.725250</td>\n",
       "    </tr>\n",
       "    <tr>\n",
       "      <th>3</th>\n",
       "      <td>-0.739126</td>\n",
       "      <td>1.668264</td>\n",
       "      <td>109.971730</td>\n",
       "    </tr>\n",
       "    <tr>\n",
       "      <th>4</th>\n",
       "      <td>1.535941</td>\n",
       "      <td>-1.066647</td>\n",
       "      <td>-24.139094</td>\n",
       "    </tr>\n",
       "  </tbody>\n",
       "</table>\n",
       "</div>"
      ],
      "text/plain": [
       "         x1        x2           y\n",
       "0 -1.158462 -0.085532  -57.448210\n",
       "1 -0.132841 -0.818647  -74.575671\n",
       "2  1.262712 -2.766018 -176.725250\n",
       "3 -0.739126  1.668264  109.971730\n",
       "4  1.535941 -1.066647  -24.139094"
      ]
     },
     "execution_count": 71,
     "metadata": {},
     "output_type": "execute_result"
    }
   ],
   "source": [
    "df.head(5)"
   ]
  },
  {
   "cell_type": "code",
   "execution_count": 73,
   "id": "33a818bc",
   "metadata": {},
   "outputs": [
    {
     "data": {
      "text/plain": [
       "<AxesSubplot: xlabel='x1', ylabel='x2'>"
      ]
     },
     "execution_count": 73,
     "metadata": {},
     "output_type": "execute_result"
    },
    {
     "data": {
      "image/png": "[encoded data removed]",
      "text/plain": [
       "<Figure size 640x480 with 1 Axes>"
      ]
     },
     "metadata": {},
     "output_type": "display_data"
    }
   ],
   "source": [
    "sns.scatterplot(x=df.iloc[:,0],y=df.iloc[:,1],hue=y)"
   ]
  },
  {
   "cell_type": "code",
   "execution_count": 74,
   "id": "e99d1f4b",
   "metadata": {},
   "outputs": [
    {
     "data": {
      "text/plain": [
       "0     -1.158462\n",
       "1     -0.132841\n",
       "2      1.262712\n",
       "3     -0.739126\n",
       "4      1.535941\n",
       "         ...   \n",
       "995   -0.874717\n",
       "996   -0.174175\n",
       "997    0.880173\n",
       "998   -0.252447\n",
       "999   -0.329984\n",
       "Name: x1, Length: 1000, dtype: float64"
      ]
     },
     "execution_count": 74,
     "metadata": {},
     "output_type": "execute_result"
    }
   ],
   "source": [
    "df.iloc[:,0]"
   ]
  },
  {
   "cell_type": "code",
   "execution_count": 76,
   "id": "bfe1d30a",
   "metadata": {},
   "outputs": [
    {
     "data": {
      "text/plain": [
       "((700, 2), (300, 2), (700,), (300,))"
      ]
     },
     "execution_count": 76,
     "metadata": {},
     "output_type": "execute_result"
    }
   ],
   "source": [
    "X_train,X_test,y_train,y_test = train_test_split(df.drop(\"y\",axis=1),df[\"y\"],test_size=0.30,random_state=42)\n",
    "X_train.shape,X_test.shape,y_train.shape,y_test.shape"
   ]
  },
  {
   "cell_type": "code",
   "execution_count": 77,
   "id": "2cea67f3",
   "metadata": {},
   "outputs": [],
   "source": [
    "from sklearn.svm import SVR"
   ]
  },
  {
   "cell_type": "code",
   "execution_count": 78,
   "id": "5666fe7f",
   "metadata": {},
   "outputs": [],
   "source": [
    "svr = SVR()"
   ]
  },
  {
   "cell_type": "code",
   "execution_count": 79,
   "id": "421d6077",
   "metadata": {},
   "outputs": [
    {
     "data": {
      "text/html": [
       "<style>#sk-container-id-6 {color: black;}#sk-container-id-6 pre{padding: 0;}#sk-container-id-6 div.sk-toggleable {background-color: white;}#sk-container-id-6 label.sk-toggleable__label {cursor: pointer;display: block;width: 100%;margin-bottom: 0;padding: 0.3em;box-sizing: border-box;text-align: center;}#sk-container-id-6 label.sk-toggleable__label-arrow:before {content: \"▸\";float: left;margin-right: 0.25em;color: #696969;}#sk-container-id-6 label.sk-toggleable__label-arrow:hover:before {color: black;}#sk-container-id-6 div.sk-estimator:hover label.sk-toggleable__label-arrow:before {color: black;}#sk-container-id-6 div.sk-toggleable__content {max-height: 0;max-width: 0;overflow: hidden;text-align: left;background-color: #f0f8ff;}#sk-container-id-6 div.sk-toggleable__content pre {margin: 0.2em;color: black;border-radius: 0.25em;background-color: #f0f8ff;}#sk-container-id-6 input.sk-toggleable__control:checked~div.sk-toggleable__content {max-height: 200px;max-width: 100%;overflow: auto;}#sk-container-id-6 input.sk-toggleable__control:checked~label.sk-toggleable__label-arrow:before {content: \"▾\";}#sk-container-id-6 div.sk-estimator input.sk-toggleable__control:checked~label.sk-toggleable__label {background-color: #d4ebff;}#sk-container-id-6 div.sk-label input.sk-toggleable__control:checked~label.sk-toggleable__label {background-color: #d4ebff;}#sk-container-id-6 input.sk-hidden--visually {border: 0;clip: rect(1px 1px 1px 1px);clip: rect(1px, 1px, 1px, 1px);height: 1px;margin: -1px;overflow: hidden;padding: 0;position: absolute;width: 1px;}#sk-container-id-6 div.sk-estimator {font-family: monospace;background-color: #f0f8ff;border: 1px dotted black;border-radius: 0.25em;box-sizing: border-box;margin-bottom: 0.5em;}#sk-container-id-6 div.sk-estimator:hover {background-color: #d4ebff;}#sk-container-id-6 div.sk-parallel-item::after {content: \"\";width: 100%;border-bottom: 1px solid gray;flex-grow: 1;}#sk-container-id-6 div.sk-label:hover label.sk-toggleable__label {background-color: #d4ebff;}#sk-container-id-6 div.sk-serial::before {content: \"\";position: absolute;border-left: 1px solid gray;box-sizing: border-box;top: 0;bottom: 0;left: 50%;z-index: 0;}#sk-container-id-6 div.sk-serial {display: flex;flex-direction: column;align-items: center;background-color: white;padding-right: 0.2em;padding-left: 0.2em;position: relative;}#sk-container-id-6 div.sk-item {position: relative;z-index: 1;}#sk-container-id-6 div.sk-parallel {display: flex;align-items: stretch;justify-content: center;background-color: white;position: relative;}#sk-container-id-6 div.sk-item::before, #sk-container-id-6 div.sk-parallel-item::before {content: \"\";position: absolute;border-left: 1px solid gray;box-sizing: border-box;top: 0;bottom: 0;left: 50%;z-index: -1;}#sk-container-id-6 div.sk-parallel-item {display: flex;flex-direction: column;z-index: 1;position: relative;background-color: white;}#sk-container-id-6 div.sk-parallel-item:first-child::after {align-self: flex-end;width: 50%;}#sk-container-id-6 div.sk-parallel-item:last-child::after {align-self: flex-start;width: 50%;}#sk-container-id-6 div.sk-parallel-item:only-child::after {width: 0;}#sk-container-id-6 div.sk-dashed-wrapped {border: 1px dashed gray;margin: 0 0.4em 0.5em 0.4em;box-sizing: border-box;padding-bottom: 0.4em;background-color: white;}#sk-container-id-6 div.sk-label label {font-family: monospace;font-weight: bold;display: inline-block;line-height: 1.2em;}#sk-container-id-6 div.sk-label-container {text-align: center;}#sk-container-id-6 div.sk-container {/* jupyter's `normalize.less` sets `[hidden] { display: none; }` but bootstrap.min.css set `[hidden] { display: none !important; }` so we also need the `!important` here to be able to override the default hidden behavior on the sphinx rendered scikit-learn.org. See: https://github.com/scikit-learn/scikit-learn/issues/21755 */display: inline-block !important;position: relative;}#sk-container-id-6 div.sk-text-repr-fallback {display: none;}</style><div id=\"sk-container-id-6\" class=\"sk-top-container\"><div class=\"sk-text-repr-fallback\"><pre>SVR()</pre><b>In a Jupyter environment, please rerun this cell to show the HTML representation or trust the notebook. <br />On GitHub, the HTML representation is unable to render, please try loading this page with nbviewer.org.</b></div><div class=\"sk-container\" hidden><div class=\"sk-item\"><div class=\"sk-estimator sk-toggleable\"><input class=\"sk-toggleable__control sk-hidden--visually\" id=\"sk-estimator-id-10\" type=\"checkbox\" checked><label for=\"sk-estimator-id-10\" class=\"sk-toggleable__label sk-toggleable__label-arrow\">SVR</label><div class=\"sk-toggleable__content\"><pre>SVR()</pre></div></div></div></div></div>"
      ],
      "text/plain": [
       "SVR()"
      ]
     },
     "execution_count": 79,
     "metadata": {},
     "output_type": "execute_result"
    }
   ],
   "source": [
    "svr.fit(X_train,y_train)"
   ]
  },
  {
   "cell_type": "code",
   "execution_count": 80,
   "id": "9a9e75b7",
   "metadata": {},
   "outputs": [],
   "source": [
    "y_pre = svr.predict(X_test)"
   ]
  },
  {
   "cell_type": "code",
   "execution_count": 81,
   "id": "e328a5ab",
   "metadata": {},
   "outputs": [
    {
     "data": {
      "text/plain": [
       "array([-7.33006833e+01,  1.30582860e+01, -1.71078415e+01, -7.24928073e+01,\n",
       "       -1.79573507e+01, -4.80623956e+01, -4.02240232e+01, -9.03347513e+01,\n",
       "        8.25259205e+01, -4.36303271e+01,  1.27539509e+01, -3.88197478e+01,\n",
       "       -3.96271502e+01, -7.58421868e+01, -2.77392176e+01, -7.82652168e+01,\n",
       "        7.29763264e+01,  8.98402522e+01, -8.73760726e+01, -7.83479245e+01,\n",
       "       -4.16330304e+01,  1.76240309e-02,  1.18821614e+01, -6.54841361e+01,\n",
       "        6.54465685e+01, -3.68943138e+01, -6.40391505e+01,  9.36391974e+01,\n",
       "        8.69324553e+01,  3.79133044e+01, -1.75355937e+01,  5.66857873e+01,\n",
       "        4.45869954e+01, -1.90983990e+01,  6.42501758e+00, -6.04025645e+01,\n",
       "        5.90793013e+01,  3.66093720e+01,  8.40234035e+01, -6.82077145e+01,\n",
       "       -8.36641716e+01,  8.41056825e+01,  3.11511020e+01, -7.05593360e+01,\n",
       "       -7.63157044e+00, -7.71890911e+01,  5.10070058e+01, -8.86163100e+01,\n",
       "       -3.85208540e+01, -6.59652283e+01,  3.29386301e+01,  5.78218425e+00,\n",
       "        5.32640782e+01, -1.61064910e+01,  4.01775880e+01,  4.39124289e+01,\n",
       "        3.88042759e+00,  9.48561393e+00,  8.77210536e+01,  2.16257438e+01,\n",
       "       -6.69207664e+01, -6.71203375e+00, -1.42577633e+01,  8.09701704e+01,\n",
       "       -7.51804096e+01,  2.22627447e+01, -4.59384950e+01,  7.19157763e+01,\n",
       "        7.86479428e+01, -6.22153540e+01, -5.78172610e+01, -8.85710708e+01,\n",
       "        4.96587969e+01, -6.93828531e+01, -1.38831643e+01,  6.28472020e+01,\n",
       "        2.25852454e+01, -6.39364039e+01, -4.23951082e+01, -6.68221358e+01,\n",
       "       -4.01409055e+01, -8.22870655e+01, -2.06174945e+01, -8.71755902e+01,\n",
       "       -8.73108298e+00,  8.41204991e+01, -4.17619980e+01, -1.50038514e+01,\n",
       "       -1.97936813e+01,  9.27978291e+01,  6.28203002e+01,  1.54237950e+01,\n",
       "        7.63799898e+01,  6.53505714e+01, -8.45197796e+01,  8.28736933e+01,\n",
       "       -8.85720092e+01,  1.74693759e+01,  2.80535859e+01,  9.26272549e+01,\n",
       "       -7.08877816e+01, -7.17462502e+01,  3.75982594e+01, -2.30895971e+01,\n",
       "       -1.87964855e+01,  7.85489068e+01,  4.56458970e+01, -5.89594216e+01,\n",
       "       -8.64954138e+01,  4.34282798e+01, -3.36584920e+01, -5.61471875e+01,\n",
       "        8.32951846e+01,  9.24975645e+01,  4.12177638e+01,  7.52830169e+01,\n",
       "       -7.76290183e+01, -5.18763484e+01, -4.06258808e+01, -8.10322697e+01,\n",
       "        9.11718806e+01, -6.17965326e+01,  4.75950025e+01, -8.07694803e+01,\n",
       "       -2.86449688e+01,  4.81467352e+01, -2.80004873e-01, -4.60485440e+01,\n",
       "       -4.74622917e+01, -1.37590012e+01,  8.56375084e+01, -8.81860613e+01,\n",
       "       -9.81996244e+00, -3.41278478e+01,  5.86464757e+01, -5.49303458e+01,\n",
       "        4.43066849e+01,  1.13557407e+01, -4.68824913e+01, -1.75847811e+01,\n",
       "       -2.41567826e+01, -8.53179751e+00, -6.90569148e+01, -4.53811084e+01,\n",
       "       -8.15912810e+01, -7.27461157e+00, -5.68801455e+01, -6.42664368e+01,\n",
       "       -1.68273607e+00, -3.70681917e+01, -1.97164260e+01, -8.36339049e+00,\n",
       "       -1.32421080e+01, -3.61342138e+01, -5.70721626e+01,  6.46728450e+01,\n",
       "       -7.54594657e+01,  5.70700728e+00,  3.85473843e+01, -4.21910228e+01,\n",
       "       -6.08626926e+01,  9.39370694e+01, -4.80094690e+01, -7.00362004e+01,\n",
       "       -4.73234580e+01, -1.84235284e+01,  3.46146070e+01,  3.27957885e+01,\n",
       "        7.25846039e+01,  9.18113688e+01, -2.53688249e+01,  6.59771907e+01,\n",
       "        4.87392088e+01,  5.73499387e+01,  1.63857078e+01,  3.80082047e+01,\n",
       "       -6.64019062e+01,  4.10714015e+01,  5.12727974e+01, -4.15825612e+01,\n",
       "       -4.60677682e+01, -7.11322175e+01, -4.96548379e+01,  8.67722760e+01,\n",
       "        9.03245731e+01, -4.02494422e+01, -9.97221076e+00,  6.57826042e+01,\n",
       "        2.85778829e+01, -6.34427509e+01, -7.78054172e+00,  2.80547573e+01,\n",
       "       -6.44323473e+01, -5.67150938e+01,  3.82923892e+01, -6.11094573e+01,\n",
       "       -6.58435804e+01,  4.61790651e+01,  4.62018397e+01, -4.67048159e+01,\n",
       "        6.42992041e+01,  2.73947936e+01, -5.51302467e+01, -7.39900079e+01,\n",
       "       -1.57288386e+01, -1.35236081e+01, -7.87345937e+01, -2.23785608e+01,\n",
       "        8.85862407e+01,  6.10421648e+01,  7.25619014e+01,  9.08644691e+01,\n",
       "        6.43062252e+01,  3.02060559e+01,  9.26442364e+01,  5.45085372e+01,\n",
       "       -5.69443406e+01, -7.38617502e+01, -7.13274793e+00,  4.06989885e+01,\n",
       "       -6.70579499e+01, -6.92161720e+01, -8.31018305e+01, -1.91614054e+01,\n",
       "       -3.81438223e+01, -1.58965120e+01, -8.66374613e+01,  7.62342557e+01,\n",
       "        1.14237371e+01, -8.63320584e+01,  8.67824704e+01,  8.10667401e+01,\n",
       "       -9.85107622e+00, -7.04966715e+01,  3.74830556e+01,  8.58683185e+01,\n",
       "        1.06992608e+01, -8.67888761e+01, -7.67985781e+01,  3.51756648e+01,\n",
       "        6.42701754e+01, -6.56660064e+00,  8.25208774e+01,  5.96243347e+01,\n",
       "       -5.43438063e+01,  7.57600901e+01,  8.74510259e+00,  2.78376600e+01,\n",
       "        4.53043765e+01,  5.19723687e+01, -3.65906799e+01, -6.71347916e+01,\n",
       "        8.66909863e+01,  3.89505755e+01,  7.48609905e+01,  1.61225137e+01,\n",
       "       -5.52018084e+01, -2.71039837e+01, -1.37131882e+01, -8.68037108e+01,\n",
       "       -7.01028114e+01,  4.04249985e+01,  4.35597165e+01, -8.88261845e+01,\n",
       "        2.39408456e+00,  7.53039327e+01, -5.61495120e+01,  2.31499813e+01,\n",
       "       -7.14728864e+01, -1.43777832e+01, -4.27707439e+01,  4.88039297e+01,\n",
       "       -7.86724785e+01,  3.68481317e+01,  7.62428842e+01,  7.79123685e+01,\n",
       "        5.40286482e+01, -1.77090733e+01, -6.60886667e+01,  9.55080718e+00,\n",
       "       -1.59525262e+01,  6.58395929e+01,  5.71646772e+01,  4.04812487e+01,\n",
       "        7.33455873e+01, -5.28059437e+01,  7.19235956e+01,  1.21441691e+00,\n",
       "       -2.04121651e+01, -8.77472376e+01,  9.19733943e+01,  6.19139502e+01,\n",
       "       -6.84546550e+01,  5.10625157e+01, -3.11849657e+01,  7.29096701e+01,\n",
       "       -6.26239620e+01,  2.03721164e+01, -2.43960828e+01, -9.36890321e+00])"
      ]
     },
     "execution_count": 81,
     "metadata": {},
     "output_type": "execute_result"
    }
   ],
   "source": [
    "y_pre"
   ]
  },
  {
   "cell_type": "code",
   "execution_count": 82,
   "id": "0065fc3d",
   "metadata": {},
   "outputs": [],
   "source": [
    "from sklearn.metrics import mean_absolute_error,mean_squared_error,r2_score"
   ]
  },
  {
   "cell_type": "code",
   "execution_count": 83,
   "id": "1ef1ce3f",
   "metadata": {},
   "outputs": [
    {
     "data": {
      "text/plain": [
       "0.7150111871506718"
      ]
     },
     "execution_count": 83,
     "metadata": {},
     "output_type": "execute_result"
    }
   ],
   "source": [
    "r2_score(y_test,y_pre)"
   ]
  },
  {
   "cell_type": "code",
   "execution_count": null,
   "id": "3a26444b",
   "metadata": {},
   "outputs": [],
   "source": []
  },
  {
   "cell_type": "code",
   "execution_count": null,
   "id": "96b00074",
   "metadata": {},
   "outputs": [],
   "source": []
  },
  {
   "cell_type": "code",
   "execution_count": 84,
   "id": "2cd4d5a0",
   "metadata": {},
   "outputs": [],
   "source": [
    "## hypertuning"
   ]
  },
  {
   "cell_type": "code",
   "execution_count": 85,
   "id": "4269262b",
   "metadata": {},
   "outputs": [],
   "source": [
    "params = {\n",
    "    \"C\" : [0.1,1,10,100,1000],\n",
    "    \"gamma\" : [1,0.1,0.01,0.001],\n",
    "    \"kernel\" : [\"linear\"],\n",
    "    \"epsilon\" : [0.1,0.2,0.3]\n",
    "}"
   ]
  },
  {
   "cell_type": "code",
   "execution_count": 87,
   "id": "df5831e2",
   "metadata": {},
   "outputs": [],
   "source": [
    "from sklearn.model_selection import GridSearchCV\n",
    "from sklearn.svm import SVR"
   ]
  },
  {
   "cell_type": "code",
   "execution_count": 88,
   "id": "44987cf1",
   "metadata": {},
   "outputs": [],
   "source": [
    "svr = SVR()"
   ]
  },
  {
   "cell_type": "code",
   "execution_count": 89,
   "id": "e9925022",
   "metadata": {},
   "outputs": [],
   "source": [
    "grid = GridSearchCV(svr,param_grid=params,refit=True,cv=5,verbose=3)"
   ]
  },
  {
   "cell_type": "code",
   "execution_count": 90,
   "id": "2213778d",
   "metadata": {},
   "outputs": [
    {
     "name": "stdout",
     "output_type": "stream",
     "text": [
      "Fitting 5 folds for each of 60 candidates, totalling 300 fits\n",
      "[CV 1/5] END C=0.1, epsilon=0.1, gamma=1, kernel=linear;, score=0.681 total time=   0.0s\n",
      "[CV 2/5] END C=0.1, epsilon=0.1, gamma=1, kernel=linear;, score=0.643 total time=   0.0s\n",
      "[CV 3/5] END C=0.1, epsilon=0.1, gamma=1, kernel=linear;, score=0.667 total time=   0.0s\n",
      "[CV 4/5] END C=0.1, epsilon=0.1, gamma=1, kernel=linear;, score=0.694 total time=   0.0s\n",
      "[CV 5/5] END C=0.1, epsilon=0.1, gamma=1, kernel=linear;, score=0.681 total time=   0.0s\n",
      "[CV 1/5] END C=0.1, epsilon=0.1, gamma=0.1, kernel=linear;, score=0.681 total time=   0.0s\n",
      "[CV 2/5] END C=0.1, epsilon=0.1, gamma=0.1, kernel=linear;, score=0.643 total time=   0.0s\n",
      "[CV 3/5] END C=0.1, epsilon=0.1, gamma=0.1, kernel=linear;, score=0.667 total time=   0.0s\n",
      "[CV 4/5] END C=0.1, epsilon=0.1, gamma=0.1, kernel=linear;, score=0.694 total time=   0.0s\n",
      "[CV 5/5] END C=0.1, epsilon=0.1, gamma=0.1, kernel=linear;, score=0.681 total time=   0.0s\n",
      "[CV 1/5] END C=0.1, epsilon=0.1, gamma=0.01, kernel=linear;, score=0.681 total time=   0.0s\n",
      "[CV 2/5] END C=0.1, epsilon=0.1, gamma=0.01, kernel=linear;, score=0.643 total time=   0.0s\n",
      "[CV 3/5] END C=0.1, epsilon=0.1, gamma=0.01, kernel=linear;, score=0.667 total time=   0.0s\n",
      "[CV 4/5] END C=0.1, epsilon=0.1, gamma=0.01, kernel=linear;, score=0.694 total time=   0.0s\n",
      "[CV 5/5] END C=0.1, epsilon=0.1, gamma=0.01, kernel=linear;, score=0.681 total time=   0.0s\n",
      "[CV 1/5] END C=0.1, epsilon=0.1, gamma=0.001, kernel=linear;, score=0.681 total time=   0.0s\n",
      "[CV 2/5] END C=0.1, epsilon=0.1, gamma=0.001, kernel=linear;, score=0.643 total time=   0.0s\n",
      "[CV 3/5] END C=0.1, epsilon=0.1, gamma=0.001, kernel=linear;, score=0.667 total time=   0.0s\n",
      "[CV 4/5] END C=0.1, epsilon=0.1, gamma=0.001, kernel=linear;, score=0.694 total time=   0.0s\n",
      "[CV 5/5] END C=0.1, epsilon=0.1, gamma=0.001, kernel=linear;, score=0.681 total time=   0.0s\n",
      "[CV 1/5] END C=0.1, epsilon=0.2, gamma=1, kernel=linear;, score=0.681 total time=   0.0s\n",
      "[CV 2/5] END C=0.1, epsilon=0.2, gamma=1, kernel=linear;, score=0.643 total time=   0.0s\n",
      "[CV 3/5] END C=0.1, epsilon=0.2, gamma=1, kernel=linear;, score=0.667 total time=   0.0s\n",
      "[CV 4/5] END C=0.1, epsilon=0.2, gamma=1, kernel=linear;, score=0.694 total time=   0.0s\n",
      "[CV 5/5] END C=0.1, epsilon=0.2, gamma=1, kernel=linear;, score=0.682 total time=   0.0s\n",
      "[CV 1/5] END C=0.1, epsilon=0.2, gamma=0.1, kernel=linear;, score=0.681 total time=   0.0s\n",
      "[CV 2/5] END C=0.1, epsilon=0.2, gamma=0.1, kernel=linear;, score=0.643 total time=   0.0s\n",
      "[CV 3/5] END C=0.1, epsilon=0.2, gamma=0.1, kernel=linear;, score=0.667 total time=   0.0s\n",
      "[CV 4/5] END C=0.1, epsilon=0.2, gamma=0.1, kernel=linear;, score=0.694 total time=   0.0s\n",
      "[CV 5/5] END C=0.1, epsilon=0.2, gamma=0.1, kernel=linear;, score=0.682 total time=   0.0s\n",
      "[CV 1/5] END C=0.1, epsilon=0.2, gamma=0.01, kernel=linear;, score=0.681 total time=   0.0s\n",
      "[CV 2/5] END C=0.1, epsilon=0.2, gamma=0.01, kernel=linear;, score=0.643 total time=   0.0s\n",
      "[CV 3/5] END C=0.1, epsilon=0.2, gamma=0.01, kernel=linear;, score=0.667 total time=   0.0s\n",
      "[CV 4/5] END C=0.1, epsilon=0.2, gamma=0.01, kernel=linear;, score=0.694 total time=   0.0s\n",
      "[CV 5/5] END C=0.1, epsilon=0.2, gamma=0.01, kernel=linear;, score=0.682 total time=   0.0s\n",
      "[CV 1/5] END C=0.1, epsilon=0.2, gamma=0.001, kernel=linear;, score=0.681 total time=   0.0s\n",
      "[CV 2/5] END C=0.1, epsilon=0.2, gamma=0.001, kernel=linear;, score=0.643 total time=   0.0s\n",
      "[CV 3/5] END C=0.1, epsilon=0.2, gamma=0.001, kernel=linear;, score=0.667 total time=   0.0s\n",
      "[CV 4/5] END C=0.1, epsilon=0.2, gamma=0.001, kernel=linear;, score=0.694 total time=   0.0s\n",
      "[CV 5/5] END C=0.1, epsilon=0.2, gamma=0.001, kernel=linear;, score=0.682 total time=   0.0s\n",
      "[CV 1/5] END C=0.1, epsilon=0.3, gamma=1, kernel=linear;, score=0.681 total time=   0.0s\n",
      "[CV 2/5] END C=0.1, epsilon=0.3, gamma=1, kernel=linear;, score=0.643 total time=   0.0s\n",
      "[CV 3/5] END C=0.1, epsilon=0.3, gamma=1, kernel=linear;, score=0.667 total time=   0.0s\n",
      "[CV 4/5] END C=0.1, epsilon=0.3, gamma=1, kernel=linear;, score=0.694 total time=   0.0s\n",
      "[CV 5/5] END C=0.1, epsilon=0.3, gamma=1, kernel=linear;, score=0.682 total time=   0.0s\n",
      "[CV 1/5] END C=0.1, epsilon=0.3, gamma=0.1, kernel=linear;, score=0.681 total time=   0.0s\n",
      "[CV 2/5] END C=0.1, epsilon=0.3, gamma=0.1, kernel=linear;, score=0.643 total time=   0.0s\n",
      "[CV 3/5] END C=0.1, epsilon=0.3, gamma=0.1, kernel=linear;, score=0.667 total time=   0.0s\n",
      "[CV 4/5] END C=0.1, epsilon=0.3, gamma=0.1, kernel=linear;, score=0.694 total time=   0.0s\n",
      "[CV 5/5] END C=0.1, epsilon=0.3, gamma=0.1, kernel=linear;, score=0.682 total time=   0.0s\n",
      "[CV 1/5] END C=0.1, epsilon=0.3, gamma=0.01, kernel=linear;, score=0.681 total time=   0.0s\n",
      "[CV 2/5] END C=0.1, epsilon=0.3, gamma=0.01, kernel=linear;, score=0.643 total time=   0.0s\n",
      "[CV 3/5] END C=0.1, epsilon=0.3, gamma=0.01, kernel=linear;, score=0.667 total time=   0.0s\n",
      "[CV 4/5] END C=0.1, epsilon=0.3, gamma=0.01, kernel=linear;, score=0.694 total time=   0.0s\n",
      "[CV 5/5] END C=0.1, epsilon=0.3, gamma=0.01, kernel=linear;, score=0.682 total time=   0.0s\n",
      "[CV 1/5] END C=0.1, epsilon=0.3, gamma=0.001, kernel=linear;, score=0.681 total time=   0.0s\n",
      "[CV 2/5] END C=0.1, epsilon=0.3, gamma=0.001, kernel=linear;, score=0.643 total time=   0.0s\n",
      "[CV 3/5] END C=0.1, epsilon=0.3, gamma=0.001, kernel=linear;, score=0.667 total time=   0.0s\n",
      "[CV 4/5] END C=0.1, epsilon=0.3, gamma=0.001, kernel=linear;, score=0.694 total time=   0.0s\n",
      "[CV 5/5] END C=0.1, epsilon=0.3, gamma=0.001, kernel=linear;, score=0.682 total time=   0.0s\n",
      "[CV 1/5] END C=1, epsilon=0.1, gamma=1, kernel=linear;, score=0.999 total time=   0.0s\n",
      "[CV 2/5] END C=1, epsilon=0.1, gamma=1, kernel=linear;, score=0.999 total time=   0.0s\n",
      "[CV 3/5] END C=1, epsilon=0.1, gamma=1, kernel=linear;, score=0.999 total time=   0.0s\n",
      "[CV 4/5] END C=1, epsilon=0.1, gamma=1, kernel=linear;, score=0.999 total time=   0.0s\n",
      "[CV 5/5] END C=1, epsilon=0.1, gamma=1, kernel=linear;, score=0.999 total time=   0.0s\n",
      "[CV 1/5] END C=1, epsilon=0.1, gamma=0.1, kernel=linear;, score=0.999 total time=   0.0s\n",
      "[CV 2/5] END C=1, epsilon=0.1, gamma=0.1, kernel=linear;, score=0.999 total time=   0.0s\n",
      "[CV 3/5] END C=1, epsilon=0.1, gamma=0.1, kernel=linear;, score=0.999 total time=   0.0s\n",
      "[CV 4/5] END C=1, epsilon=0.1, gamma=0.1, kernel=linear;, score=0.999 total time=   0.0s\n",
      "[CV 5/5] END C=1, epsilon=0.1, gamma=0.1, kernel=linear;, score=0.999 total time=   0.0s\n",
      "[CV 1/5] END C=1, epsilon=0.1, gamma=0.01, kernel=linear;, score=0.999 total time=   0.0s\n",
      "[CV 2/5] END C=1, epsilon=0.1, gamma=0.01, kernel=linear;, score=0.999 total time=   0.0s\n",
      "[CV 3/5] END C=1, epsilon=0.1, gamma=0.01, kernel=linear;, score=0.999 total time=   0.0s\n",
      "[CV 4/5] END C=1, epsilon=0.1, gamma=0.01, kernel=linear;, score=0.999 total time=   0.0s\n",
      "[CV 5/5] END C=1, epsilon=0.1, gamma=0.01, kernel=linear;, score=0.999 total time=   0.0s\n",
      "[CV 1/5] END C=1, epsilon=0.1, gamma=0.001, kernel=linear;, score=0.999 total time=   0.0s\n",
      "[CV 2/5] END C=1, epsilon=0.1, gamma=0.001, kernel=linear;, score=0.999 total time=   0.0s\n",
      "[CV 3/5] END C=1, epsilon=0.1, gamma=0.001, kernel=linear;, score=0.999 total time=   0.0s\n",
      "[CV 4/5] END C=1, epsilon=0.1, gamma=0.001, kernel=linear;, score=0.999 total time=   0.0s\n",
      "[CV 5/5] END C=1, epsilon=0.1, gamma=0.001, kernel=linear;, score=0.999 total time=   0.0s\n",
      "[CV 1/5] END C=1, epsilon=0.2, gamma=1, kernel=linear;, score=0.999 total time=   0.0s\n",
      "[CV 2/5] END C=1, epsilon=0.2, gamma=1, kernel=linear;, score=0.999 total time=   0.0s\n",
      "[CV 3/5] END C=1, epsilon=0.2, gamma=1, kernel=linear;, score=0.999 total time=   0.0s\n",
      "[CV 4/5] END C=1, epsilon=0.2, gamma=1, kernel=linear;, score=0.998 total time=   0.0s\n",
      "[CV 5/5] END C=1, epsilon=0.2, gamma=1, kernel=linear;, score=0.999 total time=   0.0s\n",
      "[CV 1/5] END C=1, epsilon=0.2, gamma=0.1, kernel=linear;, score=0.999 total time=   0.0s\n",
      "[CV 2/5] END C=1, epsilon=0.2, gamma=0.1, kernel=linear;, score=0.999 total time=   0.0s\n",
      "[CV 3/5] END C=1, epsilon=0.2, gamma=0.1, kernel=linear;, score=0.999 total time=   0.0s\n",
      "[CV 4/5] END C=1, epsilon=0.2, gamma=0.1, kernel=linear;, score=0.998 total time=   0.0s\n",
      "[CV 5/5] END C=1, epsilon=0.2, gamma=0.1, kernel=linear;, score=0.999 total time=   0.0s\n"
     ]
    },
    {
     "name": "stdout",
     "output_type": "stream",
     "text": [
      "[CV 1/5] END C=1, epsilon=0.2, gamma=0.01, kernel=linear;, score=0.999 total time=   0.0s\n",
      "[CV 2/5] END C=1, epsilon=0.2, gamma=0.01, kernel=linear;, score=0.999 total time=   0.0s\n",
      "[CV 3/5] END C=1, epsilon=0.2, gamma=0.01, kernel=linear;, score=0.999 total time=   0.0s\n",
      "[CV 4/5] END C=1, epsilon=0.2, gamma=0.01, kernel=linear;, score=0.998 total time=   0.0s\n",
      "[CV 5/5] END C=1, epsilon=0.2, gamma=0.01, kernel=linear;, score=0.999 total time=   0.0s\n",
      "[CV 1/5] END C=1, epsilon=0.2, gamma=0.001, kernel=linear;, score=0.999 total time=   0.0s\n",
      "[CV 2/5] END C=1, epsilon=0.2, gamma=0.001, kernel=linear;, score=0.999 total time=   0.0s\n",
      "[CV 3/5] END C=1, epsilon=0.2, gamma=0.001, kernel=linear;, score=0.999 total time=   0.0s\n",
      "[CV 4/5] END C=1, epsilon=0.2, gamma=0.001, kernel=linear;, score=0.998 total time=   0.0s\n",
      "[CV 5/5] END C=1, epsilon=0.2, gamma=0.001, kernel=linear;, score=0.999 total time=   0.0s\n",
      "[CV 1/5] END C=1, epsilon=0.3, gamma=1, kernel=linear;, score=0.999 total time=   0.0s\n",
      "[CV 2/5] END C=1, epsilon=0.3, gamma=1, kernel=linear;, score=0.999 total time=   0.0s\n",
      "[CV 3/5] END C=1, epsilon=0.3, gamma=1, kernel=linear;, score=0.999 total time=   0.0s\n",
      "[CV 4/5] END C=1, epsilon=0.3, gamma=1, kernel=linear;, score=0.998 total time=   0.0s\n",
      "[CV 5/5] END C=1, epsilon=0.3, gamma=1, kernel=linear;, score=0.999 total time=   0.0s\n",
      "[CV 1/5] END C=1, epsilon=0.3, gamma=0.1, kernel=linear;, score=0.999 total time=   0.0s\n",
      "[CV 2/5] END C=1, epsilon=0.3, gamma=0.1, kernel=linear;, score=0.999 total time=   0.0s\n",
      "[CV 3/5] END C=1, epsilon=0.3, gamma=0.1, kernel=linear;, score=0.999 total time=   0.0s\n",
      "[CV 4/5] END C=1, epsilon=0.3, gamma=0.1, kernel=linear;, score=0.998 total time=   0.0s\n",
      "[CV 5/5] END C=1, epsilon=0.3, gamma=0.1, kernel=linear;, score=0.999 total time=   0.0s\n",
      "[CV 1/5] END C=1, epsilon=0.3, gamma=0.01, kernel=linear;, score=0.999 total time=   0.0s\n",
      "[CV 2/5] END C=1, epsilon=0.3, gamma=0.01, kernel=linear;, score=0.999 total time=   0.0s\n",
      "[CV 3/5] END C=1, epsilon=0.3, gamma=0.01, kernel=linear;, score=0.999 total time=   0.0s\n",
      "[CV 4/5] END C=1, epsilon=0.3, gamma=0.01, kernel=linear;, score=0.998 total time=   0.0s\n",
      "[CV 5/5] END C=1, epsilon=0.3, gamma=0.01, kernel=linear;, score=0.999 total time=   0.0s\n",
      "[CV 1/5] END C=1, epsilon=0.3, gamma=0.001, kernel=linear;, score=0.999 total time=   0.0s\n",
      "[CV 2/5] END C=1, epsilon=0.3, gamma=0.001, kernel=linear;, score=0.999 total time=   0.0s\n",
      "[CV 3/5] END C=1, epsilon=0.3, gamma=0.001, kernel=linear;, score=0.999 total time=   0.0s\n",
      "[CV 4/5] END C=1, epsilon=0.3, gamma=0.001, kernel=linear;, score=0.998 total time=   0.0s\n",
      "[CV 5/5] END C=1, epsilon=0.3, gamma=0.001, kernel=linear;, score=0.999 total time=   0.0s\n",
      "[CV 1/5] END C=10, epsilon=0.1, gamma=1, kernel=linear;, score=0.999 total time=   0.0s\n",
      "[CV 2/5] END C=10, epsilon=0.1, gamma=1, kernel=linear;, score=0.999 total time=   0.0s\n",
      "[CV 3/5] END C=10, epsilon=0.1, gamma=1, kernel=linear;, score=0.999 total time=   0.0s\n",
      "[CV 4/5] END C=10, epsilon=0.1, gamma=1, kernel=linear;, score=0.999 total time=   0.0s\n",
      "[CV 5/5] END C=10, epsilon=0.1, gamma=1, kernel=linear;, score=0.999 total time=   0.0s\n",
      "[CV 1/5] END C=10, epsilon=0.1, gamma=0.1, kernel=linear;, score=0.999 total time=   0.0s\n",
      "[CV 2/5] END C=10, epsilon=0.1, gamma=0.1, kernel=linear;, score=0.999 total time=   0.0s\n",
      "[CV 3/5] END C=10, epsilon=0.1, gamma=0.1, kernel=linear;, score=0.999 total time=   0.0s\n",
      "[CV 4/5] END C=10, epsilon=0.1, gamma=0.1, kernel=linear;, score=0.999 total time=   0.0s\n",
      "[CV 5/5] END C=10, epsilon=0.1, gamma=0.1, kernel=linear;, score=0.999 total time=   0.0s\n",
      "[CV 1/5] END C=10, epsilon=0.1, gamma=0.01, kernel=linear;, score=0.999 total time=   0.0s\n",
      "[CV 2/5] END C=10, epsilon=0.1, gamma=0.01, kernel=linear;, score=0.999 total time=   0.0s\n",
      "[CV 3/5] END C=10, epsilon=0.1, gamma=0.01, kernel=linear;, score=0.999 total time=   0.0s\n",
      "[CV 4/5] END C=10, epsilon=0.1, gamma=0.01, kernel=linear;, score=0.999 total time=   0.0s\n",
      "[CV 5/5] END C=10, epsilon=0.1, gamma=0.01, kernel=linear;, score=0.999 total time=   0.0s\n",
      "[CV 1/5] END C=10, epsilon=0.1, gamma=0.001, kernel=linear;, score=0.999 total time=   0.0s\n",
      "[CV 2/5] END C=10, epsilon=0.1, gamma=0.001, kernel=linear;, score=0.999 total time=   0.0s\n",
      "[CV 3/5] END C=10, epsilon=0.1, gamma=0.001, kernel=linear;, score=0.999 total time=   0.0s\n",
      "[CV 4/5] END C=10, epsilon=0.1, gamma=0.001, kernel=linear;, score=0.999 total time=   0.0s\n",
      "[CV 5/5] END C=10, epsilon=0.1, gamma=0.001, kernel=linear;, score=0.999 total time=   0.0s\n",
      "[CV 1/5] END C=10, epsilon=0.2, gamma=1, kernel=linear;, score=0.999 total time=   0.0s\n",
      "[CV 2/5] END C=10, epsilon=0.2, gamma=1, kernel=linear;, score=0.999 total time=   0.0s\n",
      "[CV 3/5] END C=10, epsilon=0.2, gamma=1, kernel=linear;, score=0.999 total time=   0.0s\n",
      "[CV 4/5] END C=10, epsilon=0.2, gamma=1, kernel=linear;, score=0.999 total time=   0.0s\n",
      "[CV 5/5] END C=10, epsilon=0.2, gamma=1, kernel=linear;, score=0.999 total time=   0.0s\n",
      "[CV 1/5] END C=10, epsilon=0.2, gamma=0.1, kernel=linear;, score=0.999 total time=   0.0s\n",
      "[CV 2/5] END C=10, epsilon=0.2, gamma=0.1, kernel=linear;, score=0.999 total time=   0.0s\n",
      "[CV 3/5] END C=10, epsilon=0.2, gamma=0.1, kernel=linear;, score=0.999 total time=   0.0s\n",
      "[CV 4/5] END C=10, epsilon=0.2, gamma=0.1, kernel=linear;, score=0.999 total time=   0.0s\n",
      "[CV 5/5] END C=10, epsilon=0.2, gamma=0.1, kernel=linear;, score=0.999 total time=   0.0s\n",
      "[CV 1/5] END C=10, epsilon=0.2, gamma=0.01, kernel=linear;, score=0.999 total time=   0.0s\n",
      "[CV 2/5] END C=10, epsilon=0.2, gamma=0.01, kernel=linear;, score=0.999 total time=   0.0s\n",
      "[CV 3/5] END C=10, epsilon=0.2, gamma=0.01, kernel=linear;, score=0.999 total time=   0.0s\n",
      "[CV 4/5] END C=10, epsilon=0.2, gamma=0.01, kernel=linear;, score=0.999 total time=   0.0s\n",
      "[CV 5/5] END C=10, epsilon=0.2, gamma=0.01, kernel=linear;, score=0.999 total time=   0.0s\n",
      "[CV 1/5] END C=10, epsilon=0.2, gamma=0.001, kernel=linear;, score=0.999 total time=   0.0s\n",
      "[CV 2/5] END C=10, epsilon=0.2, gamma=0.001, kernel=linear;, score=0.999 total time=   0.0s\n",
      "[CV 3/5] END C=10, epsilon=0.2, gamma=0.001, kernel=linear;, score=0.999 total time=   0.0s\n",
      "[CV 4/5] END C=10, epsilon=0.2, gamma=0.001, kernel=linear;, score=0.999 total time=   0.0s\n",
      "[CV 5/5] END C=10, epsilon=0.2, gamma=0.001, kernel=linear;, score=0.999 total time=   0.0s\n",
      "[CV 1/5] END C=10, epsilon=0.3, gamma=1, kernel=linear;, score=0.999 total time=   0.0s\n",
      "[CV 2/5] END C=10, epsilon=0.3, gamma=1, kernel=linear;, score=0.999 total time=   0.0s\n",
      "[CV 3/5] END C=10, epsilon=0.3, gamma=1, kernel=linear;, score=0.999 total time=   0.0s\n",
      "[CV 4/5] END C=10, epsilon=0.3, gamma=1, kernel=linear;, score=0.999 total time=   0.0s\n",
      "[CV 5/5] END C=10, epsilon=0.3, gamma=1, kernel=linear;, score=0.999 total time=   0.0s\n",
      "[CV 1/5] END C=10, epsilon=0.3, gamma=0.1, kernel=linear;, score=0.999 total time=   0.0s\n",
      "[CV 2/5] END C=10, epsilon=0.3, gamma=0.1, kernel=linear;, score=0.999 total time=   0.0s\n",
      "[CV 3/5] END C=10, epsilon=0.3, gamma=0.1, kernel=linear;, score=0.999 total time=   0.0s\n",
      "[CV 4/5] END C=10, epsilon=0.3, gamma=0.1, kernel=linear;, score=0.999 total time=   0.0s\n",
      "[CV 5/5] END C=10, epsilon=0.3, gamma=0.1, kernel=linear;, score=0.999 total time=   0.0s\n",
      "[CV 1/5] END C=10, epsilon=0.3, gamma=0.01, kernel=linear;, score=0.999 total time=   0.0s\n",
      "[CV 2/5] END C=10, epsilon=0.3, gamma=0.01, kernel=linear;, score=0.999 total time=   0.0s\n",
      "[CV 3/5] END C=10, epsilon=0.3, gamma=0.01, kernel=linear;, score=0.999 total time=   0.0s\n",
      "[CV 4/5] END C=10, epsilon=0.3, gamma=0.01, kernel=linear;, score=0.999 total time=   0.0s\n",
      "[CV 5/5] END C=10, epsilon=0.3, gamma=0.01, kernel=linear;, score=0.999 total time=   0.0s\n",
      "[CV 1/5] END C=10, epsilon=0.3, gamma=0.001, kernel=linear;, score=0.999 total time=   0.0s\n",
      "[CV 2/5] END C=10, epsilon=0.3, gamma=0.001, kernel=linear;, score=0.999 total time=   0.0s\n",
      "[CV 3/5] END C=10, epsilon=0.3, gamma=0.001, kernel=linear;, score=0.999 total time=   0.0s\n",
      "[CV 4/5] END C=10, epsilon=0.3, gamma=0.001, kernel=linear;, score=0.999 total time=   0.0s\n",
      "[CV 5/5] END C=10, epsilon=0.3, gamma=0.001, kernel=linear;, score=0.999 total time=   0.0s\n",
      "[CV 1/5] END C=100, epsilon=0.1, gamma=1, kernel=linear;, score=0.999 total time=   0.0s\n"
     ]
    },
    {
     "name": "stdout",
     "output_type": "stream",
     "text": [
      "[CV 2/5] END C=100, epsilon=0.1, gamma=1, kernel=linear;, score=0.999 total time=   0.0s\n",
      "[CV 3/5] END C=100, epsilon=0.1, gamma=1, kernel=linear;, score=0.999 total time=   0.0s\n",
      "[CV 4/5] END C=100, epsilon=0.1, gamma=1, kernel=linear;, score=0.999 total time=   0.0s\n",
      "[CV 5/5] END C=100, epsilon=0.1, gamma=1, kernel=linear;, score=0.999 total time=   0.0s\n",
      "[CV 1/5] END C=100, epsilon=0.1, gamma=0.1, kernel=linear;, score=0.999 total time=   0.0s\n",
      "[CV 2/5] END C=100, epsilon=0.1, gamma=0.1, kernel=linear;, score=0.999 total time=   0.0s\n",
      "[CV 3/5] END C=100, epsilon=0.1, gamma=0.1, kernel=linear;, score=0.999 total time=   0.0s\n",
      "[CV 4/5] END C=100, epsilon=0.1, gamma=0.1, kernel=linear;, score=0.999 total time=   0.0s\n",
      "[CV 5/5] END C=100, epsilon=0.1, gamma=0.1, kernel=linear;, score=0.999 total time=   0.0s\n",
      "[CV 1/5] END C=100, epsilon=0.1, gamma=0.01, kernel=linear;, score=0.999 total time=   0.0s\n",
      "[CV 2/5] END C=100, epsilon=0.1, gamma=0.01, kernel=linear;, score=0.999 total time=   0.0s\n",
      "[CV 3/5] END C=100, epsilon=0.1, gamma=0.01, kernel=linear;, score=0.999 total time=   0.0s\n",
      "[CV 4/5] END C=100, epsilon=0.1, gamma=0.01, kernel=linear;, score=0.999 total time=   0.0s\n",
      "[CV 5/5] END C=100, epsilon=0.1, gamma=0.01, kernel=linear;, score=0.999 total time=   0.0s\n",
      "[CV 1/5] END C=100, epsilon=0.1, gamma=0.001, kernel=linear;, score=0.999 total time=   0.0s\n",
      "[CV 2/5] END C=100, epsilon=0.1, gamma=0.001, kernel=linear;, score=0.999 total time=   0.0s\n",
      "[CV 3/5] END C=100, epsilon=0.1, gamma=0.001, kernel=linear;, score=0.999 total time=   0.0s\n",
      "[CV 4/5] END C=100, epsilon=0.1, gamma=0.001, kernel=linear;, score=0.999 total time=   0.0s\n",
      "[CV 5/5] END C=100, epsilon=0.1, gamma=0.001, kernel=linear;, score=0.999 total time=   0.0s\n",
      "[CV 1/5] END C=100, epsilon=0.2, gamma=1, kernel=linear;, score=0.999 total time=   0.0s\n",
      "[CV 2/5] END C=100, epsilon=0.2, gamma=1, kernel=linear;, score=0.999 total time=   0.0s\n",
      "[CV 3/5] END C=100, epsilon=0.2, gamma=1, kernel=linear;, score=0.999 total time=   0.0s\n",
      "[CV 4/5] END C=100, epsilon=0.2, gamma=1, kernel=linear;, score=0.999 total time=   0.0s\n",
      "[CV 5/5] END C=100, epsilon=0.2, gamma=1, kernel=linear;, score=0.999 total time=   0.0s\n",
      "[CV 1/5] END C=100, epsilon=0.2, gamma=0.1, kernel=linear;, score=0.999 total time=   0.0s\n",
      "[CV 2/5] END C=100, epsilon=0.2, gamma=0.1, kernel=linear;, score=0.999 total time=   0.0s\n",
      "[CV 3/5] END C=100, epsilon=0.2, gamma=0.1, kernel=linear;, score=0.999 total time=   0.0s\n",
      "[CV 4/5] END C=100, epsilon=0.2, gamma=0.1, kernel=linear;, score=0.999 total time=   0.0s\n",
      "[CV 5/5] END C=100, epsilon=0.2, gamma=0.1, kernel=linear;, score=0.999 total time=   0.0s\n",
      "[CV 1/5] END C=100, epsilon=0.2, gamma=0.01, kernel=linear;, score=0.999 total time=   0.0s\n",
      "[CV 2/5] END C=100, epsilon=0.2, gamma=0.01, kernel=linear;, score=0.999 total time=   0.0s\n",
      "[CV 3/5] END C=100, epsilon=0.2, gamma=0.01, kernel=linear;, score=0.999 total time=   0.0s\n",
      "[CV 4/5] END C=100, epsilon=0.2, gamma=0.01, kernel=linear;, score=0.999 total time=   0.0s\n",
      "[CV 5/5] END C=100, epsilon=0.2, gamma=0.01, kernel=linear;, score=0.999 total time=   0.0s\n",
      "[CV 1/5] END C=100, epsilon=0.2, gamma=0.001, kernel=linear;, score=0.999 total time=   0.0s\n",
      "[CV 2/5] END C=100, epsilon=0.2, gamma=0.001, kernel=linear;, score=0.999 total time=   0.0s\n",
      "[CV 3/5] END C=100, epsilon=0.2, gamma=0.001, kernel=linear;, score=0.999 total time=   0.0s\n",
      "[CV 4/5] END C=100, epsilon=0.2, gamma=0.001, kernel=linear;, score=0.999 total time=   0.0s\n",
      "[CV 5/5] END C=100, epsilon=0.2, gamma=0.001, kernel=linear;, score=0.999 total time=   0.0s\n",
      "[CV 1/5] END C=100, epsilon=0.3, gamma=1, kernel=linear;, score=0.999 total time=   0.0s\n",
      "[CV 2/5] END C=100, epsilon=0.3, gamma=1, kernel=linear;, score=0.999 total time=   0.0s\n",
      "[CV 3/5] END C=100, epsilon=0.3, gamma=1, kernel=linear;, score=0.999 total time=   0.0s\n",
      "[CV 4/5] END C=100, epsilon=0.3, gamma=1, kernel=linear;, score=0.999 total time=   0.0s\n",
      "[CV 5/5] END C=100, epsilon=0.3, gamma=1, kernel=linear;, score=0.999 total time=   0.0s\n",
      "[CV 1/5] END C=100, epsilon=0.3, gamma=0.1, kernel=linear;, score=0.999 total time=   0.0s\n",
      "[CV 2/5] END C=100, epsilon=0.3, gamma=0.1, kernel=linear;, score=0.999 total time=   0.0s\n",
      "[CV 3/5] END C=100, epsilon=0.3, gamma=0.1, kernel=linear;, score=0.999 total time=   0.0s\n",
      "[CV 4/5] END C=100, epsilon=0.3, gamma=0.1, kernel=linear;, score=0.999 total time=   0.0s\n",
      "[CV 5/5] END C=100, epsilon=0.3, gamma=0.1, kernel=linear;, score=0.999 total time=   0.0s\n",
      "[CV 1/5] END C=100, epsilon=0.3, gamma=0.01, kernel=linear;, score=0.999 total time=   0.0s\n",
      "[CV 2/5] END C=100, epsilon=0.3, gamma=0.01, kernel=linear;, score=0.999 total time=   0.0s\n",
      "[CV 3/5] END C=100, epsilon=0.3, gamma=0.01, kernel=linear;, score=0.999 total time=   0.0s\n",
      "[CV 4/5] END C=100, epsilon=0.3, gamma=0.01, kernel=linear;, score=0.999 total time=   0.0s\n",
      "[CV 5/5] END C=100, epsilon=0.3, gamma=0.01, kernel=linear;, score=0.999 total time=   0.0s\n",
      "[CV 1/5] END C=100, epsilon=0.3, gamma=0.001, kernel=linear;, score=0.999 total time=   0.0s\n",
      "[CV 2/5] END C=100, epsilon=0.3, gamma=0.001, kernel=linear;, score=0.999 total time=   0.0s\n",
      "[CV 3/5] END C=100, epsilon=0.3, gamma=0.001, kernel=linear;, score=0.999 total time=   0.0s\n",
      "[CV 4/5] END C=100, epsilon=0.3, gamma=0.001, kernel=linear;, score=0.999 total time=   0.0s\n",
      "[CV 5/5] END C=100, epsilon=0.3, gamma=0.001, kernel=linear;, score=0.999 total time=   0.0s\n",
      "[CV 1/5] END C=1000, epsilon=0.1, gamma=1, kernel=linear;, score=0.999 total time=   0.7s\n",
      "[CV 2/5] END C=1000, epsilon=0.1, gamma=1, kernel=linear;, score=0.999 total time=   0.4s\n",
      "[CV 3/5] END C=1000, epsilon=0.1, gamma=1, kernel=linear;, score=0.999 total time=   0.4s\n",
      "[CV 4/5] END C=1000, epsilon=0.1, gamma=1, kernel=linear;, score=0.999 total time=   0.5s\n",
      "[CV 5/5] END C=1000, epsilon=0.1, gamma=1, kernel=linear;, score=0.999 total time=   0.4s\n",
      "[CV 1/5] END C=1000, epsilon=0.1, gamma=0.1, kernel=linear;, score=0.999 total time=   0.5s\n",
      "[CV 2/5] END C=1000, epsilon=0.1, gamma=0.1, kernel=linear;, score=0.999 total time=   0.4s\n",
      "[CV 3/5] END C=1000, epsilon=0.1, gamma=0.1, kernel=linear;, score=0.999 total time=   0.5s\n",
      "[CV 4/5] END C=1000, epsilon=0.1, gamma=0.1, kernel=linear;, score=0.999 total time=   0.5s\n",
      "[CV 5/5] END C=1000, epsilon=0.1, gamma=0.1, kernel=linear;, score=0.999 total time=   0.4s\n",
      "[CV 1/5] END C=1000, epsilon=0.1, gamma=0.01, kernel=linear;, score=0.999 total time=   0.6s\n",
      "[CV 2/5] END C=1000, epsilon=0.1, gamma=0.01, kernel=linear;, score=0.999 total time=   0.4s\n",
      "[CV 3/5] END C=1000, epsilon=0.1, gamma=0.01, kernel=linear;, score=0.999 total time=   0.5s\n",
      "[CV 4/5] END C=1000, epsilon=0.1, gamma=0.01, kernel=linear;, score=0.999 total time=   0.5s\n",
      "[CV 5/5] END C=1000, epsilon=0.1, gamma=0.01, kernel=linear;, score=0.999 total time=   0.4s\n",
      "[CV 1/5] END C=1000, epsilon=0.1, gamma=0.001, kernel=linear;, score=0.999 total time=   0.6s\n",
      "[CV 2/5] END C=1000, epsilon=0.1, gamma=0.001, kernel=linear;, score=0.999 total time=   0.5s\n",
      "[CV 3/5] END C=1000, epsilon=0.1, gamma=0.001, kernel=linear;, score=0.999 total time=   0.4s\n",
      "[CV 4/5] END C=1000, epsilon=0.1, gamma=0.001, kernel=linear;, score=0.999 total time=   0.5s\n",
      "[CV 5/5] END C=1000, epsilon=0.1, gamma=0.001, kernel=linear;, score=0.999 total time=   0.4s\n",
      "[CV 1/5] END C=1000, epsilon=0.2, gamma=1, kernel=linear;, score=0.999 total time=   0.5s\n",
      "[CV 2/5] END C=1000, epsilon=0.2, gamma=1, kernel=linear;, score=0.999 total time=   0.3s\n",
      "[CV 3/5] END C=1000, epsilon=0.2, gamma=1, kernel=linear;, score=0.999 total time=   0.3s\n",
      "[CV 4/5] END C=1000, epsilon=0.2, gamma=1, kernel=linear;, score=0.999 total time=   0.5s\n",
      "[CV 5/5] END C=1000, epsilon=0.2, gamma=1, kernel=linear;, score=0.999 total time=   0.4s\n",
      "[CV 1/5] END C=1000, epsilon=0.2, gamma=0.1, kernel=linear;, score=0.999 total time=   0.3s\n",
      "[CV 2/5] END C=1000, epsilon=0.2, gamma=0.1, kernel=linear;, score=0.999 total time=   0.4s\n",
      "[CV 3/5] END C=1000, epsilon=0.2, gamma=0.1, kernel=linear;, score=0.999 total time=   0.4s\n",
      "[CV 4/5] END C=1000, epsilon=0.2, gamma=0.1, kernel=linear;, score=0.999 total time=   0.3s\n",
      "[CV 5/5] END C=1000, epsilon=0.2, gamma=0.1, kernel=linear;, score=0.999 total time=   0.5s\n",
      "[CV 1/5] END C=1000, epsilon=0.2, gamma=0.01, kernel=linear;, score=0.999 total time=   0.4s\n"
     ]
    },
    {
     "name": "stdout",
     "output_type": "stream",
     "text": [
      "[CV 2/5] END C=1000, epsilon=0.2, gamma=0.01, kernel=linear;, score=0.999 total time=   0.4s\n",
      "[CV 3/5] END C=1000, epsilon=0.2, gamma=0.01, kernel=linear;, score=0.999 total time=   0.3s\n",
      "[CV 4/5] END C=1000, epsilon=0.2, gamma=0.01, kernel=linear;, score=0.999 total time=   0.4s\n",
      "[CV 5/5] END C=1000, epsilon=0.2, gamma=0.01, kernel=linear;, score=0.999 total time=   0.5s\n",
      "[CV 1/5] END C=1000, epsilon=0.2, gamma=0.001, kernel=linear;, score=0.999 total time=   0.4s\n",
      "[CV 2/5] END C=1000, epsilon=0.2, gamma=0.001, kernel=linear;, score=0.999 total time=   0.5s\n",
      "[CV 3/5] END C=1000, epsilon=0.2, gamma=0.001, kernel=linear;, score=0.999 total time=   0.5s\n",
      "[CV 4/5] END C=1000, epsilon=0.2, gamma=0.001, kernel=linear;, score=0.999 total time=   0.3s\n",
      "[CV 5/5] END C=1000, epsilon=0.2, gamma=0.001, kernel=linear;, score=0.999 total time=   0.4s\n",
      "[CV 1/5] END C=1000, epsilon=0.3, gamma=1, kernel=linear;, score=0.999 total time=   0.5s\n",
      "[CV 2/5] END C=1000, epsilon=0.3, gamma=1, kernel=linear;, score=0.999 total time=   0.3s\n",
      "[CV 3/5] END C=1000, epsilon=0.3, gamma=1, kernel=linear;, score=0.999 total time=   0.4s\n",
      "[CV 4/5] END C=1000, epsilon=0.3, gamma=1, kernel=linear;, score=0.999 total time=   0.3s\n",
      "[CV 5/5] END C=1000, epsilon=0.3, gamma=1, kernel=linear;, score=0.999 total time=   0.3s\n",
      "[CV 1/5] END C=1000, epsilon=0.3, gamma=0.1, kernel=linear;, score=0.999 total time=   0.5s\n",
      "[CV 2/5] END C=1000, epsilon=0.3, gamma=0.1, kernel=linear;, score=0.999 total time=   0.3s\n",
      "[CV 3/5] END C=1000, epsilon=0.3, gamma=0.1, kernel=linear;, score=0.999 total time=   0.4s\n",
      "[CV 4/5] END C=1000, epsilon=0.3, gamma=0.1, kernel=linear;, score=0.999 total time=   0.2s\n",
      "[CV 5/5] END C=1000, epsilon=0.3, gamma=0.1, kernel=linear;, score=0.999 total time=   0.3s\n",
      "[CV 1/5] END C=1000, epsilon=0.3, gamma=0.01, kernel=linear;, score=0.999 total time=   0.5s\n",
      "[CV 2/5] END C=1000, epsilon=0.3, gamma=0.01, kernel=linear;, score=0.999 total time=   0.4s\n",
      "[CV 3/5] END C=1000, epsilon=0.3, gamma=0.01, kernel=linear;, score=0.999 total time=   0.3s\n",
      "[CV 4/5] END C=1000, epsilon=0.3, gamma=0.01, kernel=linear;, score=0.999 total time=   0.3s\n",
      "[CV 5/5] END C=1000, epsilon=0.3, gamma=0.01, kernel=linear;, score=0.999 total time=   0.3s\n",
      "[CV 1/5] END C=1000, epsilon=0.3, gamma=0.001, kernel=linear;, score=0.999 total time=   0.5s\n",
      "[CV 2/5] END C=1000, epsilon=0.3, gamma=0.001, kernel=linear;, score=0.999 total time=   0.3s\n",
      "[CV 3/5] END C=1000, epsilon=0.3, gamma=0.001, kernel=linear;, score=0.999 total time=   0.4s\n",
      "[CV 4/5] END C=1000, epsilon=0.3, gamma=0.001, kernel=linear;, score=0.999 total time=   0.3s\n",
      "[CV 5/5] END C=1000, epsilon=0.3, gamma=0.001, kernel=linear;, score=0.999 total time=   0.3s\n"
     ]
    },
    {
     "data": {
      "text/html": [
       "<style>#sk-container-id-7 {color: black;}#sk-container-id-7 pre{padding: 0;}#sk-container-id-7 div.sk-toggleable {background-color: white;}#sk-container-id-7 label.sk-toggleable__label {cursor: pointer;display: block;width: 100%;margin-bottom: 0;padding: 0.3em;box-sizing: border-box;text-align: center;}#sk-container-id-7 label.sk-toggleable__label-arrow:before {content: \"▸\";float: left;margin-right: 0.25em;color: #696969;}#sk-container-id-7 label.sk-toggleable__label-arrow:hover:before {color: black;}#sk-container-id-7 div.sk-estimator:hover label.sk-toggleable__label-arrow:before {color: black;}#sk-container-id-7 div.sk-toggleable__content {max-height: 0;max-width: 0;overflow: hidden;text-align: left;background-color: #f0f8ff;}#sk-container-id-7 div.sk-toggleable__content pre {margin: 0.2em;color: black;border-radius: 0.25em;background-color: #f0f8ff;}#sk-container-id-7 input.sk-toggleable__control:checked~div.sk-toggleable__content {max-height: 200px;max-width: 100%;overflow: auto;}#sk-container-id-7 input.sk-toggleable__control:checked~label.sk-toggleable__label-arrow:before {content: \"▾\";}#sk-container-id-7 div.sk-estimator input.sk-toggleable__control:checked~label.sk-toggleable__label {background-color: #d4ebff;}#sk-container-id-7 div.sk-label input.sk-toggleable__control:checked~label.sk-toggleable__label {background-color: #d4ebff;}#sk-container-id-7 input.sk-hidden--visually {border: 0;clip: rect(1px 1px 1px 1px);clip: rect(1px, 1px, 1px, 1px);height: 1px;margin: -1px;overflow: hidden;padding: 0;position: absolute;width: 1px;}#sk-container-id-7 div.sk-estimator {font-family: monospace;background-color: #f0f8ff;border: 1px dotted black;border-radius: 0.25em;box-sizing: border-box;margin-bottom: 0.5em;}#sk-container-id-7 div.sk-estimator:hover {background-color: #d4ebff;}#sk-container-id-7 div.sk-parallel-item::after {content: \"\";width: 100%;border-bottom: 1px solid gray;flex-grow: 1;}#sk-container-id-7 div.sk-label:hover label.sk-toggleable__label {background-color: #d4ebff;}#sk-container-id-7 div.sk-serial::before {content: \"\";position: absolute;border-left: 1px solid gray;box-sizing: border-box;top: 0;bottom: 0;left: 50%;z-index: 0;}#sk-container-id-7 div.sk-serial {display: flex;flex-direction: column;align-items: center;background-color: white;padding-right: 0.2em;padding-left: 0.2em;position: relative;}#sk-container-id-7 div.sk-item {position: relative;z-index: 1;}#sk-container-id-7 div.sk-parallel {display: flex;align-items: stretch;justify-content: center;background-color: white;position: relative;}#sk-container-id-7 div.sk-item::before, #sk-container-id-7 div.sk-parallel-item::before {content: \"\";position: absolute;border-left: 1px solid gray;box-sizing: border-box;top: 0;bottom: 0;left: 50%;z-index: -1;}#sk-container-id-7 div.sk-parallel-item {display: flex;flex-direction: column;z-index: 1;position: relative;background-color: white;}#sk-container-id-7 div.sk-parallel-item:first-child::after {align-self: flex-end;width: 50%;}#sk-container-id-7 div.sk-parallel-item:last-child::after {align-self: flex-start;width: 50%;}#sk-container-id-7 div.sk-parallel-item:only-child::after {width: 0;}#sk-container-id-7 div.sk-dashed-wrapped {border: 1px dashed gray;margin: 0 0.4em 0.5em 0.4em;box-sizing: border-box;padding-bottom: 0.4em;background-color: white;}#sk-container-id-7 div.sk-label label {font-family: monospace;font-weight: bold;display: inline-block;line-height: 1.2em;}#sk-container-id-7 div.sk-label-container {text-align: center;}#sk-container-id-7 div.sk-container {/* jupyter's `normalize.less` sets `[hidden] { display: none; }` but bootstrap.min.css set `[hidden] { display: none !important; }` so we also need the `!important` here to be able to override the default hidden behavior on the sphinx rendered scikit-learn.org. See: https://github.com/scikit-learn/scikit-learn/issues/21755 */display: inline-block !important;position: relative;}#sk-container-id-7 div.sk-text-repr-fallback {display: none;}</style><div id=\"sk-container-id-7\" class=\"sk-top-container\"><div class=\"sk-text-repr-fallback\"><pre>GridSearchCV(cv=5, estimator=SVR(),\n",
       "             param_grid={&#x27;C&#x27;: [0.1, 1, 10, 100, 1000],\n",
       "                         &#x27;epsilon&#x27;: [0.1, 0.2, 0.3],\n",
       "                         &#x27;gamma&#x27;: [1, 0.1, 0.01, 0.001], &#x27;kernel&#x27;: [&#x27;linear&#x27;]},\n",
       "             verbose=3)</pre><b>In a Jupyter environment, please rerun this cell to show the HTML representation or trust the notebook. <br />On GitHub, the HTML representation is unable to render, please try loading this page with nbviewer.org.</b></div><div class=\"sk-container\" hidden><div class=\"sk-item sk-dashed-wrapped\"><div class=\"sk-label-container\"><div class=\"sk-label sk-toggleable\"><input class=\"sk-toggleable__control sk-hidden--visually\" id=\"sk-estimator-id-11\" type=\"checkbox\" ><label for=\"sk-estimator-id-11\" class=\"sk-toggleable__label sk-toggleable__label-arrow\">GridSearchCV</label><div class=\"sk-toggleable__content\"><pre>GridSearchCV(cv=5, estimator=SVR(),\n",
       "             param_grid={&#x27;C&#x27;: [0.1, 1, 10, 100, 1000],\n",
       "                         &#x27;epsilon&#x27;: [0.1, 0.2, 0.3],\n",
       "                         &#x27;gamma&#x27;: [1, 0.1, 0.01, 0.001], &#x27;kernel&#x27;: [&#x27;linear&#x27;]},\n",
       "             verbose=3)</pre></div></div></div><div class=\"sk-parallel\"><div class=\"sk-parallel-item\"><div class=\"sk-item\"><div class=\"sk-label-container\"><div class=\"sk-label sk-toggleable\"><input class=\"sk-toggleable__control sk-hidden--visually\" id=\"sk-estimator-id-12\" type=\"checkbox\" ><label for=\"sk-estimator-id-12\" class=\"sk-toggleable__label sk-toggleable__label-arrow\">estimator: SVR</label><div class=\"sk-toggleable__content\"><pre>SVR()</pre></div></div></div><div class=\"sk-serial\"><div class=\"sk-item\"><div class=\"sk-estimator sk-toggleable\"><input class=\"sk-toggleable__control sk-hidden--visually\" id=\"sk-estimator-id-13\" type=\"checkbox\" ><label for=\"sk-estimator-id-13\" class=\"sk-toggleable__label sk-toggleable__label-arrow\">SVR</label><div class=\"sk-toggleable__content\"><pre>SVR()</pre></div></div></div></div></div></div></div></div></div></div>"
      ],
      "text/plain": [
       "GridSearchCV(cv=5, estimator=SVR(),\n",
       "             param_grid={'C': [0.1, 1, 10, 100, 1000],\n",
       "                         'epsilon': [0.1, 0.2, 0.3],\n",
       "                         'gamma': [1, 0.1, 0.01, 0.001], 'kernel': ['linear']},\n",
       "             verbose=3)"
      ]
     },
     "execution_count": 90,
     "metadata": {},
     "output_type": "execute_result"
    }
   ],
   "source": [
    "grid.fit(X_train,y_train)"
   ]
  },
  {
   "cell_type": "code",
   "execution_count": 91,
   "id": "8603b57b",
   "metadata": {},
   "outputs": [
    {
     "data": {
      "text/html": [
       "<style>#sk-container-id-8 {color: black;}#sk-container-id-8 pre{padding: 0;}#sk-container-id-8 div.sk-toggleable {background-color: white;}#sk-container-id-8 label.sk-toggleable__label {cursor: pointer;display: block;width: 100%;margin-bottom: 0;padding: 0.3em;box-sizing: border-box;text-align: center;}#sk-container-id-8 label.sk-toggleable__label-arrow:before {content: \"▸\";float: left;margin-right: 0.25em;color: #696969;}#sk-container-id-8 label.sk-toggleable__label-arrow:hover:before {color: black;}#sk-container-id-8 div.sk-estimator:hover label.sk-toggleable__label-arrow:before {color: black;}#sk-container-id-8 div.sk-toggleable__content {max-height: 0;max-width: 0;overflow: hidden;text-align: left;background-color: #f0f8ff;}#sk-container-id-8 div.sk-toggleable__content pre {margin: 0.2em;color: black;border-radius: 0.25em;background-color: #f0f8ff;}#sk-container-id-8 input.sk-toggleable__control:checked~div.sk-toggleable__content {max-height: 200px;max-width: 100%;overflow: auto;}#sk-container-id-8 input.sk-toggleable__control:checked~label.sk-toggleable__label-arrow:before {content: \"▾\";}#sk-container-id-8 div.sk-estimator input.sk-toggleable__control:checked~label.sk-toggleable__label {background-color: #d4ebff;}#sk-container-id-8 div.sk-label input.sk-toggleable__control:checked~label.sk-toggleable__label {background-color: #d4ebff;}#sk-container-id-8 input.sk-hidden--visually {border: 0;clip: rect(1px 1px 1px 1px);clip: rect(1px, 1px, 1px, 1px);height: 1px;margin: -1px;overflow: hidden;padding: 0;position: absolute;width: 1px;}#sk-container-id-8 div.sk-estimator {font-family: monospace;background-color: #f0f8ff;border: 1px dotted black;border-radius: 0.25em;box-sizing: border-box;margin-bottom: 0.5em;}#sk-container-id-8 div.sk-estimator:hover {background-color: #d4ebff;}#sk-container-id-8 div.sk-parallel-item::after {content: \"\";width: 100%;border-bottom: 1px solid gray;flex-grow: 1;}#sk-container-id-8 div.sk-label:hover label.sk-toggleable__label {background-color: #d4ebff;}#sk-container-id-8 div.sk-serial::before {content: \"\";position: absolute;border-left: 1px solid gray;box-sizing: border-box;top: 0;bottom: 0;left: 50%;z-index: 0;}#sk-container-id-8 div.sk-serial {display: flex;flex-direction: column;align-items: center;background-color: white;padding-right: 0.2em;padding-left: 0.2em;position: relative;}#sk-container-id-8 div.sk-item {position: relative;z-index: 1;}#sk-container-id-8 div.sk-parallel {display: flex;align-items: stretch;justify-content: center;background-color: white;position: relative;}#sk-container-id-8 div.sk-item::before, #sk-container-id-8 div.sk-parallel-item::before {content: \"\";position: absolute;border-left: 1px solid gray;box-sizing: border-box;top: 0;bottom: 0;left: 50%;z-index: -1;}#sk-container-id-8 div.sk-parallel-item {display: flex;flex-direction: column;z-index: 1;position: relative;background-color: white;}#sk-container-id-8 div.sk-parallel-item:first-child::after {align-self: flex-end;width: 50%;}#sk-container-id-8 div.sk-parallel-item:last-child::after {align-self: flex-start;width: 50%;}#sk-container-id-8 div.sk-parallel-item:only-child::after {width: 0;}#sk-container-id-8 div.sk-dashed-wrapped {border: 1px dashed gray;margin: 0 0.4em 0.5em 0.4em;box-sizing: border-box;padding-bottom: 0.4em;background-color: white;}#sk-container-id-8 div.sk-label label {font-family: monospace;font-weight: bold;display: inline-block;line-height: 1.2em;}#sk-container-id-8 div.sk-label-container {text-align: center;}#sk-container-id-8 div.sk-container {/* jupyter's `normalize.less` sets `[hidden] { display: none; }` but bootstrap.min.css set `[hidden] { display: none !important; }` so we also need the `!important` here to be able to override the default hidden behavior on the sphinx rendered scikit-learn.org. See: https://github.com/scikit-learn/scikit-learn/issues/21755 */display: inline-block !important;position: relative;}#sk-container-id-8 div.sk-text-repr-fallback {display: none;}</style><div id=\"sk-container-id-8\" class=\"sk-top-container\"><div class=\"sk-text-repr-fallback\"><pre>GridSearchCV(cv=5, estimator=SVR(),\n",
       "             param_grid={&#x27;C&#x27;: [0.1, 1, 10, 100, 1000],\n",
       "                         &#x27;epsilon&#x27;: [0.1, 0.2, 0.3],\n",
       "                         &#x27;gamma&#x27;: [1, 0.1, 0.01, 0.001], &#x27;kernel&#x27;: [&#x27;linear&#x27;]},\n",
       "             verbose=3)</pre><b>In a Jupyter environment, please rerun this cell to show the HTML representation or trust the notebook. <br />On GitHub, the HTML representation is unable to render, please try loading this page with nbviewer.org.</b></div><div class=\"sk-container\" hidden><div class=\"sk-item sk-dashed-wrapped\"><div class=\"sk-label-container\"><div class=\"sk-label sk-toggleable\"><input class=\"sk-toggleable__control sk-hidden--visually\" id=\"sk-estimator-id-14\" type=\"checkbox\" ><label for=\"sk-estimator-id-14\" class=\"sk-toggleable__label sk-toggleable__label-arrow\">GridSearchCV</label><div class=\"sk-toggleable__content\"><pre>GridSearchCV(cv=5, estimator=SVR(),\n",
       "             param_grid={&#x27;C&#x27;: [0.1, 1, 10, 100, 1000],\n",
       "                         &#x27;epsilon&#x27;: [0.1, 0.2, 0.3],\n",
       "                         &#x27;gamma&#x27;: [1, 0.1, 0.01, 0.001], &#x27;kernel&#x27;: [&#x27;linear&#x27;]},\n",
       "             verbose=3)</pre></div></div></div><div class=\"sk-parallel\"><div class=\"sk-parallel-item\"><div class=\"sk-item\"><div class=\"sk-label-container\"><div class=\"sk-label sk-toggleable\"><input class=\"sk-toggleable__control sk-hidden--visually\" id=\"sk-estimator-id-15\" type=\"checkbox\" ><label for=\"sk-estimator-id-15\" class=\"sk-toggleable__label sk-toggleable__label-arrow\">estimator: SVR</label><div class=\"sk-toggleable__content\"><pre>SVR()</pre></div></div></div><div class=\"sk-serial\"><div class=\"sk-item\"><div class=\"sk-estimator sk-toggleable\"><input class=\"sk-toggleable__control sk-hidden--visually\" id=\"sk-estimator-id-16\" type=\"checkbox\" ><label for=\"sk-estimator-id-16\" class=\"sk-toggleable__label sk-toggleable__label-arrow\">SVR</label><div class=\"sk-toggleable__content\"><pre>SVR()</pre></div></div></div></div></div></div></div></div></div></div>"
      ],
      "text/plain": [
       "GridSearchCV(cv=5, estimator=SVR(),\n",
       "             param_grid={'C': [0.1, 1, 10, 100, 1000],\n",
       "                         'epsilon': [0.1, 0.2, 0.3],\n",
       "                         'gamma': [1, 0.1, 0.01, 0.001], 'kernel': ['linear']},\n",
       "             verbose=3)"
      ]
     },
     "execution_count": 91,
     "metadata": {},
     "output_type": "execute_result"
    }
   ],
   "source": [
    "grid"
   ]
  },
  {
   "cell_type": "code",
   "execution_count": 92,
   "id": "403b5de6",
   "metadata": {},
   "outputs": [],
   "source": [
    "y_pre = grid.predict(X_test)"
   ]
  },
  {
   "cell_type": "code",
   "execution_count": 94,
   "id": "807e072b",
   "metadata": {},
   "outputs": [
    {
     "data": {
      "text/plain": [
       "{'C': 1000, 'epsilon': 0.1, 'gamma': 1, 'kernel': 'linear'}"
      ]
     },
     "execution_count": 94,
     "metadata": {},
     "output_type": "execute_result"
    }
   ],
   "source": [
    "grid.best_params_"
   ]
  },
  {
   "cell_type": "code",
   "execution_count": 95,
   "id": "c882738d",
   "metadata": {},
   "outputs": [
    {
     "data": {
      "text/plain": [
       "array([-9.50386281e+01,  1.20900485e+01, -1.66849866e+01, -8.02202740e+01,\n",
       "       -1.85984386e+01, -4.67442317e+01, -9.31756273e+01, -1.22119292e+02,\n",
       "        1.17851454e+02, -7.01890567e+01,  1.39302072e+01, -3.63964729e+01,\n",
       "       -3.73901382e+01, -1.22337102e+02, -2.55946628e+01, -9.80314131e+01,\n",
       "        1.25835600e+02,  1.07674172e+02, -1.23240848e+02, -9.32583737e+01,\n",
       "       -1.99026686e+02,  3.08877719e-01,  1.15511973e+01, -1.15649475e+02,\n",
       "        8.74607459e+01, -5.05513907e+01, -7.19964728e+01,  1.22690505e+02,\n",
       "        1.13576195e+02,  4.51042396e+01, -1.56767848e+01,  6.92568286e+01,\n",
       "        5.78766777e+01, -1.79479324e+01,  4.19533492e+00, -2.16408987e+02,\n",
       "        1.93352473e+02,  4.07618715e+01,  9.50257561e+01, -1.01111414e+02,\n",
       "       -9.70561182e+01,  1.35682894e+02,  2.87450310e+01, -9.40986614e+01,\n",
       "       -7.45832249e+00, -1.05374708e+02,  5.71731074e+01, -1.32303207e+02,\n",
       "       -8.12826247e+01, -2.04398867e+02,  3.04805473e+01,  5.90467320e+00,\n",
       "        5.39003525e+01, -1.42380854e+01,  4.88360251e+01,  5.75792338e+01,\n",
       "        3.64516418e+00,  2.14767117e+01,  1.77008069e+02,  9.59888343e+01,\n",
       "       -1.57523499e+02, -2.46297916e+01, -4.13214411e+01,  8.79763834e+01,\n",
       "       -1.90995777e+02,  2.15058743e+01, -2.12540025e+02,  1.26454636e+02,\n",
       "        8.40090474e+01, -9.42869134e+01, -5.79657275e+01, -1.41719249e+02,\n",
       "        6.76024352e+01, -7.82401628e+01, -1.32780320e+01,  6.71058689e+01,\n",
       "        3.22605482e+02, -6.41445091e+01, -3.95982773e+01, -8.02662786e+01,\n",
       "       -3.74322099e+01, -1.74461747e+02, -2.26810491e+01, -1.10458643e+02,\n",
       "       -7.69791187e+00,  1.26284472e+02, -3.88909879e+01, -1.01270317e+02,\n",
       "       -2.10635600e+01,  1.17512587e+02,  6.71477264e+01,  1.60059284e+01,\n",
       "        9.99404223e+01,  6.52674955e+01, -1.68102110e+02,  9.21613905e+01,\n",
       "       -1.12184208e+02,  1.78070784e+01,  2.58274409e+01,  1.22608282e+02,\n",
       "       -8.17051342e+01, -7.85633250e+01,  1.08749074e+02, -2.21866366e+01,\n",
       "       -2.01667409e+01,  9.01697197e+01,  4.37480823e+01, -5.79093852e+01,\n",
       "       -1.15299699e+02,  4.25460848e+01, -6.60344018e+01, -5.97269988e+01,\n",
       "        1.00865855e+02,  1.16214273e+02,  2.05106708e+02,  8.04750935e+01,\n",
       "       -1.16900183e+02, -8.82997394e+01, -3.93632434e+01, -9.66133831e+01,\n",
       "        1.25037340e+02, -6.15153325e+01,  4.62991541e+01, -1.54826083e+02,\n",
       "       -2.61881047e+01,  4.60979412e+01, -1.54143218e-01, -5.91537999e+01,\n",
       "       -4.83358472e+01, -1.30874589e+01,  1.58340499e+02, -1.11407129e+02,\n",
       "       -1.14908544e+01, -3.43381089e+01,  6.19792813e+01, -5.55437085e+01,\n",
       "        7.20880069e+01,  4.79865960e+01, -4.45054565e+01, -2.73793543e+01,\n",
       "       -2.23382982e+01, -5.63667882e+01, -7.20935228e+01, -4.27143087e+01,\n",
       "       -9.27267050e+01, -6.21302751e+00, -2.12671615e+02, -1.36097157e+02,\n",
       "       -1.52843660e+00, -8.73157251e+01, -1.99993788e+01, -7.44859601e+00,\n",
       "       -9.38375555e+01, -3.48659581e+01, -6.06058731e+01,  6.51790414e+01,\n",
       "       -8.42864665e+01,  2.32102065e+00,  1.42070405e+02, -4.04143058e+01,\n",
       "       -6.01226688e+01,  1.23444399e+02, -4.55102943e+01, -8.75286620e+01,\n",
       "       -4.79154494e+01, -1.96101305e+01,  4.06519273e+01,  3.43823642e+01,\n",
       "        1.43390917e+02,  1.13683641e+02, -2.91161426e+01,  8.85674120e+01,\n",
       "        4.64305003e+01,  9.73884126e+01,  1.50035232e+01,  3.53401773e+01,\n",
       "       -1.09558447e+02,  4.54301510e+01,  1.87570970e+02, -7.17489766e+01,\n",
       "       -5.11655631e+01, -7.39628672e+01, -4.79617242e+01,  1.22867149e+02,\n",
       "        1.33516130e+02, -5.11793846e+01, -9.64390904e+01,  6.78285028e+01,\n",
       "        2.80767775e+01, -1.02243721e+02, -1.06841545e+01,  2.80589744e+01,\n",
       "       -8.93575291e+01, -5.82667357e+01,  4.70771011e+01, -2.16108489e+02,\n",
       "       -6.69911757e+01,  4.35706137e+01,  7.60245514e+01, -7.34964769e+01,\n",
       "        7.98172657e+01,  4.04399555e+01, -5.48493790e+01, -1.87159268e+02,\n",
       "       -1.38962391e+01, -1.18942153e+01, -1.14352126e+02, -2.01660207e+01,\n",
       "        1.75688230e+02,  1.57354679e+02,  7.48177642e+01,  1.21609373e+02,\n",
       "        6.51368128e+01,  4.10661781e+01,  1.18220371e+02,  5.23900429e+01,\n",
       "       -1.95915195e+02, -9.34743188e+01, -6.06537389e+00,  4.29643798e+01,\n",
       "       -1.76434684e+02, -7.11558341e+01, -1.04084158e+02, -1.73643708e+01,\n",
       "       -7.31607815e+01, -1.80356194e+02, -1.34544240e+02,  9.62085376e+01,\n",
       "        1.13181893e+01, -1.59807117e+02,  1.29578191e+02,  9.22545204e+01,\n",
       "       -1.10660959e+01, -1.17037231e+02,  4.58182311e+01,  9.89020683e+01,\n",
       "        1.01850049e+01, -1.20272481e+02, -9.50484966e+01,  3.45140968e+01,\n",
       "        1.09542282e+02, -1.35749562e+01,  1.47157906e+02,  1.39664530e+02,\n",
       "       -5.34487501e+01,  8.33017771e+01,  8.16535278e+00,  2.87723698e+01,\n",
       "        8.15108106e+01,  5.04777183e+01, -3.67182511e+01, -7.21598916e+01,\n",
       "        1.10986597e+02,  1.45959188e+02,  7.94479488e+01,  1.60412061e+01,\n",
       "       -9.89252640e+01, -2.92491070e+01, -2.72714552e+01, -1.15413871e+02,\n",
       "       -1.12951958e+02,  3.76996308e+01,  4.53410565e+01, -1.50446705e+02,\n",
       "        2.44547234e+00,  1.31249637e+02, -7.30971809e+01,  2.17770779e+01,\n",
       "       -1.68224871e+02, -2.56496206e+01, -4.15822008e+01,  4.67843076e+01,\n",
       "       -8.75449360e+01,  4.90130022e+01,  1.95718197e+02,  1.31131487e+02,\n",
       "        1.98901661e+02, -2.60180358e+01, -8.16901002e+01,  8.25658157e+00,\n",
       "       -1.62377914e+01,  1.66807587e+02,  1.78736631e+02,  4.14161989e+01,\n",
       "        8.18005989e+01, -2.10421085e+02,  8.25650207e+01,  1.14480579e+00,\n",
       "       -1.88998746e+01, -1.37094540e+02,  1.56476092e+02,  2.18007577e+02,\n",
       "       -1.25786083e+02,  4.90568394e+01, -2.98027490e+01,  9.54766939e+01,\n",
       "       -6.71826245e+01,  1.87392720e+01, -1.92993930e+02, -8.82821289e+00])"
      ]
     },
     "execution_count": 95,
     "metadata": {},
     "output_type": "execute_result"
    }
   ],
   "source": [
    "y_pre"
   ]
  },
  {
   "cell_type": "code",
   "execution_count": 96,
   "id": "dffe6939",
   "metadata": {},
   "outputs": [
    {
     "data": {
      "text/plain": [
       "0.9989117945540111"
      ]
     },
     "execution_count": 96,
     "metadata": {},
     "output_type": "execute_result"
    }
   ],
   "source": [
    "r2_score(y_test,y_pre)"
   ]
  },
  {
   "cell_type": "code",
   "execution_count": null,
   "id": "ffbdb218",
   "metadata": {},
   "outputs": [],
   "source": []
  }
 ],
 "metadata": {
  "kernelspec": {
   "display_name": "Python 3 (ipykernel)",
   "language": "python",
   "name": "python3"
  },
  "language_info": {
   "codemirror_mode": {
    "name": "ipython",
    "version": 3
   },
   "file_extension": ".py",
   "mimetype": "text/x-python",
   "name": "python",
   "nbconvert_exporter": "python",
   "pygments_lexer": "ipython3",
   "version": "3.9.7"
  }
 },
 "nbformat": 4,
 "nbformat_minor": 5
}
