{
 "cells": [
  {
   "cell_type": "code",
   "execution_count": 1,
   "id": "1cd53c29-47e9-4777-9f54-c3d7f437971d",
   "metadata": {},
   "outputs": [],
   "source": [
    "import numpy as np \n",
    "import pandas as pd"
   ]
  },
  {
   "cell_type": "code",
   "execution_count": 12,
   "id": "e0de37c9-ff90-4187-a64f-92e102ad6817",
   "metadata": {},
   "outputs": [],
   "source": [
    "class svm():\n",
    "    def __init__(self,learning_rate=0.01, lambda_param=0.01, n_iter = 1000):\n",
    "        self.lr = learning_rate\n",
    "        self.lambda_param = lambda_param\n",
    "        self.iter = n_iter\n",
    "        self.w = None\n",
    "        self.b = None\n",
    "\n",
    "    def fit(self,X_train,y_train):\n",
    "        n_sample, n_features = X_train.shape\n",
    "\n",
    "        y_ = np.where(y_train<=0, -1, 1)\n",
    "\n",
    "        self.w = np.random.randn(n_features)\n",
    "        self.b = 0\n",
    "\n",
    "        for _ in range(self.iter):\n",
    "            for idx, x_i in enumerate(X_train):\n",
    "                condition = y_[idx]*(np.dot(x_i,self.w)- self.b) >= 1\n",
    "                if condition :\n",
    "                    self.w = self.w - self.lr*(2*self.lambda_param*self.w)\n",
    "                else :\n",
    "                    self.w =  self.w - self.lr*(2*self.lambda_param*self.w - np.dot(x_i,y_[idx])) \n",
    "                    self.b  = self.b - self.lr*(y_[idx])\n",
    "\n",
    "    \n",
    "    def predict(self,X_test):\n",
    "        approx = np.dot(X_test,self.w) - self.b\n",
    "        return np.sign(approx)\n",
    "\n"
   ]
  },
  {
   "cell_type": "code",
   "execution_count": 3,
   "id": "88f98560-c61c-4e85-b8a0-5b6529e615bb",
   "metadata": {},
   "outputs": [],
   "source": [
    "from sklearn.model_selection import train_test_split\n",
    "from sklearn.datasets import make_blobs\n",
    "import matplotlib.pyplot as plt\n",
    "import seaborn as sns "
   ]
  },
  {
   "cell_type": "code",
   "execution_count": 13,
   "id": "c4c74b1c-cd19-4c5d-ba36-121962769107",
   "metadata": {
    "scrolled": true
   },
   "outputs": [
    {
     "data": {
      "text/plain": [
       "(array([[-2.98837186,  8.82862715],\n",
       "        [ 5.72293008,  3.02697174],\n",
       "        [-3.05358035,  9.12520872],\n",
       "        [ 5.461939  ,  3.86996267],\n",
       "        [ 4.86733877,  3.28031244],\n",
       "        [-2.14780202, 10.55232269],\n",
       "        [ 4.91656964,  2.80035293],\n",
       "        [ 3.08921541,  2.04173266],\n",
       "        [-2.90130578,  7.55077118],\n",
       "        [-3.34841515,  8.70507375],\n",
       "        [-2.44166942,  7.58953794],\n",
       "        [ 3.40292813,  0.65271307],\n",
       "        [-2.97867201,  9.55684617],\n",
       "        [-3.83738367,  9.21114736],\n",
       "        [ 3.95985411,  2.20542338],\n",
       "        [ 3.85662554,  1.65110817],\n",
       "        [ 4.70010905,  4.4364118 ],\n",
       "        [ 3.56898634,  2.4556421 ],\n",
       "        [ 4.69808755,  0.83019939],\n",
       "        [-2.41743685,  7.02671721],\n",
       "        [ 4.85397258,  0.72743091],\n",
       "        [ 4.44751787,  2.27471703],\n",
       "        [ 5.43091078,  1.06378223],\n",
       "        [ 5.60325497,  2.38595061],\n",
       "        [ 4.89976163,  2.75499256],\n",
       "        [-0.92998481,  9.78172086],\n",
       "        [ 4.56277713,  2.31432166],\n",
       "        [-1.6966718 , 10.37052616],\n",
       "        [ 5.1618204 ,  2.27015436],\n",
       "        [ 4.375222  ,  4.69333885],\n",
       "        [-2.743351  ,  8.78014917],\n",
       "        [-3.98771961,  8.29444192],\n",
       "        [-3.6601912 ,  9.38998415],\n",
       "        [-1.04354885,  8.78850983],\n",
       "        [-2.16557933,  7.25124597],\n",
       "        [ 5.22673593,  4.16362531],\n",
       "        [ 4.81305976,  2.35848706],\n",
       "        [-2.17793419,  9.98983126],\n",
       "        [-3.31769123,  8.51252908],\n",
       "        [-2.30033403,  7.054616  ],\n",
       "        [-1.77073104,  9.18565441],\n",
       "        [ 5.45339605,  0.74230537],\n",
       "        [ 3.66519717,  2.76025429],\n",
       "        [ 5.11311646,  1.90034077],\n",
       "        [ 4.39449072,  1.21943352],\n",
       "        [-1.03130358,  8.49601591],\n",
       "        [-2.54502366, 10.57892978],\n",
       "        [-2.21307735,  9.2753414 ],\n",
       "        [-3.6155326 ,  7.8180795 ],\n",
       "        [ 3.44857534,  2.62972329],\n",
       "        [ 4.65288073,  3.42670376],\n",
       "        [-4.23411546,  8.4519986 ],\n",
       "        [-2.97261532,  8.54855637],\n",
       "        [ 4.9976662 ,  2.53395421],\n",
       "        [-2.26723535,  7.10100588],\n",
       "        [ 5.26554618,  1.11601213],\n",
       "        [-2.41212007,  9.98293112],\n",
       "        [ 4.89742923,  1.89872377],\n",
       "        [ 3.75036441,  1.1573594 ],\n",
       "        [-2.1475616 ,  8.36916637],\n",
       "        [-2.42215055,  8.71527878],\n",
       "        [ 4.41641605,  2.68717018],\n",
       "        [-3.03895783,  9.52755356],\n",
       "        [ 2.72110762,  1.94665581],\n",
       "        [ 5.79847442,  1.15248737],\n",
       "        [ 3.7560214 ,  2.12689479],\n",
       "        [ 6.52606474,  2.1477475 ],\n",
       "        [-3.92456837,  8.59364081],\n",
       "        [ 3.0323956 ,  2.15780354],\n",
       "        [ 4.89037169,  2.31961789],\n",
       "        [-2.96983639, 10.07140835],\n",
       "        [ 3.64934251,  1.40687195],\n",
       "        [ 6.50565335,  2.4470026 ],\n",
       "        [ 5.78270165,  2.72510272],\n",
       "        [ 4.19336388,  2.82956848],\n",
       "        [ 4.47859312,  2.37722054],\n",
       "        [ 4.7395302 ,  1.46969403],\n",
       "        [-2.58120774, 10.01781903],\n",
       "        [ 3.7204546 ,  3.52310409],\n",
       "        [-2.52269485,  7.9565752 ],\n",
       "        [ 4.93295131,  1.25881827],\n",
       "        [-3.11090424, 10.86656431],\n",
       "        [-1.68665271,  7.79344248],\n",
       "        [-3.4172217 ,  7.60198243],\n",
       "        [ 3.57757512,  2.44676211],\n",
       "        [-2.62484591,  8.71318243],\n",
       "        [-3.21125072,  8.68662398],\n",
       "        [-5.12894273,  9.83618863],\n",
       "        [ 4.60516707,  0.80449165],\n",
       "        [-3.52202874,  9.32853346],\n",
       "        [ 6.04267315,  0.57131862],\n",
       "        [-3.10983631,  8.72259238],\n",
       "        [-2.18511365,  8.62920385],\n",
       "        [-3.18611962,  9.62596242],\n",
       "        [-2.85191214,  8.21200886],\n",
       "        [-1.4781981 ,  9.94556625],\n",
       "        [-1.59379551,  9.34303724],\n",
       "        [ 3.79308512,  0.45832246],\n",
       "        [-2.72886951,  9.3713987 ],\n",
       "        [-2.50408417,  8.77969899]]),\n",
       " array([0, 1, 0, 1, 1, 0, 1, 1, 0, 0, 0, 1, 0, 0, 1, 1, 1, 1, 1, 0, 1, 1,\n",
       "        1, 1, 1, 0, 1, 0, 1, 1, 0, 0, 0, 0, 0, 1, 1, 0, 0, 0, 0, 1, 1, 1,\n",
       "        1, 0, 0, 0, 0, 1, 1, 0, 0, 1, 0, 1, 0, 1, 1, 0, 0, 1, 0, 1, 1, 1,\n",
       "        1, 0, 1, 1, 0, 1, 1, 1, 1, 1, 1, 0, 1, 0, 1, 0, 0, 0, 1, 0, 0, 0,\n",
       "        1, 0, 1, 0, 0, 0, 0, 0, 0, 1, 0, 0]))"
      ]
     },
     "execution_count": 13,
     "metadata": {},
     "output_type": "execute_result"
    }
   ],
   "source": [
    "X,y = make_blobs(n_samples=100,n_features=2,centers=2,cluster_std=1.0,center_box=(-10.0, 10.0),random_state=42)\n",
    "X,y"
   ]
  },
  {
   "cell_type": "code",
   "execution_count": 14,
   "id": "2026e612-a550-46aa-8f6d-6dd86ba4f3a1",
   "metadata": {},
   "outputs": [
    {
     "data": {
      "text/plain": [
       "array([0, 1, 0, 1, 1, 0, 1, 1, 0, 0, 0, 1, 0, 0, 1, 1, 1, 1, 1, 0, 1, 1,\n",
       "       1, 1, 1, 0, 1, 0, 1, 1, 0, 0, 0, 0, 0, 1, 1, 0, 0, 0, 0, 1, 1, 1,\n",
       "       1, 0, 0, 0, 0, 1, 1, 0, 0, 1, 0, 1, 0, 1, 1, 0, 0, 1, 0, 1, 1, 1,\n",
       "       1, 0, 1, 1, 0, 1, 1, 1, 1, 1, 1, 0, 1, 0, 1, 0, 0, 0, 1, 0, 0, 0,\n",
       "       1, 0, 1, 0, 0, 0, 0, 0, 0, 1, 0, 0])"
      ]
     },
     "execution_count": 14,
     "metadata": {},
     "output_type": "execute_result"
    }
   ],
   "source": [
    "y"
   ]
  },
  {
   "cell_type": "code",
   "execution_count": 15,
   "id": "30869e6d-1478-41d1-af04-1c1a9835e8e2",
   "metadata": {},
   "outputs": [],
   "source": [
    "y_ = np.where(y>=1,1,-1)"
   ]
  },
  {
   "cell_type": "code",
   "execution_count": 16,
   "id": "55f4294c-c6c8-47b6-831e-46a1ece754ae",
   "metadata": {},
   "outputs": [
    {
     "data": {
      "text/plain": [
       "array([-1,  1, -1,  1,  1, -1,  1,  1, -1, -1, -1,  1, -1, -1,  1,  1,  1,\n",
       "        1,  1, -1,  1,  1,  1,  1,  1, -1,  1, -1,  1,  1, -1, -1, -1, -1,\n",
       "       -1,  1,  1, -1, -1, -1, -1,  1,  1,  1,  1, -1, -1, -1, -1,  1,  1,\n",
       "       -1, -1,  1, -1,  1, -1,  1,  1, -1, -1,  1, -1,  1,  1,  1,  1, -1,\n",
       "        1,  1, -1,  1,  1,  1,  1,  1,  1, -1,  1, -1,  1, -1, -1, -1,  1,\n",
       "       -1, -1, -1,  1, -1,  1, -1, -1, -1, -1, -1, -1,  1, -1, -1])"
      ]
     },
     "execution_count": 16,
     "metadata": {},
     "output_type": "execute_result"
    }
   ],
   "source": [
    "y_"
   ]
  },
  {
   "cell_type": "code",
   "execution_count": 17,
   "id": "398458a5-6f3d-451e-ac56-f5bfa786a6fb",
   "metadata": {},
   "outputs": [
    {
     "data": {
      "text/plain": [
       "((80, 2), (20, 2), (80,), (20,))"
      ]
     },
     "execution_count": 17,
     "metadata": {},
     "output_type": "execute_result"
    }
   ],
   "source": [
    "X_train, X_test, y_train, y_test = train_test_split(X, y_, test_size=0.20, random_state=42)\n",
    "X_train.shape, X_test.shape, y_train.shape, y_test.shape"
   ]
  },
  {
   "cell_type": "code",
   "execution_count": 18,
   "id": "2171db53-27b7-41cd-867a-c61e2f0e28df",
   "metadata": {},
   "outputs": [
    {
     "data": {
      "text/plain": [
       "<__main__.svm at 0x23309c813d0>"
      ]
     },
     "execution_count": 18,
     "metadata": {},
     "output_type": "execute_result"
    }
   ],
   "source": [
    "svm_ = svm()\n",
    "svm_"
   ]
  },
  {
   "cell_type": "code",
   "execution_count": 19,
   "id": "ad3d4b6b-9880-420c-9b48-8c9261cc00fd",
   "metadata": {},
   "outputs": [],
   "source": [
    "svm_.fit(X_train,y_train)"
   ]
  },
  {
   "cell_type": "code",
   "execution_count": 20,
   "id": "b7cbaf2e-b981-4d2f-ae42-85a744bbb493",
   "metadata": {},
   "outputs": [
    {
     "data": {
      "text/plain": [
       "array([-1.,  1., -1., -1.,  1., -1.,  1.,  1., -1., -1.,  1., -1.,  1.,\n",
       "       -1.,  1.,  1.,  1., -1., -1., -1.])"
      ]
     },
     "execution_count": 20,
     "metadata": {},
     "output_type": "execute_result"
    }
   ],
   "source": [
    "y_predict = svm_.predict(X_test)\n",
    "y_predict"
   ]
  },
  {
   "cell_type": "code",
   "execution_count": 21,
   "id": "0174e425-620d-436c-bf31-f817bc4a41cb",
   "metadata": {},
   "outputs": [
    {
     "data": {
      "text/plain": [
       "array([-1,  1, -1, -1,  1, -1,  1,  1, -1, -1,  1, -1,  1, -1,  1,  1,  1,\n",
       "       -1, -1, -1])"
      ]
     },
     "execution_count": 21,
     "metadata": {},
     "output_type": "execute_result"
    }
   ],
   "source": [
    "y_test"
   ]
  },
  {
   "cell_type": "code",
   "execution_count": 22,
   "id": "a66851e7-a219-42d8-af28-3ba8eace3192",
   "metadata": {},
   "outputs": [],
   "source": [
    "from sklearn.metrics import accuracy_score"
   ]
  },
  {
   "cell_type": "code",
   "execution_count": 23,
   "id": "1b5556da-e95a-4f6f-93a6-2b41aadf39f9",
   "metadata": {},
   "outputs": [
    {
     "data": {
      "text/plain": [
       "1.0"
      ]
     },
     "execution_count": 23,
     "metadata": {},
     "output_type": "execute_result"
    }
   ],
   "source": [
    "accuracy_score(y_predict,y_test)"
   ]
  },
  {
   "cell_type": "code",
   "execution_count": 24,
   "id": "da2a057e-227d-498a-908f-3908485b625b",
   "metadata": {},
   "outputs": [
    {
     "data": {
      "text/plain": [
       "1.0"
      ]
     },
     "execution_count": 24,
     "metadata": {},
     "output_type": "execute_result"
    }
   ],
   "source": [
    "accuracy_score(y_test, y_predict)"
   ]
  },
  {
   "cell_type": "code",
   "execution_count": null,
   "id": "ba7842c9-994a-47f9-9d72-8449f5a35324",
   "metadata": {},
   "outputs": [],
   "source": []
  }
 ],
 "metadata": {
  "kernelspec": {
   "display_name": "Python 3 (ipykernel)",
   "language": "python",
   "name": "python3"
  },
  "language_info": {
   "codemirror_mode": {
    "name": "ipython",
    "version": 3
   },
   "file_extension": ".py",
   "mimetype": "text/x-python",
   "name": "python",
   "nbconvert_exporter": "python",
   "pygments_lexer": "ipython3",
   "version": "3.9.13"
  },
  "widgets": {
   "application/vnd.jupyter.widget-state+json": {
    "state": {},
    "version_major": 2,
    "version_minor": 0
   }
  }
 },
 "nbformat": 4,
 "nbformat_minor": 5
}
